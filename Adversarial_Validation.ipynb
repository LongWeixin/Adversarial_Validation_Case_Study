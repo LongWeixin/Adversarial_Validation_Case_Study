{
 "cells": [
  {
   "cell_type": "markdown",
   "metadata": {},
   "source": [
    "TO DO：\n",
    "* 图文并茂\n",
    "* 文字通俗易懂\n",
    "* 需要举例子解释 什么是样本分布变化？\n",
    "* 将notebook上传到github\n",
    "* 除了微信公众号，还需要在哪些渠道放文章：微博；Medium\n",
    "* 可以投稿给 机器之心 这样的公众号吗？\n",
    "* 图片要加简短注释\n",
    "* 简介前面加一个图片，会好看一点\n",
    "* 微博关注的果壳编辑好像分享过写作经验，看看"
   ]
  },
  {
   "cell_type": "markdown",
   "metadata": {},
   "source": [
    "标题：还在用交叉验证？试试Kaggle大牛们经常用的方法 -- 对抗验证"
   ]
  },
  {
   "cell_type": "markdown",
   "metadata": {},
   "source": [
    "这个时候，交叉验证（Cross Validation）通常会失效，所以构建一个可靠的验证集（Validation），就非常重要。\n",
    "\n",
    "如果构造的验证集（Validation）不可靠，我们就无法准确地评估模型的效果，进而无法评估改进模型的方法是否有效。\n",
    "\n",
    "首先，我们如何确定样本的分布确实发生了变化呢？\n",
    "\n",
    "Kaggle上通常用到的一个方法就是：对抗验证（Adversarial Validation）。"
   ]
  },
  {
   "cell_type": "markdown",
   "metadata": {},
   "source": [
    "# 简介"
   ]
  },
  {
   "cell_type": "markdown",
   "metadata": {
    "ExecuteTime": {
     "end_time": "2019-04-25T08:41:01.220832Z",
     "start_time": "2019-04-25T08:41:01.215818Z"
    }
   },
   "source": [
    "交叉验证（Cross Validation）是建模师常用的一种用来评估模型效果的方法。\n",
    "\n",
    "在本篇文章中，我们将通过一个实例，了解到：当样本分布发生变化时，使用交叉验证，会存在问题。\n",
    "\n",
    "我们将使用「对抗验证（Adversarial Validation）」这一方法，来辨别样本的分布是否发生了变化。\n",
    "\n",
    "以及，如果样本分布发生了变化，除了交叉验证，我们有哪些更好的方法。"
   ]
  },
  {
   "cell_type": "markdown",
   "metadata": {},
   "source": [
    "## 什么是训练集、验证集、和测试集？"
   ]
  },
  {
   "cell_type": "markdown",
   "metadata": {
    "ExecuteTime": {
     "end_time": "2019-04-26T08:19:14.874656Z",
     "start_time": "2019-04-26T08:19:14.869596Z"
    }
   },
   "source": [
    "在本文中训练集、验证集、和测试集的概念如下：\n",
    "\n",
    "* 训练集：用于训练模型的样本。\n",
    "\n",
    "* 验证集：用于评估「模型效果」，以及评估「提升模型效果的方法」的样本。提升模型效果的方法通常是：调整超参数、变量工程，变量筛选等。具体来说，如果某个变量提升了模型在验证集上的效果，那么这个变量将被纳入模型。建模过程中，凡是可以提升验证集效果的方法，都可以采纳。也正因为如此，模型“看见”过验证集，所以模型在验证集上的效果是存在偏差的。\n",
    "\n",
    "* 测试集：用于评估模型效果的样本。模型没有“看见”过该样本。\n",
    "\n",
    "有必要解释吗？"
   ]
  },
  {
   "cell_type": "markdown",
   "metadata": {},
   "source": [
    "## 什么是交叉验证？"
   ]
  },
  {
   "cell_type": "markdown",
   "metadata": {},
   "source": [
    "有必要解释吗？"
   ]
  },
  {
   "cell_type": "markdown",
   "metadata": {},
   "source": [
    "## 为什么「样本分布变化」会影响模型？"
   ]
  },
  {
   "cell_type": "markdown",
   "metadata": {
    "ExecuteTime": {
     "end_time": "2019-04-24T14:20:35.857616Z",
     "start_time": "2019-04-24T14:20:35.846925Z"
    }
   },
   "source": [
    "在真实的业务场景中，我们经常会遇到「样本分布变化」的问题。\n",
    "\n",
    "当出现这样的问题时，模型在训练样本上，表现还不错。但是应用了一段时间后，效果通常会大打折扣。\n",
    "\n",
    "比如，在化妆品或者医美市场，男性的比例越来越多。基于过去的数据构建的模型，渐渐不适用于现在。\n",
    "\n",
    "又比如，在信贷场景下，因为建模样本都是通过了信用审批的客户，所以「建模样本（Sample）」和「整体（Population）」的分布存在偏差。"
   ]
  },
  {
   "cell_type": "markdown",
   "metadata": {
    "ExecuteTime": {
     "end_time": "2019-04-26T03:27:19.165668Z",
     "start_time": "2019-04-26T03:27:19.050902Z"
    }
   },
   "source": [
    "![样本分布变化](./images/Change_in_Distribution.png)"
   ]
  },
  {
   "cell_type": "markdown",
   "metadata": {},
   "source": [
    "（对上图的解释，应该修改一下格式）\n",
    "\n",
    "如上图，当我们要做一个模型，来预测人们在超市的消费习惯。\n",
    "\n",
    "如果我们的训练样本是18岁-25岁的年轻人，而测试样本是70岁以上的老人，那么我们的模型在测试样本上的表现，通常会大打折扣。"
   ]
  },
  {
   "cell_type": "markdown",
   "metadata": {
    "ExecuteTime": {
     "end_time": "2019-04-25T09:49:50.918672Z",
     "start_time": "2019-04-25T09:49:50.915679Z"
    }
   },
   "source": [
    "## 什么是对抗验证（Adversarial Validation）？"
   ]
  },
  {
   "cell_type": "markdown",
   "metadata": {
    "ExecuteTime": {
     "end_time": "2019-04-19T09:25:34.263897Z",
     "start_time": "2019-04-19T09:25:34.257934Z"
    }
   },
   "source": [
    "[对抗验证（Adversarial Validation）](http://fastml.com/adversarial-validation-part-one/)，并不是一种评估模型效果的方法，而是一种用来确认训练集（Train）和测试集（Test）的分布是否变化的方法。\n",
    "\n",
    "它的本质是，构造一个分类模型，来预测样本是训练集或测试集的概率。\n",
    "\n",
    "如果这个模型的效果不错，通常来说AUC在0.7以上，那么可以说明我们的训练集和测试集存在较大的差异。"
   ]
  },
  {
   "cell_type": "markdown",
   "metadata": {
    "ExecuteTime": {
     "end_time": "2019-04-26T07:36:44.953457Z",
     "start_time": "2019-04-26T07:36:44.479615Z"
    }
   },
   "source": [
    "![Adversarial_Validation](./images/Adversarial_Validation.png)"
   ]
  },
  {
   "cell_type": "markdown",
   "metadata": {},
   "source": [
    "如上图，仍然以「预测人们在超市的消费习惯」为例。因为训练集是18岁-25岁的年轻人，测试集是70岁以上的老人，那么通过「年龄」，我们就能够区分出训练集和测试集。\n",
    "\n",
    "（可以修改这个图片吗？我需要找到画这种图的工具）"
   ]
  },
  {
   "cell_type": "markdown",
   "metadata": {
    "ExecuteTime": {
     "end_time": "2019-04-25T00:46:22.654844Z",
     "start_time": "2019-04-25T00:46:22.644842Z"
    }
   },
   "source": [
    "# 实例"
   ]
  },
  {
   "cell_type": "markdown",
   "metadata": {},
   "source": [
    "这里，我将用一个实例来论证怎么使用对抗验证，以及在分布发生变化时做交叉验证所存在的问题。"
   ]
  },
  {
   "cell_type": "markdown",
   "metadata": {},
   "source": [
    "## 数据"
   ]
  },
  {
   "cell_type": "markdown",
   "metadata": {
    "ExecuteTime": {
     "end_time": "2019-04-25T00:46:44.650549Z",
     "start_time": "2019-04-25T00:46:44.641005Z"
    }
   },
   "source": [
    "![Microsoft Malware Prediction](./images/Microsoft_Malware_Competition.png)\n",
    "\n",
    "\n",
    "这里用到的数据来自Kaggle上的[微软恶意软件比赛](https://www.kaggle.com/c/microsoft-malware-prediction/overview)比赛来说明。\n",
    "\n",
    "这次比赛的目标是：预测电脑受到恶意软件攻击的概率。\n",
    "\n",
    "因为这次比赛的 Train 和 Test 是根据时间划分的，所以Train 和 Test 的分布非常不同，很具有代表性。\n",
    "\n",
    "如果需要完整的数据，可以从[Kaggle](https://www.kaggle.com/c/microsoft-malware-prediction/data)下载。"
   ]
  },
  {
   "cell_type": "markdown",
   "metadata": {},
   "source": [
    "## Import"
   ]
  },
  {
   "cell_type": "code",
   "execution_count": 1,
   "metadata": {
    "ExecuteTime": {
     "end_time": "2019-04-26T09:52:59.131277Z",
     "start_time": "2019-04-26T09:52:54.719664Z"
    }
   },
   "outputs": [],
   "source": [
    "import pandas as pd\n",
    "from tqdm import tqdm\n",
    "import lightgbm as lgb\n",
    "from sklearn.metrics import roc_auc_score\n",
    "from sklearn.model_selection import KFold\n",
    "\n",
    "# Memory management\n",
    "import gc\n",
    "gc.enable()\n",
    "\n",
    "# Plot\n",
    "import seaborn as sns\n",
    "import matplotlib.pyplot as plt\n",
    "plt.style.use('ggplot')\n",
    "\n",
    "# Suppress warnings\n",
    "import warnings\n",
    "warnings.filterwarnings('ignore')"
   ]
  },
  {
   "cell_type": "code",
   "execution_count": 2,
   "metadata": {
    "ExecuteTime": {
     "end_time": "2019-04-26T09:52:59.174879Z",
     "start_time": "2019-04-26T09:52:59.170637Z"
    }
   },
   "outputs": [],
   "source": [
    "# dtypes = {\n",
    "#     'MachineIdentifier':                                    'category',\n",
    "#     'ProductName':                                          'category',\n",
    "#     'EngineVersion':                                        'category',\n",
    "#     'AppVersion':                                           'category',\n",
    "#     'AvSigVersion':                                         'category',\n",
    "#     'IsBeta':                                               'int8',\n",
    "#     'RtpStateBitfield':                                     'float16',\n",
    "#     'IsSxsPassiveMode':                                     'int8',\n",
    "#     'DefaultBrowsersIdentifier':                            'float32',\n",
    "#     'AVProductStatesIdentifier':                            'float32',\n",
    "#     'AVProductsInstalled':                                  'float16',\n",
    "#     'AVProductsEnabled':                                    'float16',\n",
    "#     'HasTpm':                                               'int8',\n",
    "#     'CountryIdentifier':                                    'int16',\n",
    "#     'CityIdentifier':                                       'float32',\n",
    "#     'OrganizationIdentifier':                               'float16',\n",
    "#     'GeoNameIdentifier':                                    'float16',\n",
    "#     'LocaleEnglishNameIdentifier':                          'int16',\n",
    "#     'Platform':                                             'category',\n",
    "#     'Processor':                                            'category',\n",
    "#     'OsVer':                                                'category',\n",
    "#     'OsBuild':                                              'int16',\n",
    "#     'OsSuite':                                              'int16',\n",
    "#     'OsPlatformSubRelease':                                 'category',\n",
    "#     'OsBuildLab':                                           'category',\n",
    "#     'SkuEdition':                                           'category',\n",
    "#     'IsProtected':                                          'float16',\n",
    "#     'AutoSampleOptIn':                                      'int8',\n",
    "#     'PuaMode':                                              'category',\n",
    "#     'SMode':                                                'float16',\n",
    "#     'IeVerIdentifier':                                      'float16',\n",
    "#     'SmartScreen':                                          'category',\n",
    "#     'Firewall':                                             'float16',\n",
    "#     'UacLuaenable':                                         'float64',  # was 'float32'\n",
    "#     'Census_MDC2FormFactor':                                'category',\n",
    "#     'Census_DeviceFamily':                                  'category',\n",
    "#     'Census_OEMNameIdentifier':                             'float32',  # was 'float16'\n",
    "#     'Census_OEMModelIdentifier':                            'float32',\n",
    "#     'Census_ProcessorCoreCount':                            'float16',\n",
    "#     'Census_ProcessorManufacturerIdentifier':               'float16',\n",
    "#     'Census_ProcessorModelIdentifier':                      'float32',  # was 'float16'\n",
    "#     'Census_ProcessorClass':                                'category',\n",
    "#     'Census_PrimaryDiskTotalCapacity':                      'float64',  # was 'float32'\n",
    "#     'Census_PrimaryDiskTypeName':                           'category',\n",
    "#     'Census_SystemVolumeTotalCapacity':                     'float64',  # was 'float32'\n",
    "#     'Census_HasOpticalDiskDrive':                           'int8',\n",
    "#     'Census_TotalPhysicalRAM':                              'float32',\n",
    "#     'Census_ChassisTypeName':                               'category',\n",
    "#     'Census_InternalPrimaryDiagonalDisplaySizeInInches':    'float32',  # was 'float16'\n",
    "#     'Census_InternalPrimaryDisplayResolutionHorizontal':    'float32',  # was 'float16'\n",
    "#     'Census_InternalPrimaryDisplayResolutionVertical':      'float32',  # was 'float16'\n",
    "#     'Census_PowerPlatformRoleName':                         'category',\n",
    "#     'Census_InternalBatteryType':                           'category',\n",
    "#     'Census_InternalBatteryNumberOfCharges':                'float64',  # was 'float32'\n",
    "#     'Census_OSVersion':                                     'category',\n",
    "#     'Census_OSArchitecture':                                'category',\n",
    "#     'Census_OSBranch':                                      'category',\n",
    "#     'Census_OSBuildNumber':                                 'int16',\n",
    "#     'Census_OSBuildRevision':                               'int32',\n",
    "#     'Census_OSEdition':                                     'category',\n",
    "#     'Census_OSSkuName':                                     'category',\n",
    "#     'Census_OSInstallTypeName':                             'category',\n",
    "#     'Census_OSInstallLanguageIdentifier':                   'float16',\n",
    "#     'Census_OSUILocaleIdentifier':                          'int16',\n",
    "#     'Census_OSWUAutoUpdateOptionsName':                     'category',\n",
    "#     'Census_IsPortableOperatingSystem':                     'int8',\n",
    "#     'Census_GenuineStateName':                              'category',\n",
    "#     'Census_ActivationChannel':                             'category',\n",
    "#     'Census_IsFlightingInternal':                           'float16',\n",
    "#     'Census_IsFlightsDisabled':                             'float16',\n",
    "#     'Census_FlightRing':                                    'category',\n",
    "#     'Census_ThresholdOptIn':                                'float16',\n",
    "#     'Census_FirmwareManufacturerIdentifier':                'float16',\n",
    "#     'Census_FirmwareVersionIdentifier':                     'float32',\n",
    "#     'Census_IsSecureBootEnabled':                           'int8',\n",
    "#     'Census_IsWIMBootEnabled':                              'float16',\n",
    "#     'Census_IsVirtualDevice':                               'float16',\n",
    "#     'Census_IsTouchEnabled':                                'int8',\n",
    "#     'Census_IsPenCapable':                                  'int8',\n",
    "#     'Census_IsAlwaysOnAlwaysConnectedCapable':              'float16',\n",
    "#     'Wdft_IsGamer':                                         'float16',\n",
    "#     'Wdft_RegionIdentifier':                                'float16',\n",
    "#     'HasDetections':                                        'int8'\n",
    "# }\n",
    "\n",
    "# df_all = pd.read_csv('./input/train.csv.zip', dtype=dtypes) \n",
    "# df_all = df_all.sample(frac=0.02, random_state=123)\n",
    "# df_all.to_csv('./input/train_sample.csv', index=False)"
   ]
  },
  {
   "cell_type": "markdown",
   "metadata": {},
   "source": [
    "因为这次比赛的数据集有800万的样本，这里我仅随机抽取训练集中2%的样本（17万条），来说明问题。将不会用到任何测试集（700万）中的数据。"
   ]
  },
  {
   "cell_type": "code",
   "execution_count": 3,
   "metadata": {
    "ExecuteTime": {
     "end_time": "2019-04-26T09:53:04.687370Z",
     "start_time": "2019-04-26T09:52:59.205044Z"
    }
   },
   "outputs": [
    {
     "data": {
      "text/html": [
       "<div>\n",
       "<style scoped>\n",
       "    .dataframe tbody tr th:only-of-type {\n",
       "        vertical-align: middle;\n",
       "    }\n",
       "\n",
       "    .dataframe tbody tr th {\n",
       "        vertical-align: top;\n",
       "    }\n",
       "\n",
       "    .dataframe thead th {\n",
       "        text-align: right;\n",
       "    }\n",
       "</style>\n",
       "<table border=\"1\" class=\"dataframe\">\n",
       "  <thead>\n",
       "    <tr style=\"text-align: right;\">\n",
       "      <th></th>\n",
       "      <th>MachineIdentifier</th>\n",
       "      <th>ProductName</th>\n",
       "      <th>EngineVersion</th>\n",
       "      <th>AppVersion</th>\n",
       "      <th>AvSigVersion</th>\n",
       "      <th>IsBeta</th>\n",
       "      <th>RtpStateBitfield</th>\n",
       "      <th>IsSxsPassiveMode</th>\n",
       "      <th>DefaultBrowsersIdentifier</th>\n",
       "      <th>AVProductStatesIdentifier</th>\n",
       "      <th>...</th>\n",
       "      <th>Census_FirmwareVersionIdentifier</th>\n",
       "      <th>Census_IsSecureBootEnabled</th>\n",
       "      <th>Census_IsWIMBootEnabled</th>\n",
       "      <th>Census_IsVirtualDevice</th>\n",
       "      <th>Census_IsTouchEnabled</th>\n",
       "      <th>Census_IsPenCapable</th>\n",
       "      <th>Census_IsAlwaysOnAlwaysConnectedCapable</th>\n",
       "      <th>Wdft_IsGamer</th>\n",
       "      <th>Wdft_RegionIdentifier</th>\n",
       "      <th>HasDetections</th>\n",
       "    </tr>\n",
       "  </thead>\n",
       "  <tbody>\n",
       "    <tr>\n",
       "      <th>0</th>\n",
       "      <td>586d40804b950d0376575fdf10ee89ae</td>\n",
       "      <td>win8defender</td>\n",
       "      <td>1.1.15100.1</td>\n",
       "      <td>4.18.1806.18062</td>\n",
       "      <td>1.273.520.0</td>\n",
       "      <td>0</td>\n",
       "      <td>7.0</td>\n",
       "      <td>0</td>\n",
       "      <td>NaN</td>\n",
       "      <td>53447.0</td>\n",
       "      <td>...</td>\n",
       "      <td>27767.0</td>\n",
       "      <td>1</td>\n",
       "      <td>NaN</td>\n",
       "      <td>0.0</td>\n",
       "      <td>0</td>\n",
       "      <td>0</td>\n",
       "      <td>0.0</td>\n",
       "      <td>1.0</td>\n",
       "      <td>15.0</td>\n",
       "      <td>1.0</td>\n",
       "    </tr>\n",
       "    <tr>\n",
       "      <th>1</th>\n",
       "      <td>65fb3fae2d37f90e6b3174592f2490a8</td>\n",
       "      <td>win8defender</td>\n",
       "      <td>1.1.15200.1</td>\n",
       "      <td>4.18.1807.18075</td>\n",
       "      <td>1.275.453.0</td>\n",
       "      <td>0</td>\n",
       "      <td>7.0</td>\n",
       "      <td>0</td>\n",
       "      <td>NaN</td>\n",
       "      <td>7945.0</td>\n",
       "      <td>...</td>\n",
       "      <td>14353.0</td>\n",
       "      <td>0</td>\n",
       "      <td>NaN</td>\n",
       "      <td>0.0</td>\n",
       "      <td>0</td>\n",
       "      <td>0</td>\n",
       "      <td>0.0</td>\n",
       "      <td>0.0</td>\n",
       "      <td>10.0</td>\n",
       "      <td>0.0</td>\n",
       "    </tr>\n",
       "    <tr>\n",
       "      <th>2</th>\n",
       "      <td>c23aa37fb69e00afe2668ed150dee1ea</td>\n",
       "      <td>win8defender</td>\n",
       "      <td>1.1.15100.1</td>\n",
       "      <td>4.18.1807.18075</td>\n",
       "      <td>1.273.689.0</td>\n",
       "      <td>0</td>\n",
       "      <td>7.0</td>\n",
       "      <td>0</td>\n",
       "      <td>NaN</td>\n",
       "      <td>53447.0</td>\n",
       "      <td>...</td>\n",
       "      <td>8941.0</td>\n",
       "      <td>1</td>\n",
       "      <td>NaN</td>\n",
       "      <td>0.0</td>\n",
       "      <td>0</td>\n",
       "      <td>0</td>\n",
       "      <td>0.0</td>\n",
       "      <td>1.0</td>\n",
       "      <td>1.0</td>\n",
       "      <td>1.0</td>\n",
       "    </tr>\n",
       "    <tr>\n",
       "      <th>3</th>\n",
       "      <td>cba75d6c4d9b6533591e94b9cb8a5df5</td>\n",
       "      <td>win8defender</td>\n",
       "      <td>1.1.15200.1</td>\n",
       "      <td>4.12.16299.15</td>\n",
       "      <td>1.275.483.0</td>\n",
       "      <td>0</td>\n",
       "      <td>7.0</td>\n",
       "      <td>0</td>\n",
       "      <td>NaN</td>\n",
       "      <td>68585.0</td>\n",
       "      <td>...</td>\n",
       "      <td>46589.0</td>\n",
       "      <td>1</td>\n",
       "      <td>NaN</td>\n",
       "      <td>0.0</td>\n",
       "      <td>0</td>\n",
       "      <td>0</td>\n",
       "      <td>0.0</td>\n",
       "      <td>1.0</td>\n",
       "      <td>7.0</td>\n",
       "      <td>1.0</td>\n",
       "    </tr>\n",
       "    <tr>\n",
       "      <th>4</th>\n",
       "      <td>149746364c6b763662d03e1f263029fd</td>\n",
       "      <td>win8defender</td>\n",
       "      <td>1.1.15200.1</td>\n",
       "      <td>4.18.1807.18075</td>\n",
       "      <td>1.275.215.0</td>\n",
       "      <td>0</td>\n",
       "      <td>7.0</td>\n",
       "      <td>0</td>\n",
       "      <td>NaN</td>\n",
       "      <td>53447.0</td>\n",
       "      <td>...</td>\n",
       "      <td>52530.0</td>\n",
       "      <td>0</td>\n",
       "      <td>NaN</td>\n",
       "      <td>0.0</td>\n",
       "      <td>0</td>\n",
       "      <td>0</td>\n",
       "      <td>0.0</td>\n",
       "      <td>NaN</td>\n",
       "      <td>NaN</td>\n",
       "      <td>0.0</td>\n",
       "    </tr>\n",
       "  </tbody>\n",
       "</table>\n",
       "<p>5 rows × 83 columns</p>\n",
       "</div>"
      ],
      "text/plain": [
       "                  MachineIdentifier   ProductName EngineVersion  \\\n",
       "0  586d40804b950d0376575fdf10ee89ae  win8defender   1.1.15100.1   \n",
       "1  65fb3fae2d37f90e6b3174592f2490a8  win8defender   1.1.15200.1   \n",
       "2  c23aa37fb69e00afe2668ed150dee1ea  win8defender   1.1.15100.1   \n",
       "3  cba75d6c4d9b6533591e94b9cb8a5df5  win8defender   1.1.15200.1   \n",
       "4  149746364c6b763662d03e1f263029fd  win8defender   1.1.15200.1   \n",
       "\n",
       "        AppVersion AvSigVersion  IsBeta  RtpStateBitfield  IsSxsPassiveMode  \\\n",
       "0  4.18.1806.18062  1.273.520.0       0               7.0                 0   \n",
       "1  4.18.1807.18075  1.275.453.0       0               7.0                 0   \n",
       "2  4.18.1807.18075  1.273.689.0       0               7.0                 0   \n",
       "3    4.12.16299.15  1.275.483.0       0               7.0                 0   \n",
       "4  4.18.1807.18075  1.275.215.0       0               7.0                 0   \n",
       "\n",
       "   DefaultBrowsersIdentifier  AVProductStatesIdentifier      ...       \\\n",
       "0                        NaN                    53447.0      ...        \n",
       "1                        NaN                     7945.0      ...        \n",
       "2                        NaN                    53447.0      ...        \n",
       "3                        NaN                    68585.0      ...        \n",
       "4                        NaN                    53447.0      ...        \n",
       "\n",
       "   Census_FirmwareVersionIdentifier  Census_IsSecureBootEnabled  \\\n",
       "0                           27767.0                           1   \n",
       "1                           14353.0                           0   \n",
       "2                            8941.0                           1   \n",
       "3                           46589.0                           1   \n",
       "4                           52530.0                           0   \n",
       "\n",
       "   Census_IsWIMBootEnabled  Census_IsVirtualDevice  Census_IsTouchEnabled  \\\n",
       "0                      NaN                     0.0                      0   \n",
       "1                      NaN                     0.0                      0   \n",
       "2                      NaN                     0.0                      0   \n",
       "3                      NaN                     0.0                      0   \n",
       "4                      NaN                     0.0                      0   \n",
       "\n",
       "   Census_IsPenCapable  Census_IsAlwaysOnAlwaysConnectedCapable  Wdft_IsGamer  \\\n",
       "0                    0                                      0.0           1.0   \n",
       "1                    0                                      0.0           0.0   \n",
       "2                    0                                      0.0           1.0   \n",
       "3                    0                                      0.0           1.0   \n",
       "4                    0                                      0.0           NaN   \n",
       "\n",
       "  Wdft_RegionIdentifier HasDetections  \n",
       "0                  15.0           1.0  \n",
       "1                  10.0           0.0  \n",
       "2                   1.0           1.0  \n",
       "3                   7.0           1.0  \n",
       "4                   NaN           0.0  \n",
       "\n",
       "[5 rows x 83 columns]"
      ]
     },
     "execution_count": 3,
     "metadata": {},
     "output_type": "execute_result"
    }
   ],
   "source": [
    "df_all = pd.read_csv('./input/train_sample.csv') \n",
    "df_all.head()"
   ]
  },
  {
   "cell_type": "markdown",
   "metadata": {},
   "source": [
    "本次比赛的数据中提供了电脑的 Windows Defender（Windows系统自带的杀毒软件） 的版本号，所以我们可以通过该本版号发布的时间，粗略的推测采集该样本的时间。\n",
    "\n",
    "这里AvSigVersionTimestamps就是各个版本对应的发布时间。\n",
    "\n",
    "通过和该数据匹配，我们生成了一个新的字段 -- Date。"
   ]
  },
  {
   "cell_type": "code",
   "execution_count": 4,
   "metadata": {
    "ExecuteTime": {
     "end_time": "2019-04-26T09:53:05.223663Z",
     "start_time": "2019-04-26T09:53:05.051008Z"
    }
   },
   "outputs": [],
   "source": [
    "# IMPORT TIMESTAMP DICTIONARY\n",
    "datedict = np.load('./input/AvSigVersionTimestamps.npy')\n",
    "datedict = datedict[()]\n",
    "\n",
    "df_all['Date'] = df_all['AvSigVersion'].map(datedict)\n",
    "\n",
    "# MachineIdentifier是每台电脑的唯一识别号，对于模型的预测没有任何帮助，所以剔除。\n",
    "df_all.drop(['MachineIdentifier'], axis=1, inplace=True) "
   ]
  },
  {
   "cell_type": "markdown",
   "metadata": {},
   "source": [
    "## 数据清理"
   ]
  },
  {
   "cell_type": "markdown",
   "metadata": {},
   "source": [
    "### 去掉无意义变量"
   ]
  },
  {
   "cell_type": "markdown",
   "metadata": {},
   "source": [
    "这里无意义变量的定义是：变量中某个值（可以是空值）的占比大于99%。"
   ]
  },
  {
   "cell_type": "code",
   "execution_count": 5,
   "metadata": {
    "ExecuteTime": {
     "end_time": "2019-04-26T09:53:06.632169Z",
     "start_time": "2019-04-26T09:53:05.610901Z"
    }
   },
   "outputs": [
    {
     "name": "stdout",
     "output_type": "stream",
     "text": [
      "Data Shape:  (178430, 75)\n",
      "['IsBeta', 'AutoSampleOptIn', 'PuaMode', 'UacLuaenable', 'Census_DeviceFamily', 'Census_ProcessorClass', 'Census_IsPortableOperatingSystem', 'Census_IsVirtualDevice']\n"
     ]
    }
   ],
   "source": [
    "bad_cols = []\n",
    "for col in df_all.columns:\n",
    "    rate_train = df_all[col].value_counts(normalize=True, dropna=False).values[0]\n",
    "    if rate_train > 0.99:\n",
    "        bad_cols.append(col)\n",
    "\n",
    "df_all = df_all.drop(bad_cols, axis=1)\n",
    "\n",
    "print('Data Shape: ', df_all.shape)\n",
    "print(bad_cols)"
   ]
  },
  {
   "cell_type": "markdown",
   "metadata": {},
   "source": [
    "### 定义数据类型"
   ]
  },
  {
   "cell_type": "markdown",
   "metadata": {},
   "source": [
    "这里是通过EDA(Exploratory Data Analysis)的方式，人工判断的变量类型。\n",
    "\n",
    "总共将变量分为\n",
    "* 数值变量（true_numerical_columns）\n",
    "* 一般的分类变量（categorical_columns）\n",
    "* 类别非常多的分类变量（categorical_columns_high_car）\n",
    "\n",
    "如果你对这次比赛的细节感兴趣，可以再深入研究为什么这样判断。这里就不详细阐述原因了。"
   ]
  },
  {
   "cell_type": "code",
   "execution_count": 6,
   "metadata": {
    "ExecuteTime": {
     "end_time": "2019-04-26T09:53:07.022194Z",
     "start_time": "2019-04-26T09:53:07.015199Z"
    }
   },
   "outputs": [
    {
     "name": "stdout",
     "output_type": "stream",
     "text": [
      "['ProductName', 'EngineVersion', 'AppVersion', 'AvSigVersion', 'RtpStateBitfield', 'IsSxsPassiveMode', 'AVProductsInstalled', 'AVProductsEnabled', 'HasTpm', 'CountryIdentifier', 'OrganizationIdentifier', 'GeoNameIdentifier', 'LocaleEnglishNameIdentifier', 'Platform', 'Processor', 'OsVer', 'OsBuild', 'OsSuite', 'OsPlatformSubRelease', 'SkuEdition', 'IsProtected', 'SMode', 'IeVerIdentifier', 'SmartScreen', 'Firewall', 'Census_MDC2FormFactor', 'Census_ProcessorCoreCount', 'Census_ProcessorManufacturerIdentifier', 'Census_PrimaryDiskTypeName', 'Census_HasOpticalDiskDrive', 'Census_ChassisTypeName', 'Census_PowerPlatformRoleName', 'Census_InternalBatteryType', 'Census_OSVersion', 'Census_OSArchitecture', 'Census_OSBranch', 'Census_OSBuildNumber', 'Census_OSBuildRevision', 'Census_OSEdition', 'Census_OSSkuName', 'Census_OSInstallTypeName', 'Census_OSInstallLanguageIdentifier', 'Census_OSUILocaleIdentifier', 'Census_OSWUAutoUpdateOptionsName', 'Census_GenuineStateName', 'Census_ActivationChannel', 'Census_IsFlightingInternal', 'Census_IsFlightsDisabled', 'Census_FlightRing', 'Census_ThresholdOptIn', 'Census_IsSecureBootEnabled', 'Census_IsWIMBootEnabled', 'Census_IsTouchEnabled', 'Census_IsPenCapable', 'Census_IsAlwaysOnAlwaysConnectedCapable', 'Wdft_IsGamer', 'Wdft_RegionIdentifier']\n"
     ]
    }
   ],
   "source": [
    "true_numerical_columns = [\n",
    "    'Census_PrimaryDiskTotalCapacity', 'Census_SystemVolumeTotalCapacity',\n",
    "    'Census_TotalPhysicalRAM', 'Census_InternalBatteryNumberOfCharges'\n",
    "]\n",
    "\n",
    "categorical_columns_high_car = [\n",
    "    'Census_FirmwareVersionIdentifier', 'Census_OEMModelIdentifier',\n",
    "    'AVProductStatesIdentifier', 'Census_FirmwareManufacturerIdentifier',\n",
    "    'Census_InternalPrimaryDiagonalDisplaySizeInInches',\n",
    "    'Census_InternalPrimaryDisplayResolutionHorizontal',\n",
    "    'Census_InternalPrimaryDisplayResolutionVertical',\n",
    "    'Census_OEMNameIdentifier', 'Census_ProcessorModelIdentifier',\n",
    "    'CityIdentifier', 'DefaultBrowsersIdentifier', 'OsBuildLab'\n",
    "]\n",
    "\n",
    "categorical_columns = [\n",
    "    c for c in df_all.columns\n",
    "    if c not in (['HasDetections', 'Date'] + true_numerical_columns +\n",
    "                 categorical_columns_high_car)\n",
    "]\n",
    "print(categorical_columns)"
   ]
  },
  {
   "cell_type": "markdown",
   "metadata": {},
   "source": [
    "### 编码 -- Lebel Encoding"
   ]
  },
  {
   "cell_type": "markdown",
   "metadata": {},
   "source": [
    "因为将使用的模型是[LightGBM](https://lightgbm.readthedocs.io/en/latest/)，所以我们需要对分类变量做编码。这里用的方法是label encoding。\n",
    "\n",
    "（为什么将NAN设置为0，而不是最大值，会对模型的效果有什么样的影响呢？）"
   ]
  },
  {
   "cell_type": "code",
   "execution_count": 7,
   "metadata": {
    "ExecuteTime": {
     "end_time": "2019-04-26T09:53:07.402119Z",
     "start_time": "2019-04-26T09:53:07.398145Z"
    }
   },
   "outputs": [],
   "source": [
    "def factor_data(df, col):\n",
    "    df_labeled, _ = df[col].factorize(sort=True)\n",
    "    # MAKE SMALLEST LABEL 1, RESERVE 0\n",
    "    df_labeled += 1\n",
    "    # MAKE NAN LARGEST LABEL\n",
    "    df_labeled = np.where(df_labeled==0, df_labeled.max()+1, df_labeled)\n",
    "    df[col] = df_labeled"
   ]
  },
  {
   "cell_type": "code",
   "execution_count": 8,
   "metadata": {
    "ExecuteTime": {
     "end_time": "2019-04-26T09:53:09.590326Z",
     "start_time": "2019-04-26T09:53:07.777118Z"
    }
   },
   "outputs": [
    {
     "name": "stderr",
     "output_type": "stream",
     "text": [
      "100%|██████████████████████████████████████████████████████████████████████████████████| 69/69 [00:01<00:00, 38.24it/s]\n"
     ]
    }
   ],
   "source": [
    "for col in tqdm(categorical_columns + categorical_columns_high_car):\n",
    "    factor_data(df_all, col) "
   ]
  },
  {
   "cell_type": "markdown",
   "metadata": {},
   "source": [
    "## 拆分测试集"
   ]
  },
  {
   "cell_type": "markdown",
   "metadata": {},
   "source": [
    "因为这里只用到了训练集2%的样本，而没有用到任何测试集的数据，所以我们需要从训练集中拆分出一个测试集。\n",
    "\n",
    "因为训练集和测试集是根据时间划分的，所以我们从训练集拆分的测试集，同样也根据时间划分。"
   ]
  },
  {
   "cell_type": "code",
   "execution_count": 25,
   "metadata": {
    "ExecuteTime": {
     "end_time": "2019-04-26T10:15:35.850308Z",
     "start_time": "2019-04-26T10:15:35.824377Z"
    },
    "scrolled": true
   },
   "outputs": [
    {
     "ename": "KeyError",
     "evalue": "'Date'",
     "output_type": "error",
     "traceback": [
      "\u001b[1;31m---------------------------------------------------------------------------\u001b[0m",
      "\u001b[1;31mKeyError\u001b[0m                                  Traceback (most recent call last)",
      "\u001b[1;32m<ipython-input-25-48b7746f8ae1>\u001b[0m in \u001b[0;36m<module>\u001b[1;34m\u001b[0m\n\u001b[1;32m----> 1\u001b[1;33m \u001b[0mdf_all\u001b[0m \u001b[1;33m=\u001b[0m \u001b[0mdf_all\u001b[0m\u001b[1;33m.\u001b[0m\u001b[0msort_values\u001b[0m\u001b[1;33m(\u001b[0m\u001b[1;34m'Date'\u001b[0m\u001b[1;33m)\u001b[0m\u001b[1;33m\u001b[0m\u001b[1;33m\u001b[0m\u001b[0m\n\u001b[0m\u001b[0;32m      2\u001b[0m \u001b[0mdf_all\u001b[0m\u001b[1;33m.\u001b[0m\u001b[0mdrop\u001b[0m\u001b[1;33m(\u001b[0m\u001b[1;33m[\u001b[0m\u001b[1;34m'Date'\u001b[0m\u001b[1;33m]\u001b[0m\u001b[1;33m,\u001b[0m \u001b[0maxis\u001b[0m\u001b[1;33m=\u001b[0m\u001b[1;36m1\u001b[0m\u001b[1;33m,\u001b[0m \u001b[0minplace\u001b[0m\u001b[1;33m=\u001b[0m\u001b[1;32mTrue\u001b[0m\u001b[1;33m)\u001b[0m\u001b[1;33m\u001b[0m\u001b[1;33m\u001b[0m\u001b[0m\n\u001b[0;32m      3\u001b[0m \u001b[1;33m\u001b[0m\u001b[0m\n\u001b[0;32m      4\u001b[0m \u001b[0mdf_test\u001b[0m \u001b[1;33m=\u001b[0m \u001b[0mdf_all\u001b[0m\u001b[1;33m.\u001b[0m\u001b[0miloc\u001b[0m\u001b[1;33m[\u001b[0m\u001b[0mint\u001b[0m\u001b[1;33m(\u001b[0m\u001b[1;36m0.8\u001b[0m\u001b[1;33m*\u001b[0m\u001b[0mlen\u001b[0m\u001b[1;33m(\u001b[0m\u001b[0mdf_all\u001b[0m\u001b[1;33m)\u001b[0m\u001b[1;33m)\u001b[0m\u001b[1;33m:\u001b[0m\u001b[1;33m,\u001b[0m \u001b[1;33m]\u001b[0m\u001b[1;33m\u001b[0m\u001b[1;33m\u001b[0m\u001b[0m\n\u001b[0;32m      5\u001b[0m \u001b[0mdf_train\u001b[0m \u001b[1;33m=\u001b[0m \u001b[0mdf_all\u001b[0m\u001b[1;33m.\u001b[0m\u001b[0miloc\u001b[0m\u001b[1;33m[\u001b[0m\u001b[1;33m:\u001b[0m\u001b[0mint\u001b[0m\u001b[1;33m(\u001b[0m\u001b[1;36m0.8\u001b[0m\u001b[1;33m*\u001b[0m\u001b[0mlen\u001b[0m\u001b[1;33m(\u001b[0m\u001b[0mdf_all\u001b[0m\u001b[1;33m)\u001b[0m\u001b[1;33m)\u001b[0m\u001b[1;33m,\u001b[0m \u001b[1;33m]\u001b[0m\u001b[1;33m\u001b[0m\u001b[1;33m\u001b[0m\u001b[0m\n",
      "\u001b[1;32m~\\Anaconda3\\lib\\site-packages\\pandas\\core\\frame.py\u001b[0m in \u001b[0;36msort_values\u001b[1;34m(self, by, axis, ascending, inplace, kind, na_position)\u001b[0m\n\u001b[0;32m   4419\u001b[0m             \u001b[0mby\u001b[0m \u001b[1;33m=\u001b[0m \u001b[0mby\u001b[0m\u001b[1;33m[\u001b[0m\u001b[1;36m0\u001b[0m\u001b[1;33m]\u001b[0m\u001b[1;33m\u001b[0m\u001b[1;33m\u001b[0m\u001b[0m\n\u001b[0;32m   4420\u001b[0m             k = self._get_label_or_level_values(by, axis=axis,\n\u001b[1;32m-> 4421\u001b[1;33m                                                 stacklevel=stacklevel)\n\u001b[0m\u001b[0;32m   4422\u001b[0m \u001b[1;33m\u001b[0m\u001b[0m\n\u001b[0;32m   4423\u001b[0m             \u001b[1;32mif\u001b[0m \u001b[0misinstance\u001b[0m\u001b[1;33m(\u001b[0m\u001b[0mascending\u001b[0m\u001b[1;33m,\u001b[0m \u001b[1;33m(\u001b[0m\u001b[0mtuple\u001b[0m\u001b[1;33m,\u001b[0m \u001b[0mlist\u001b[0m\u001b[1;33m)\u001b[0m\u001b[1;33m)\u001b[0m\u001b[1;33m:\u001b[0m\u001b[1;33m\u001b[0m\u001b[1;33m\u001b[0m\u001b[0m\n",
      "\u001b[1;32m~\\Anaconda3\\lib\\site-packages\\pandas\\core\\generic.py\u001b[0m in \u001b[0;36m_get_label_or_level_values\u001b[1;34m(self, key, axis, stacklevel)\u001b[0m\n\u001b[0;32m   1380\u001b[0m             \u001b[0mvalues\u001b[0m \u001b[1;33m=\u001b[0m \u001b[0mself\u001b[0m\u001b[1;33m.\u001b[0m\u001b[0maxes\u001b[0m\u001b[1;33m[\u001b[0m\u001b[0maxis\u001b[0m\u001b[1;33m]\u001b[0m\u001b[1;33m.\u001b[0m\u001b[0mget_level_values\u001b[0m\u001b[1;33m(\u001b[0m\u001b[0mkey\u001b[0m\u001b[1;33m)\u001b[0m\u001b[1;33m.\u001b[0m\u001b[0m_values\u001b[0m\u001b[1;33m\u001b[0m\u001b[1;33m\u001b[0m\u001b[0m\n\u001b[0;32m   1381\u001b[0m         \u001b[1;32melse\u001b[0m\u001b[1;33m:\u001b[0m\u001b[1;33m\u001b[0m\u001b[1;33m\u001b[0m\u001b[0m\n\u001b[1;32m-> 1382\u001b[1;33m             \u001b[1;32mraise\u001b[0m \u001b[0mKeyError\u001b[0m\u001b[1;33m(\u001b[0m\u001b[0mkey\u001b[0m\u001b[1;33m)\u001b[0m\u001b[1;33m\u001b[0m\u001b[1;33m\u001b[0m\u001b[0m\n\u001b[0m\u001b[0;32m   1383\u001b[0m \u001b[1;33m\u001b[0m\u001b[0m\n\u001b[0;32m   1384\u001b[0m         \u001b[1;31m# Check for duplicates\u001b[0m\u001b[1;33m\u001b[0m\u001b[1;33m\u001b[0m\u001b[1;33m\u001b[0m\u001b[0m\n",
      "\u001b[1;31mKeyError\u001b[0m: 'Date'"
     ]
    }
   ],
   "source": [
    "df_all = df_all.sort_values('Date')  \n",
    "df_all.drop(['Date'], axis=1, inplace=True)"
   ]
  },
  {
   "cell_type": "code",
   "execution_count": 29,
   "metadata": {
    "ExecuteTime": {
     "end_time": "2019-04-26T10:19:19.145610Z",
     "start_time": "2019-04-26T10:19:19.127668Z"
    }
   },
   "outputs": [],
   "source": [
    "df_test = df_all.iloc[int(0.8*len(df_all)):, ]\n",
    "df_train = df_all.iloc[:int(0.8*len(df_all)), ]"
   ]
  },
  {
   "cell_type": "markdown",
   "metadata": {},
   "source": [
    "## 对抗验证（Adversarial Validatiion）"
   ]
  },
  {
   "cell_type": "markdown",
   "metadata": {
    "ExecuteTime": {
     "end_time": "2019-04-19T09:08:25.769307Z",
     "start_time": "2019-04-19T09:08:25.763303Z"
    }
   },
   "source": [
    "步骤如下：\n",
    "\n",
    "* 定义新的Y（因变量）：样本是train还是test。训练集中的样本统一标记为0，测试集则标记为1。\n",
    "* 将 Train 和 Test 合成一个数据集\n",
    "* 构造一个模型，拟合新定义的Y。\n",
    "* 观察模型效果：如果模型的AUC超过0.7，说明了 Train 和 Test 的分布存在较大的差异。"
   ]
  },
  {
   "cell_type": "code",
   "execution_count": 30,
   "metadata": {
    "ExecuteTime": {
     "end_time": "2019-04-26T10:19:47.677115Z",
     "start_time": "2019-04-26T10:19:21.503609Z"
    },
    "scrolled": true
   },
   "outputs": [
    {
     "name": "stdout",
     "output_type": "stream",
     "text": [
      "[1]\tcv_agg's auc: 0.98165 + 0.000908944\n",
      "[2]\tcv_agg's auc: 0.992039 + 0.00125035\n",
      "[3]\tcv_agg's auc: 0.997865 + 0.000240807\n",
      "[4]\tcv_agg's auc: 0.99826 + 0.000358246\n",
      "[5]\tcv_agg's auc: 0.999219 + 0.000112415\n",
      "[6]\tcv_agg's auc: 0.999383 + 4.48e-05\n",
      "[7]\tcv_agg's auc: 0.999477 + 3.4368e-05\n",
      "[8]\tcv_agg's auc: 0.999485 + 5.05065e-05\n",
      "[9]\tcv_agg's auc: 0.999507 + 4.14044e-05\n",
      "[10]\tcv_agg's auc: 0.999573 + 5.05698e-05\n",
      "[11]\tcv_agg's auc: 0.999629 + 3.29159e-05\n",
      "[12]\tcv_agg's auc: 0.999668 + 3.21742e-05\n",
      "[13]\tcv_agg's auc: 0.999689 + 2.63383e-05\n",
      "[14]\tcv_agg's auc: 0.999719 + 1.95824e-05\n",
      "[15]\tcv_agg's auc: 0.999736 + 1.23727e-05\n",
      "[16]\tcv_agg's auc: 0.999749 + 1.97004e-05\n",
      "[17]\tcv_agg's auc: 0.999769 + 1.24006e-05\n",
      "[18]\tcv_agg's auc: 0.999782 + 6.12502e-06\n",
      "[19]\tcv_agg's auc: 0.999817 + 2.00364e-05\n",
      "[20]\tcv_agg's auc: 0.999843 + 1.72728e-05\n",
      "[21]\tcv_agg's auc: 0.999855 + 2.0813e-05\n",
      "[22]\tcv_agg's auc: 0.999865 + 2.36204e-05\n",
      "[23]\tcv_agg's auc: 0.99987 + 2.35125e-05\n",
      "[24]\tcv_agg's auc: 0.999868 + 1.75984e-05\n",
      "[25]\tcv_agg's auc: 0.999885 + 2.3569e-05\n",
      "[26]\tcv_agg's auc: 0.999894 + 2.29031e-05\n",
      "[27]\tcv_agg's auc: 0.999911 + 3.39736e-05\n",
      "[28]\tcv_agg's auc: 0.999913 + 2.99683e-05\n",
      "[29]\tcv_agg's auc: 0.999918 + 3.35356e-05\n",
      "[30]\tcv_agg's auc: 0.999925 + 2.77395e-05\n",
      "[31]\tcv_agg's auc: 0.999931 + 3.36409e-05\n",
      "[32]\tcv_agg's auc: 0.99994 + 2.75488e-05\n",
      "[33]\tcv_agg's auc: 0.999941 + 2.79478e-05\n",
      "[34]\tcv_agg's auc: 0.999945 + 2.75938e-05\n",
      "[35]\tcv_agg's auc: 0.999946 + 2.77015e-05\n",
      "[36]\tcv_agg's auc: 0.999949 + 2.5044e-05\n",
      "[37]\tcv_agg's auc: 0.999951 + 2.70186e-05\n",
      "[38]\tcv_agg's auc: 0.999954 + 2.36719e-05\n",
      "[39]\tcv_agg's auc: 0.999954 + 2.39459e-05\n",
      "[40]\tcv_agg's auc: 0.99996 + 1.81601e-05\n",
      "[41]\tcv_agg's auc: 0.999962 + 1.85359e-05\n",
      "[42]\tcv_agg's auc: 0.999963 + 1.80395e-05\n",
      "[43]\tcv_agg's auc: 0.999966 + 1.57392e-05\n",
      "[44]\tcv_agg's auc: 0.999967 + 1.6041e-05\n",
      "[45]\tcv_agg's auc: 0.99997 + 1.4725e-05\n",
      "[46]\tcv_agg's auc: 0.999969 + 1.41213e-05\n",
      "[47]\tcv_agg's auc: 0.999972 + 1.36176e-05\n",
      "[48]\tcv_agg's auc: 0.999973 + 1.31727e-05\n",
      "[49]\tcv_agg's auc: 0.999973 + 1.31654e-05\n",
      "[50]\tcv_agg's auc: 0.999975 + 1.2949e-05\n",
      "[51]\tcv_agg's auc: 0.999975 + 1.33767e-05\n",
      "[52]\tcv_agg's auc: 0.999977 + 1.32031e-05\n",
      "[53]\tcv_agg's auc: 0.999979 + 1.32987e-05\n",
      "[54]\tcv_agg's auc: 0.999979 + 1.33777e-05\n",
      "[55]\tcv_agg's auc: 0.99998 + 1.32752e-05\n",
      "[56]\tcv_agg's auc: 0.999984 + 6.02947e-06\n",
      "[57]\tcv_agg's auc: 0.999984 + 5.91771e-06\n",
      "[58]\tcv_agg's auc: 0.999985 + 5.85836e-06\n",
      "[59]\tcv_agg's auc: 0.999985 + 6.29469e-06\n",
      "[60]\tcv_agg's auc: 0.999986 + 5.81344e-06\n",
      "[61]\tcv_agg's auc: 0.999987 + 5.73279e-06\n",
      "[62]\tcv_agg's auc: 0.999987 + 5.79757e-06\n",
      "[63]\tcv_agg's auc: 0.999987 + 5.84129e-06\n",
      "[64]\tcv_agg's auc: 0.999988 + 5.89699e-06\n",
      "[65]\tcv_agg's auc: 0.999988 + 6.0468e-06\n",
      "[66]\tcv_agg's auc: 0.999988 + 6.13613e-06\n",
      "[67]\tcv_agg's auc: 0.999988 + 6.26932e-06\n",
      "[68]\tcv_agg's auc: 0.999988 + 6.24193e-06\n",
      "[69]\tcv_agg's auc: 0.999988 + 6.15195e-06\n",
      "[70]\tcv_agg's auc: 0.999988 + 6.14636e-06\n",
      "[71]\tcv_agg's auc: 0.999988 + 6.17079e-06\n",
      "[72]\tcv_agg's auc: 0.999988 + 6.20447e-06\n",
      "[73]\tcv_agg's auc: 0.999989 + 6.21076e-06\n",
      "[74]\tcv_agg's auc: 0.999989 + 6.67473e-06\n",
      "[75]\tcv_agg's auc: 0.999989 + 6.67864e-06\n",
      "[76]\tcv_agg's auc: 0.999989 + 6.70605e-06\n",
      "[77]\tcv_agg's auc: 0.999989 + 6.82298e-06\n",
      "[78]\tcv_agg's auc: 0.999989 + 6.828e-06\n",
      "[79]\tcv_agg's auc: 0.999989 + 7.01943e-06\n",
      "[80]\tcv_agg's auc: 0.999989 + 6.94381e-06\n",
      "[81]\tcv_agg's auc: 0.999989 + 6.92838e-06\n",
      "[82]\tcv_agg's auc: 0.999989 + 7.33318e-06\n",
      "[83]\tcv_agg's auc: 0.999988 + 7.54855e-06\n",
      "[84]\tcv_agg's auc: 0.999988 + 7.98123e-06\n",
      "[85]\tcv_agg's auc: 0.999988 + 7.54761e-06\n",
      "[86]\tcv_agg's auc: 0.999988 + 7.72659e-06\n",
      "[87]\tcv_agg's auc: 0.999988 + 7.72271e-06\n",
      "[88]\tcv_agg's auc: 0.999988 + 7.78903e-06\n",
      "[89]\tcv_agg's auc: 0.999988 + 7.78113e-06\n",
      "[90]\tcv_agg's auc: 0.999988 + 7.76933e-06\n",
      "[91]\tcv_agg's auc: 0.999988 + 7.96543e-06\n",
      "[92]\tcv_agg's auc: 0.999988 + 7.94939e-06\n",
      "[93]\tcv_agg's auc: 0.999988 + 8.48625e-06\n",
      "[94]\tcv_agg's auc: 0.999989 + 7.84184e-06\n",
      "[95]\tcv_agg's auc: 0.999989 + 7.90101e-06\n",
      "[96]\tcv_agg's auc: 0.999988 + 8.46669e-06\n",
      "[97]\tcv_agg's auc: 0.999988 + 8.45307e-06\n",
      "[98]\tcv_agg's auc: 0.999988 + 8.44052e-06\n",
      "[99]\tcv_agg's auc: 0.999988 + 8.56673e-06\n",
      "[100]\tcv_agg's auc: 0.999988 + 8.61043e-06\n",
      "[101]\tcv_agg's auc: 0.999988 + 8.22908e-06\n",
      "[102]\tcv_agg's auc: 0.999988 + 8.27758e-06\n",
      "[103]\tcv_agg's auc: 0.999988 + 7.64341e-06\n",
      "[104]\tcv_agg's auc: 0.999988 + 7.65854e-06\n",
      "[105]\tcv_agg's auc: 0.999988 + 7.46847e-06\n",
      "[106]\tcv_agg's auc: 0.999988 + 7.48333e-06\n",
      "[107]\tcv_agg's auc: 0.999988 + 8.28616e-06\n",
      "[108]\tcv_agg's auc: 0.999988 + 8.48936e-06\n",
      "[109]\tcv_agg's auc: 0.999988 + 8.49308e-06\n",
      "[110]\tcv_agg's auc: 0.999988 + 8.46195e-06\n",
      "[111]\tcv_agg's auc: 0.999987 + 8.40413e-06\n",
      "[112]\tcv_agg's auc: 0.999987 + 8.93641e-06\n",
      "[113]\tcv_agg's auc: 0.999987 + 8.99502e-06\n",
      "[114]\tcv_agg's auc: 0.999987 + 8.75828e-06\n",
      "[115]\tcv_agg's auc: 0.999987 + 9.50469e-06\n",
      "[116]\tcv_agg's auc: 0.999987 + 9.77751e-06\n",
      "[117]\tcv_agg's auc: 0.999987 + 9.64995e-06\n",
      "[118]\tcv_agg's auc: 0.999988 + 8.3792e-06\n",
      "[119]\tcv_agg's auc: 0.999988 + 7.79389e-06\n",
      "[120]\tcv_agg's auc: 0.999988 + 7.81103e-06\n",
      "[121]\tcv_agg's auc: 0.999988 + 7.75318e-06\n",
      "[122]\tcv_agg's auc: 0.999988 + 8.32782e-06\n",
      "[123]\tcv_agg's auc: 0.999988 + 7.4911e-06\n",
      "[124]\tcv_agg's auc: 0.999988 + 7.55634e-06\n",
      "[125]\tcv_agg's auc: 0.999988 + 8.03366e-06\n",
      "[126]\tcv_agg's auc: 0.999988 + 8.00042e-06\n",
      "[127]\tcv_agg's auc: 0.999987 + 8.14997e-06\n",
      "[128]\tcv_agg's auc: 0.999987 + 8.01627e-06\n",
      "[129]\tcv_agg's auc: 0.999987 + 8.03314e-06\n",
      "[130]\tcv_agg's auc: 0.999987 + 8.0841e-06\n",
      "[131]\tcv_agg's auc: 0.999987 + 7.51522e-06\n",
      "[132]\tcv_agg's auc: 0.999987 + 7.5348e-06\n",
      "[133]\tcv_agg's auc: 0.999986 + 8.6226e-06\n",
      "[134]\tcv_agg's auc: 0.999986 + 9.12595e-06\n",
      "[135]\tcv_agg's auc: 0.999986 + 9.08376e-06\n",
      "[136]\tcv_agg's auc: 0.999986 + 9.18953e-06\n",
      "[137]\tcv_agg's auc: 0.999986 + 9.35974e-06\n",
      "[138]\tcv_agg's auc: 0.999986 + 9.52426e-06\n",
      "[139]\tcv_agg's auc: 0.999986 + 8.93555e-06\n",
      "[140]\tcv_agg's auc: 0.999986 + 8.89857e-06\n",
      "[141]\tcv_agg's auc: 0.999985 + 8.78752e-06\n",
      "[142]\tcv_agg's auc: 0.999985 + 8.74796e-06\n",
      "[143]\tcv_agg's auc: 0.999985 + 8.7714e-06\n",
      "[144]\tcv_agg's auc: 0.999985 + 8.80207e-06\n",
      "[145]\tcv_agg's auc: 0.999985 + 8.6264e-06\n",
      "[146]\tcv_agg's auc: 0.999985 + 8.19441e-06\n",
      "[147]\tcv_agg's auc: 0.999985 + 8.18041e-06\n",
      "[148]\tcv_agg's auc: 0.999985 + 8.08259e-06\n",
      "[149]\tcv_agg's auc: 0.999985 + 7.68603e-06\n",
      "[150]\tcv_agg's auc: 0.999985 + 7.65301e-06\n",
      "[151]\tcv_agg's auc: 0.999985 + 7.73815e-06\n",
      "[152]\tcv_agg's auc: 0.999985 + 7.81143e-06\n",
      "[153]\tcv_agg's auc: 0.999985 + 7.88983e-06\n",
      "[154]\tcv_agg's auc: 0.999985 + 7.9081e-06\n",
      "[155]\tcv_agg's auc: 0.999985 + 7.61065e-06\n",
      "[156]\tcv_agg's auc: 0.999984 + 7.72238e-06\n",
      "[157]\tcv_agg's auc: 0.999984 + 8.19753e-06\n",
      "[158]\tcv_agg's auc: 0.999984 + 8.25723e-06\n",
      "[159]\tcv_agg's auc: 0.999984 + 8.19145e-06\n",
      "[160]\tcv_agg's auc: 0.999984 + 8.20101e-06\n",
      "[161]\tcv_agg's auc: 0.999983 + 8.17913e-06\n",
      "[162]\tcv_agg's auc: 0.999983 + 8.08687e-06\n",
      "[163]\tcv_agg's auc: 0.999983 + 8.34629e-06\n",
      "[164]\tcv_agg's auc: 0.999983 + 8.11836e-06\n",
      "[165]\tcv_agg's auc: 0.999983 + 8.14949e-06\n",
      "[166]\tcv_agg's auc: 0.999983 + 7.93791e-06\n",
      "[167]\tcv_agg's auc: 0.999982 + 8.15021e-06\n",
      "[168]\tcv_agg's auc: 0.999982 + 8.18877e-06\n",
      "[169]\tcv_agg's auc: 0.999982 + 8.49417e-06\n",
      "[170]\tcv_agg's auc: 0.999982 + 8.87728e-06\n",
      "[171]\tcv_agg's auc: 0.999982 + 8.92678e-06\n",
      "[172]\tcv_agg's auc: 0.999982 + 8.91575e-06\n",
      "[173]\tcv_agg's auc: 0.999982 + 8.31812e-06\n",
      "[174]\tcv_agg's auc: 0.999982 + 8.63921e-06\n",
      "[175]\tcv_agg's auc: 0.999982 + 8.36063e-06\n",
      "[176]\tcv_agg's auc: 0.999982 + 8.27664e-06\n",
      "[177]\tcv_agg's auc: 0.999982 + 8.28276e-06\n",
      "[178]\tcv_agg's auc: 0.999982 + 8.67688e-06\n",
      "[179]\tcv_agg's auc: 0.999982 + 8.70108e-06\n",
      "[180]\tcv_agg's auc: 0.999982 + 7.54389e-06\n",
      "[181]\tcv_agg's auc: 0.999982 + 7.27666e-06\n",
      "[182]\tcv_agg's auc: 0.999982 + 7.08122e-06\n",
      "[183]\tcv_agg's auc: 0.999982 + 6.99515e-06\n",
      "[184]\tcv_agg's auc: 0.999982 + 6.82427e-06\n",
      "[185]\tcv_agg's auc: 0.999982 + 6.84617e-06\n",
      "[186]\tcv_agg's auc: 0.999982 + 6.8527e-06\n",
      "[187]\tcv_agg's auc: 0.999982 + 7.02892e-06\n",
      "[188]\tcv_agg's auc: 0.999982 + 6.82077e-06\n",
      "[189]\tcv_agg's auc: 0.999982 + 6.90028e-06\n",
      "[190]\tcv_agg's auc: 0.999982 + 6.67518e-06\n",
      "[191]\tcv_agg's auc: 0.999982 + 6.55818e-06\n",
      "[192]\tcv_agg's auc: 0.999982 + 6.57012e-06\n",
      "[193]\tcv_agg's auc: 0.999982 + 6.55491e-06\n"
     ]
    },
    {
     "name": "stdout",
     "output_type": "stream",
     "text": [
      "[194]\tcv_agg's auc: 0.999981 + 7.02834e-06\n",
      "[195]\tcv_agg's auc: 0.999981 + 6.87633e-06\n",
      "[196]\tcv_agg's auc: 0.999981 + 6.87354e-06\n",
      "[197]\tcv_agg's auc: 0.999982 + 6.75526e-06\n",
      "[198]\tcv_agg's auc: 0.999982 + 6.7333e-06\n",
      "[199]\tcv_agg's auc: 0.999981 + 7.08061e-06\n",
      "[200]\tcv_agg's auc: 0.999981 + 7.1276e-06\n",
      "[201]\tcv_agg's auc: 0.999981 + 6.98198e-06\n",
      "[202]\tcv_agg's auc: 0.999981 + 6.94695e-06\n",
      "[203]\tcv_agg's auc: 0.999981 + 7.22943e-06\n",
      "[204]\tcv_agg's auc: 0.99998 + 7.76649e-06\n",
      "[205]\tcv_agg's auc: 0.99998 + 7.69322e-06\n",
      "[206]\tcv_agg's auc: 0.99998 + 7.57607e-06\n",
      "[207]\tcv_agg's auc: 0.999981 + 7.53449e-06\n",
      "[208]\tcv_agg's auc: 0.999981 + 7.52494e-06\n",
      "[209]\tcv_agg's auc: 0.999981 + 7.43808e-06\n",
      "[210]\tcv_agg's auc: 0.999981 + 7.44301e-06\n",
      "[211]\tcv_agg's auc: 0.99998 + 7.38099e-06\n",
      "[212]\tcv_agg's auc: 0.99998 + 7.42687e-06\n",
      "[213]\tcv_agg's auc: 0.99998 + 7.96908e-06\n",
      "[214]\tcv_agg's auc: 0.99998 + 8.21543e-06\n",
      "[215]\tcv_agg's auc: 0.99998 + 8.11715e-06\n",
      "[216]\tcv_agg's auc: 0.99998 + 8.04836e-06\n",
      "[217]\tcv_agg's auc: 0.99998 + 7.94537e-06\n",
      "[218]\tcv_agg's auc: 0.99998 + 7.80635e-06\n",
      "[219]\tcv_agg's auc: 0.99998 + 7.73431e-06\n",
      "[220]\tcv_agg's auc: 0.999979 + 7.95462e-06\n",
      "[221]\tcv_agg's auc: 0.999979 + 8.19028e-06\n",
      "[222]\tcv_agg's auc: 0.999979 + 8.14646e-06\n",
      "[223]\tcv_agg's auc: 0.999979 + 8.20481e-06\n",
      "[224]\tcv_agg's auc: 0.999979 + 7.98794e-06\n",
      "[225]\tcv_agg's auc: 0.999979 + 7.89286e-06\n",
      "[226]\tcv_agg's auc: 0.999979 + 7.97407e-06\n",
      "[227]\tcv_agg's auc: 0.999979 + 7.8676e-06\n",
      "[228]\tcv_agg's auc: 0.999979 + 7.77781e-06\n",
      "[229]\tcv_agg's auc: 0.999979 + 7.76267e-06\n",
      "[230]\tcv_agg's auc: 0.999979 + 7.50689e-06\n",
      "[231]\tcv_agg's auc: 0.999979 + 7.48662e-06\n",
      "[232]\tcv_agg's auc: 0.999978 + 7.86064e-06\n",
      "[233]\tcv_agg's auc: 0.999978 + 7.7143e-06\n",
      "[234]\tcv_agg's auc: 0.999978 + 8.29813e-06\n",
      "[235]\tcv_agg's auc: 0.999978 + 8.24441e-06\n",
      "[236]\tcv_agg's auc: 0.999978 + 8.4029e-06\n",
      "[237]\tcv_agg's auc: 0.999978 + 8.42392e-06\n",
      "[238]\tcv_agg's auc: 0.999978 + 8.55427e-06\n",
      "[239]\tcv_agg's auc: 0.999977 + 8.70973e-06\n",
      "[240]\tcv_agg's auc: 0.999978 + 8.79999e-06\n",
      "[241]\tcv_agg's auc: 0.999978 + 8.72722e-06\n",
      "[242]\tcv_agg's auc: 0.999978 + 8.76376e-06\n",
      "[243]\tcv_agg's auc: 0.999978 + 8.73395e-06\n",
      "[244]\tcv_agg's auc: 0.999978 + 8.87008e-06\n",
      "[245]\tcv_agg's auc: 0.999978 + 9.12881e-06\n",
      "[246]\tcv_agg's auc: 0.999978 + 8.86877e-06\n",
      "[247]\tcv_agg's auc: 0.999978 + 8.95497e-06\n",
      "[248]\tcv_agg's auc: 0.999978 + 8.9264e-06\n",
      "[249]\tcv_agg's auc: 0.999977 + 9.22104e-06\n",
      "[250]\tcv_agg's auc: 0.999977 + 9.26165e-06\n",
      "[251]\tcv_agg's auc: 0.999977 + 9.32828e-06\n",
      "[252]\tcv_agg's auc: 0.999976 + 9.33155e-06\n",
      "[253]\tcv_agg's auc: 0.999976 + 9.31655e-06\n",
      "[254]\tcv_agg's auc: 0.999977 + 8.93253e-06\n",
      "[255]\tcv_agg's auc: 0.999976 + 8.98058e-06\n",
      "[256]\tcv_agg's auc: 0.999976 + 9.12479e-06\n",
      "[257]\tcv_agg's auc: 0.999976 + 9.29048e-06\n",
      "[258]\tcv_agg's auc: 0.999976 + 8.92404e-06\n",
      "[259]\tcv_agg's auc: 0.999976 + 9.23011e-06\n",
      "[260]\tcv_agg's auc: 0.999976 + 9.19585e-06\n",
      "[261]\tcv_agg's auc: 0.999976 + 9.39751e-06\n",
      "[262]\tcv_agg's auc: 0.999976 + 9.36466e-06\n",
      "[263]\tcv_agg's auc: 0.999976 + 9.38195e-06\n",
      "[264]\tcv_agg's auc: 0.999976 + 9.48511e-06\n",
      "[265]\tcv_agg's auc: 0.999976 + 9.41178e-06\n",
      "[266]\tcv_agg's auc: 0.999976 + 9.39466e-06\n",
      "[267]\tcv_agg's auc: 0.999976 + 9.37288e-06\n",
      "[268]\tcv_agg's auc: 0.999976 + 9.60551e-06\n",
      "[269]\tcv_agg's auc: 0.999976 + 9.66286e-06\n",
      "[270]\tcv_agg's auc: 0.999976 + 9.86527e-06\n",
      "[271]\tcv_agg's auc: 0.999976 + 9.88815e-06\n",
      "[272]\tcv_agg's auc: 0.999976 + 9.56665e-06\n",
      "[273]\tcv_agg's auc: 0.999976 + 9.50776e-06\n",
      "[274]\tcv_agg's auc: 0.999976 + 9.64028e-06\n",
      "[275]\tcv_agg's auc: 0.999976 + 9.42351e-06\n",
      "[276]\tcv_agg's auc: 0.999976 + 9.03183e-06\n",
      "[277]\tcv_agg's auc: 0.999976 + 8.85385e-06\n",
      "[278]\tcv_agg's auc: 0.999975 + 9.14405e-06\n",
      "[279]\tcv_agg's auc: 0.999975 + 9.30124e-06\n",
      "[280]\tcv_agg's auc: 0.999976 + 9.38561e-06\n",
      "[281]\tcv_agg's auc: 0.999975 + 9.5629e-06\n",
      "交叉验证中最优的AUC为 0.99999，对应的标准差为0.00001.\n",
      "模型最优的迭代次数为81.\n"
     ]
    }
   ],
   "source": [
    "# 定义新的Y\n",
    "df_train['Is_Test'] = 0\n",
    "df_test['Is_Test'] = 1\n",
    "\n",
    "# 将 Train 和 Test 合成一个数据集。HasDetections是数据本来的Y，所以剔除。\n",
    "df_adv = pd.concat([df_train, df_test])\n",
    "\n",
    "adv_data = lgb.Dataset(\n",
    "    data=df_adv.drop('Is_Test', axis=1), label=df_adv.loc[:, 'Is_Test'])\n",
    "\n",
    "# 定义模型参数\n",
    "params = {\n",
    "    'boosting_type': 'gbdt',\n",
    "    'colsample_bytree': 1,\n",
    "    'learning_rate': 0.1,\n",
    "    'max_depth': 5,\n",
    "    'min_child_samples': 100,\n",
    "    'min_child_weight': 1,\n",
    "    'min_split_gain': 0.0,\n",
    "    'num_leaves': 20,\n",
    "    'objective': 'binary',\n",
    "    'random_state': 50,\n",
    "    'subsample': 1.0,\n",
    "    'subsample_freq': 0,\n",
    "    'metric': 'auc',\n",
    "    'num_threads': 8\n",
    "}\n",
    "\n",
    "# 交叉验证\n",
    "adv_cv_results = lgb.cv(\n",
    "    params,\n",
    "    adv_data,\n",
    "    num_boost_round=10000,\n",
    "    nfold=5,\n",
    "    categorical_feature=categorical_columns,\n",
    "    early_stopping_rounds=200,\n",
    "    verbose_eval=True,\n",
    "    seed=42)\n",
    "\n",
    "print('交叉验证中最优的AUC为 {:.5f}，对应的标准差为{:.5f}.'.format(\n",
    "    adv_cv_results['auc-mean'][-1], adv_cv_results['auc-stdv'][-1]))\n",
    "\n",
    "print('模型最优的迭代次数为{}.'.format(len(adv_cv_results['auc-mean'])))"
   ]
  },
  {
   "cell_type": "markdown",
   "metadata": {},
   "source": [
    "通过对抗验证，我们发现模型的AUC达到了0.99。说明本次比赛的训练集和测试集的样本分布存在较大的差异。"
   ]
  },
  {
   "cell_type": "code",
   "execution_count": 31,
   "metadata": {
    "ExecuteTime": {
     "end_time": "2019-04-26T10:19:56.121255Z",
     "start_time": "2019-04-26T10:19:52.311288Z"
    }
   },
   "outputs": [
    {
     "name": "stdout",
     "output_type": "stream",
     "text": [
      "The baseline model scores 0.99820 ROC AUC on the oot set.\n"
     ]
    }
   ],
   "source": [
    "params['n_estimators'] = len(adv_cv_results['auc-mean'])\n",
    "\n",
    "model_adv = lgb.LGBMClassifier(**params)\n",
    "model_adv.fit(df_adv.drop('Is_Test', axis=1), df_adv.loc[:, 'Is_Test'])\n",
    "\n",
    "# AUC\n",
    "preds_adv = model_adv.predict_proba(df_adv.drop('Is_Test', axis=1))[:, 1]\n",
    "auc_test_cv = roc_auc_score(df_adv.loc[:, 'Is_Test'], preds_adv)\n",
    "print('The baseline model scores {:.5f} ROC AUC on the oot set.'.format(\n",
    "    auc_test_cv))"
   ]
  },
  {
   "cell_type": "markdown",
   "metadata": {
    "ExecuteTime": {
     "end_time": "2019-04-25T08:46:01.150039Z",
     "start_time": "2019-04-25T08:46:01.146049Z"
    }
   },
   "source": [
    "## 交叉验证（Cross Validation）"
   ]
  },
  {
   "cell_type": "markdown",
   "metadata": {},
   "source": [
    "现在我们知道了训练集和测试集的分布存在很大的差异。那么接下来，我们采用交叉验证的方法，来评估模型的效果。"
   ]
  },
  {
   "cell_type": "code",
   "execution_count": 11,
   "metadata": {
    "ExecuteTime": {
     "end_time": "2019-04-26T09:54:03.431047Z",
     "start_time": "2019-04-26T09:53:39.400814Z"
    },
    "scrolled": true
   },
   "outputs": [
    {
     "name": "stdout",
     "output_type": "stream",
     "text": [
      "[1]\tcv_agg's auc: 0.673633 + 0.00264353\n",
      "[2]\tcv_agg's auc: 0.678882 + 0.0044727\n",
      "[3]\tcv_agg's auc: 0.6815 + 0.00346469\n",
      "[4]\tcv_agg's auc: 0.682948 + 0.00386172\n",
      "[5]\tcv_agg's auc: 0.684683 + 0.00415183\n",
      "[6]\tcv_agg's auc: 0.686288 + 0.00342958\n",
      "[7]\tcv_agg's auc: 0.687548 + 0.00316655\n",
      "[8]\tcv_agg's auc: 0.688257 + 0.0034225\n",
      "[9]\tcv_agg's auc: 0.689065 + 0.00333237\n",
      "[10]\tcv_agg's auc: 0.690081 + 0.00332501\n",
      "[11]\tcv_agg's auc: 0.690898 + 0.00355812\n",
      "[12]\tcv_agg's auc: 0.691641 + 0.00343357\n",
      "[13]\tcv_agg's auc: 0.692108 + 0.00359949\n",
      "[14]\tcv_agg's auc: 0.692707 + 0.00384956\n",
      "[15]\tcv_agg's auc: 0.693462 + 0.00350975\n",
      "[16]\tcv_agg's auc: 0.693576 + 0.00338896\n",
      "[17]\tcv_agg's auc: 0.693801 + 0.00324963\n",
      "[18]\tcv_agg's auc: 0.694156 + 0.00326456\n",
      "[19]\tcv_agg's auc: 0.694611 + 0.00338037\n",
      "[20]\tcv_agg's auc: 0.694983 + 0.00315375\n",
      "[21]\tcv_agg's auc: 0.695084 + 0.00318677\n",
      "[22]\tcv_agg's auc: 0.695499 + 0.00336445\n",
      "[23]\tcv_agg's auc: 0.695954 + 0.00323137\n",
      "[24]\tcv_agg's auc: 0.696359 + 0.00325667\n",
      "[25]\tcv_agg's auc: 0.69658 + 0.00328654\n",
      "[26]\tcv_agg's auc: 0.696965 + 0.00339789\n",
      "[27]\tcv_agg's auc: 0.697229 + 0.00357045\n",
      "[28]\tcv_agg's auc: 0.69756 + 0.00342715\n",
      "[29]\tcv_agg's auc: 0.697696 + 0.00352011\n",
      "[30]\tcv_agg's auc: 0.697998 + 0.00356641\n",
      "[31]\tcv_agg's auc: 0.69808 + 0.0036016\n",
      "[32]\tcv_agg's auc: 0.698349 + 0.00350176\n",
      "[33]\tcv_agg's auc: 0.698469 + 0.0034933\n",
      "[34]\tcv_agg's auc: 0.69862 + 0.00339365\n",
      "[35]\tcv_agg's auc: 0.69875 + 0.00342138\n",
      "[36]\tcv_agg's auc: 0.698807 + 0.00346787\n",
      "[37]\tcv_agg's auc: 0.698884 + 0.00351071\n",
      "[38]\tcv_agg's auc: 0.699025 + 0.003538\n",
      "[39]\tcv_agg's auc: 0.699182 + 0.00354623\n",
      "[40]\tcv_agg's auc: 0.699227 + 0.00358128\n",
      "[41]\tcv_agg's auc: 0.699343 + 0.00356174\n",
      "[42]\tcv_agg's auc: 0.699612 + 0.00345345\n",
      "[43]\tcv_agg's auc: 0.699694 + 0.00342941\n",
      "[44]\tcv_agg's auc: 0.699818 + 0.00339407\n",
      "[45]\tcv_agg's auc: 0.699863 + 0.00338477\n",
      "[46]\tcv_agg's auc: 0.699966 + 0.00334386\n",
      "[47]\tcv_agg's auc: 0.700059 + 0.00331048\n",
      "[48]\tcv_agg's auc: 0.70003 + 0.00335559\n",
      "[49]\tcv_agg's auc: 0.700103 + 0.00338954\n",
      "[50]\tcv_agg's auc: 0.700203 + 0.00331302\n",
      "[51]\tcv_agg's auc: 0.700162 + 0.00325186\n",
      "[52]\tcv_agg's auc: 0.700228 + 0.00318447\n",
      "[53]\tcv_agg's auc: 0.700304 + 0.00325565\n",
      "[54]\tcv_agg's auc: 0.700252 + 0.00328644\n",
      "[55]\tcv_agg's auc: 0.700379 + 0.00324402\n",
      "[56]\tcv_agg's auc: 0.700378 + 0.00327891\n",
      "[57]\tcv_agg's auc: 0.700292 + 0.00330401\n",
      "[58]\tcv_agg's auc: 0.700438 + 0.00318278\n",
      "[59]\tcv_agg's auc: 0.700546 + 0.00336406\n",
      "[60]\tcv_agg's auc: 0.700584 + 0.0033719\n",
      "[61]\tcv_agg's auc: 0.700725 + 0.0033445\n",
      "[62]\tcv_agg's auc: 0.700772 + 0.00343886\n",
      "[63]\tcv_agg's auc: 0.700788 + 0.00347481\n",
      "[64]\tcv_agg's auc: 0.700769 + 0.00351366\n",
      "[65]\tcv_agg's auc: 0.700899 + 0.00338477\n",
      "[66]\tcv_agg's auc: 0.700897 + 0.00341933\n",
      "[67]\tcv_agg's auc: 0.701017 + 0.0034157\n",
      "[68]\tcv_agg's auc: 0.700981 + 0.0034071\n",
      "[69]\tcv_agg's auc: 0.700975 + 0.00344381\n",
      "[70]\tcv_agg's auc: 0.701112 + 0.00340686\n",
      "[71]\tcv_agg's auc: 0.701131 + 0.00338689\n",
      "[72]\tcv_agg's auc: 0.701136 + 0.00339015\n",
      "[73]\tcv_agg's auc: 0.701153 + 0.0034072\n",
      "[74]\tcv_agg's auc: 0.701101 + 0.00343311\n",
      "[75]\tcv_agg's auc: 0.701001 + 0.00341437\n",
      "[76]\tcv_agg's auc: 0.70105 + 0.00331782\n",
      "[77]\tcv_agg's auc: 0.700992 + 0.00335204\n",
      "[78]\tcv_agg's auc: 0.701033 + 0.00333385\n",
      "[79]\tcv_agg's auc: 0.701076 + 0.00336434\n",
      "[80]\tcv_agg's auc: 0.701174 + 0.00331195\n",
      "[81]\tcv_agg's auc: 0.701182 + 0.00326902\n",
      "[82]\tcv_agg's auc: 0.701209 + 0.00331108\n",
      "[83]\tcv_agg's auc: 0.70125 + 0.00331921\n",
      "[84]\tcv_agg's auc: 0.701208 + 0.00326411\n",
      "[85]\tcv_agg's auc: 0.701183 + 0.00326061\n",
      "[86]\tcv_agg's auc: 0.701226 + 0.00323703\n",
      "[87]\tcv_agg's auc: 0.701149 + 0.00319068\n",
      "[88]\tcv_agg's auc: 0.701123 + 0.00323647\n",
      "[89]\tcv_agg's auc: 0.701109 + 0.00320496\n",
      "[90]\tcv_agg's auc: 0.701133 + 0.00324268\n",
      "[91]\tcv_agg's auc: 0.701115 + 0.00323294\n",
      "[92]\tcv_agg's auc: 0.701106 + 0.00317654\n",
      "[93]\tcv_agg's auc: 0.701087 + 0.00311981\n",
      "[94]\tcv_agg's auc: 0.701072 + 0.00315255\n",
      "[95]\tcv_agg's auc: 0.701062 + 0.00316005\n",
      "[96]\tcv_agg's auc: 0.701029 + 0.00319127\n",
      "[97]\tcv_agg's auc: 0.701057 + 0.00318835\n",
      "[98]\tcv_agg's auc: 0.701101 + 0.0031429\n",
      "[99]\tcv_agg's auc: 0.7011 + 0.00313454\n",
      "[100]\tcv_agg's auc: 0.701129 + 0.00310176\n",
      "[101]\tcv_agg's auc: 0.701174 + 0.00297838\n",
      "[102]\tcv_agg's auc: 0.701151 + 0.00296597\n",
      "[103]\tcv_agg's auc: 0.70117 + 0.0029662\n",
      "[104]\tcv_agg's auc: 0.701111 + 0.00289903\n",
      "[105]\tcv_agg's auc: 0.701149 + 0.00292974\n",
      "[106]\tcv_agg's auc: 0.701153 + 0.00290347\n",
      "[107]\tcv_agg's auc: 0.701169 + 0.00294043\n",
      "[108]\tcv_agg's auc: 0.701147 + 0.00290414\n",
      "[109]\tcv_agg's auc: 0.701164 + 0.00291972\n",
      "[110]\tcv_agg's auc: 0.701109 + 0.00290064\n",
      "[111]\tcv_agg's auc: 0.701084 + 0.00294288\n",
      "[112]\tcv_agg's auc: 0.701089 + 0.00293765\n",
      "[113]\tcv_agg's auc: 0.701046 + 0.00299211\n",
      "[114]\tcv_agg's auc: 0.700981 + 0.0030236\n",
      "[115]\tcv_agg's auc: 0.700987 + 0.0030217\n",
      "[116]\tcv_agg's auc: 0.700959 + 0.00296739\n",
      "[117]\tcv_agg's auc: 0.70099 + 0.00296229\n",
      "[118]\tcv_agg's auc: 0.700984 + 0.0029608\n",
      "[119]\tcv_agg's auc: 0.700989 + 0.00292868\n",
      "[120]\tcv_agg's auc: 0.700942 + 0.00291095\n",
      "[121]\tcv_agg's auc: 0.700936 + 0.00290913\n",
      "[122]\tcv_agg's auc: 0.700909 + 0.00296018\n",
      "[123]\tcv_agg's auc: 0.700877 + 0.00290253\n",
      "[124]\tcv_agg's auc: 0.700874 + 0.00284033\n",
      "[125]\tcv_agg's auc: 0.700902 + 0.00281729\n",
      "[126]\tcv_agg's auc: 0.700895 + 0.00283895\n",
      "[127]\tcv_agg's auc: 0.700892 + 0.0028164\n",
      "[128]\tcv_agg's auc: 0.700849 + 0.00287878\n",
      "[129]\tcv_agg's auc: 0.700874 + 0.00286246\n",
      "[130]\tcv_agg's auc: 0.700847 + 0.00288829\n",
      "[131]\tcv_agg's auc: 0.700883 + 0.00294468\n",
      "[132]\tcv_agg's auc: 0.700878 + 0.00293149\n",
      "[133]\tcv_agg's auc: 0.70088 + 0.00289346\n",
      "[134]\tcv_agg's auc: 0.700858 + 0.00289671\n",
      "[135]\tcv_agg's auc: 0.700832 + 0.00293129\n",
      "[136]\tcv_agg's auc: 0.70086 + 0.0029757\n",
      "[137]\tcv_agg's auc: 0.700858 + 0.00291195\n",
      "[138]\tcv_agg's auc: 0.700806 + 0.00292482\n",
      "[139]\tcv_agg's auc: 0.700869 + 0.00297183\n",
      "[140]\tcv_agg's auc: 0.700891 + 0.0029654\n",
      "[141]\tcv_agg's auc: 0.700858 + 0.00296782\n",
      "[142]\tcv_agg's auc: 0.700866 + 0.00296406\n",
      "[143]\tcv_agg's auc: 0.70083 + 0.00293255\n",
      "[144]\tcv_agg's auc: 0.700824 + 0.00295745\n",
      "[145]\tcv_agg's auc: 0.700812 + 0.00293608\n",
      "[146]\tcv_agg's auc: 0.700789 + 0.00296978\n",
      "[147]\tcv_agg's auc: 0.700761 + 0.00294467\n",
      "[148]\tcv_agg's auc: 0.700658 + 0.00294553\n",
      "[149]\tcv_agg's auc: 0.700647 + 0.00299533\n",
      "[150]\tcv_agg's auc: 0.700609 + 0.00299581\n",
      "[151]\tcv_agg's auc: 0.700646 + 0.00297492\n",
      "[152]\tcv_agg's auc: 0.700623 + 0.00297075\n",
      "[153]\tcv_agg's auc: 0.700602 + 0.00297715\n",
      "[154]\tcv_agg's auc: 0.700588 + 0.00294226\n",
      "[155]\tcv_agg's auc: 0.700566 + 0.00299404\n",
      "[156]\tcv_agg's auc: 0.700535 + 0.00297512\n",
      "[157]\tcv_agg's auc: 0.700478 + 0.00293839\n",
      "[158]\tcv_agg's auc: 0.700497 + 0.00291101\n",
      "[159]\tcv_agg's auc: 0.700483 + 0.00290147\n",
      "[160]\tcv_agg's auc: 0.700483 + 0.00289852\n",
      "[161]\tcv_agg's auc: 0.700458 + 0.00294698\n",
      "[162]\tcv_agg's auc: 0.70047 + 0.00300946\n",
      "[163]\tcv_agg's auc: 0.700472 + 0.00301395\n",
      "[164]\tcv_agg's auc: 0.700419 + 0.00305833\n",
      "[165]\tcv_agg's auc: 0.700434 + 0.00304832\n",
      "[166]\tcv_agg's auc: 0.700421 + 0.00307852\n",
      "[167]\tcv_agg's auc: 0.700471 + 0.00311679\n",
      "[168]\tcv_agg's auc: 0.700469 + 0.00313218\n",
      "[169]\tcv_agg's auc: 0.700495 + 0.00310976\n",
      "[170]\tcv_agg's auc: 0.700508 + 0.00311422\n",
      "[171]\tcv_agg's auc: 0.700485 + 0.00310086\n",
      "[172]\tcv_agg's auc: 0.700527 + 0.00314009\n",
      "[173]\tcv_agg's auc: 0.700512 + 0.00314813\n",
      "[174]\tcv_agg's auc: 0.700502 + 0.00316346\n",
      "[175]\tcv_agg's auc: 0.700489 + 0.00318783\n",
      "[176]\tcv_agg's auc: 0.700441 + 0.00317715\n",
      "[177]\tcv_agg's auc: 0.700371 + 0.00321688\n",
      "[178]\tcv_agg's auc: 0.70035 + 0.00323688\n",
      "[179]\tcv_agg's auc: 0.700326 + 0.00327194\n",
      "[180]\tcv_agg's auc: 0.700264 + 0.00329025\n",
      "[181]\tcv_agg's auc: 0.700251 + 0.00327654\n",
      "[182]\tcv_agg's auc: 0.700219 + 0.0032518\n",
      "[183]\tcv_agg's auc: 0.700189 + 0.0032807\n",
      "[184]\tcv_agg's auc: 0.700182 + 0.00329572\n",
      "[185]\tcv_agg's auc: 0.700166 + 0.00334994\n",
      "[186]\tcv_agg's auc: 0.700144 + 0.00334942\n",
      "[187]\tcv_agg's auc: 0.700132 + 0.00329751\n",
      "[188]\tcv_agg's auc: 0.700063 + 0.00328442\n",
      "[189]\tcv_agg's auc: 0.700055 + 0.00328656\n",
      "[190]\tcv_agg's auc: 0.7001 + 0.00324145\n",
      "[191]\tcv_agg's auc: 0.700063 + 0.00328936\n",
      "[192]\tcv_agg's auc: 0.700065 + 0.00325193\n",
      "[193]\tcv_agg's auc: 0.700055 + 0.00326446\n",
      "[194]\tcv_agg's auc: 0.700038 + 0.00329103\n",
      "[195]\tcv_agg's auc: 0.70003 + 0.00328094\n",
      "[196]\tcv_agg's auc: 0.700042 + 0.00325946\n",
      "[197]\tcv_agg's auc: 0.699926 + 0.00327571\n",
      "[198]\tcv_agg's auc: 0.699902 + 0.00328338\n"
     ]
    },
    {
     "name": "stdout",
     "output_type": "stream",
     "text": [
      "[199]\tcv_agg's auc: 0.699885 + 0.00327966\n",
      "[200]\tcv_agg's auc: 0.699857 + 0.00331391\n",
      "[201]\tcv_agg's auc: 0.699831 + 0.00324778\n",
      "[202]\tcv_agg's auc: 0.699808 + 0.00326731\n",
      "[203]\tcv_agg's auc: 0.699804 + 0.00324742\n",
      "[204]\tcv_agg's auc: 0.6998 + 0.00319918\n",
      "[205]\tcv_agg's auc: 0.699855 + 0.00312026\n",
      "[206]\tcv_agg's auc: 0.699798 + 0.00315149\n",
      "[207]\tcv_agg's auc: 0.699728 + 0.00318658\n",
      "[208]\tcv_agg's auc: 0.699686 + 0.00320801\n",
      "[209]\tcv_agg's auc: 0.699676 + 0.0031589\n",
      "[210]\tcv_agg's auc: 0.699594 + 0.00315818\n",
      "[211]\tcv_agg's auc: 0.699614 + 0.00317993\n",
      "[212]\tcv_agg's auc: 0.699625 + 0.00321704\n",
      "[213]\tcv_agg's auc: 0.699587 + 0.00327078\n",
      "[214]\tcv_agg's auc: 0.699605 + 0.00327879\n",
      "[215]\tcv_agg's auc: 0.699609 + 0.00328098\n",
      "[216]\tcv_agg's auc: 0.699577 + 0.00326227\n",
      "[217]\tcv_agg's auc: 0.699575 + 0.00330303\n",
      "[218]\tcv_agg's auc: 0.699573 + 0.00333707\n",
      "[219]\tcv_agg's auc: 0.699552 + 0.00333701\n",
      "[220]\tcv_agg's auc: 0.699537 + 0.00333112\n",
      "[221]\tcv_agg's auc: 0.69952 + 0.00331969\n",
      "[222]\tcv_agg's auc: 0.699492 + 0.00331861\n",
      "[223]\tcv_agg's auc: 0.699499 + 0.00328995\n",
      "[224]\tcv_agg's auc: 0.699516 + 0.00329846\n",
      "[225]\tcv_agg's auc: 0.699505 + 0.00331413\n",
      "[226]\tcv_agg's auc: 0.69943 + 0.00335305\n",
      "[227]\tcv_agg's auc: 0.699387 + 0.00336037\n",
      "[228]\tcv_agg's auc: 0.699372 + 0.00339615\n",
      "[229]\tcv_agg's auc: 0.699343 + 0.00345312\n",
      "[230]\tcv_agg's auc: 0.699306 + 0.00350919\n",
      "[231]\tcv_agg's auc: 0.699293 + 0.0034845\n",
      "[232]\tcv_agg's auc: 0.699229 + 0.00351001\n",
      "[233]\tcv_agg's auc: 0.699181 + 0.00352112\n",
      "[234]\tcv_agg's auc: 0.699124 + 0.00350207\n",
      "[235]\tcv_agg's auc: 0.699164 + 0.0034958\n",
      "[236]\tcv_agg's auc: 0.699111 + 0.00347083\n",
      "[237]\tcv_agg's auc: 0.699097 + 0.00346319\n",
      "[238]\tcv_agg's auc: 0.699079 + 0.00345978\n",
      "[239]\tcv_agg's auc: 0.699117 + 0.00347961\n",
      "[240]\tcv_agg's auc: 0.699139 + 0.00353042\n",
      "[241]\tcv_agg's auc: 0.699096 + 0.00352092\n",
      "[242]\tcv_agg's auc: 0.699105 + 0.00353098\n",
      "[243]\tcv_agg's auc: 0.699093 + 0.00354216\n",
      "[244]\tcv_agg's auc: 0.699027 + 0.00350948\n",
      "[245]\tcv_agg's auc: 0.698953 + 0.00353933\n",
      "[246]\tcv_agg's auc: 0.698933 + 0.00350663\n",
      "[247]\tcv_agg's auc: 0.698905 + 0.00351891\n",
      "[248]\tcv_agg's auc: 0.698871 + 0.00352797\n",
      "[249]\tcv_agg's auc: 0.698879 + 0.00353666\n",
      "[250]\tcv_agg's auc: 0.698796 + 0.00352589\n",
      "[251]\tcv_agg's auc: 0.698783 + 0.00353987\n",
      "[252]\tcv_agg's auc: 0.698752 + 0.0035584\n",
      "[253]\tcv_agg's auc: 0.698744 + 0.0036087\n",
      "[254]\tcv_agg's auc: 0.698772 + 0.00355437\n",
      "[255]\tcv_agg's auc: 0.698757 + 0.00350567\n",
      "[256]\tcv_agg's auc: 0.698722 + 0.0035164\n",
      "[257]\tcv_agg's auc: 0.698733 + 0.00351266\n",
      "[258]\tcv_agg's auc: 0.698706 + 0.00353554\n",
      "[259]\tcv_agg's auc: 0.698703 + 0.0035503\n",
      "[260]\tcv_agg's auc: 0.698756 + 0.0035965\n",
      "[261]\tcv_agg's auc: 0.698738 + 0.0035871\n",
      "[262]\tcv_agg's auc: 0.698729 + 0.00360349\n",
      "[263]\tcv_agg's auc: 0.698712 + 0.00356616\n",
      "[264]\tcv_agg's auc: 0.698688 + 0.00355899\n",
      "[265]\tcv_agg's auc: 0.698662 + 0.00353055\n",
      "[266]\tcv_agg's auc: 0.69865 + 0.00359587\n",
      "[267]\tcv_agg's auc: 0.698619 + 0.00359972\n",
      "[268]\tcv_agg's auc: 0.698578 + 0.00358154\n",
      "[269]\tcv_agg's auc: 0.698582 + 0.00354841\n",
      "[270]\tcv_agg's auc: 0.698567 + 0.0035436\n",
      "[271]\tcv_agg's auc: 0.698593 + 0.00353352\n",
      "[272]\tcv_agg's auc: 0.698555 + 0.00358091\n",
      "[273]\tcv_agg's auc: 0.698489 + 0.0035919\n",
      "[274]\tcv_agg's auc: 0.698462 + 0.0035823\n",
      "[275]\tcv_agg's auc: 0.698436 + 0.0035547\n",
      "[276]\tcv_agg's auc: 0.698413 + 0.00357162\n",
      "[277]\tcv_agg's auc: 0.698397 + 0.00354325\n",
      "[278]\tcv_agg's auc: 0.698379 + 0.00354244\n",
      "[279]\tcv_agg's auc: 0.698341 + 0.00351157\n",
      "[280]\tcv_agg's auc: 0.698289 + 0.0035092\n",
      "[281]\tcv_agg's auc: 0.698294 + 0.00349063\n",
      "[282]\tcv_agg's auc: 0.698274 + 0.00353059\n",
      "[283]\tcv_agg's auc: 0.698272 + 0.00348952\n",
      "交叉验证中最优的AUC为 0.70125，对应的标准差为0.00332.\n",
      "模型最优的迭代次数为83.\n"
     ]
    }
   ],
   "source": [
    "train_set = lgb.Dataset(\n",
    "    df_train.drop('HasDetections', axis=1),\n",
    "    label=df_train.loc[:, 'HasDetections'])\n",
    "\n",
    "# Perform cross validation with early stopping\n",
    "N_FOLDS = 5\n",
    "cv_results = lgb.cv(\n",
    "    params,\n",
    "    train_set,\n",
    "    num_boost_round=10000,\n",
    "    nfold=N_FOLDS,\n",
    "    categorical_feature=categorical_columns,\n",
    "    early_stopping_rounds=200,\n",
    "    verbose_eval=True,\n",
    "    seed=42)\n",
    "\n",
    "print('交叉验证中最优的AUC为 {:.5f}，对应的标准差为{:.5f}.'.format(\n",
    "    cv_results['auc-mean'][-1], cv_results['auc-stdv'][-1]))\n",
    "\n",
    "print('模型最优的迭代次数为{}.'.format(len(cv_results['auc-mean'])))"
   ]
  },
  {
   "cell_type": "markdown",
   "metadata": {},
   "source": [
    "使用交叉验证的方式来评估模型效果，模型的AUC为0.70125。"
   ]
  },
  {
   "cell_type": "code",
   "execution_count": 13,
   "metadata": {
    "ExecuteTime": {
     "end_time": "2019-04-26T09:54:43.496957Z",
     "start_time": "2019-04-26T09:54:40.911871Z"
    }
   },
   "outputs": [
    {
     "name": "stdout",
     "output_type": "stream",
     "text": [
      "The baseline model scores 0.66980 ROC AUC on the oot set.\n"
     ]
    }
   ],
   "source": [
    "params['n_estimators'] = len(cv_results['auc-mean'])\n",
    "\n",
    "model_cv = lgb.LGBMClassifier(**params)\n",
    "model_cv.fit(df_train.drop('HasDetections', axis=1), df_train.loc[:, 'HasDetections'])\n",
    "\n",
    "# AUC\n",
    "preds_test_cv = model_cv.predict_proba(df_test.drop('HasDetections', axis=1))[:, 1]\n",
    "auc_test_cv = roc_auc_score(df_test.loc[:, 'HasDetections'], preds_test_cv)\n",
    "print('The baseline model scores {:.5f} ROC AUC on the oot set.'.format(\n",
    "    auc_test))"
   ]
  },
  {
   "cell_type": "markdown",
   "metadata": {},
   "source": [
    "模型在测试集上的AUC为0.66980，和模型交叉验证的AUC相差0.03。\n",
    "\n",
    "我们来试一下其他方法，和CV对比看看。"
   ]
  },
  {
   "cell_type": "markdown",
   "metadata": {},
   "source": [
    "## 在变量分布变化的情况下，除了交叉验证，还有哪些更优的方法？"
   ]
  },
  {
   "cell_type": "markdown",
   "metadata": {
    "ExecuteTime": {
     "end_time": "2019-04-26T10:06:07.429391Z",
     "start_time": "2019-04-26T10:06:07.423432Z"
    }
   },
   "source": [
    "这里我们将使用除了交叉验证以外的方法，来评估模型：\n",
    "\n",
    "* 人工划分验证集\n",
    "* XX\n",
    "* 有权重的CV"
   ]
  },
  {
   "cell_type": "markdown",
   "metadata": {},
   "source": [
    "### 人工划分验证集"
   ]
  },
  {
   "cell_type": "markdown",
   "metadata": {},
   "source": [
    "根据对数据的了解，我们可以选择人工划分的方式。\n",
    "\n",
    "因为我知道这个数据是根据时间划分的，所以我的验证集同样根据时间划分。"
   ]
  },
  {
   "cell_type": "code",
   "execution_count": 17,
   "metadata": {
    "ExecuteTime": {
     "end_time": "2019-04-26T10:08:11.836701Z",
     "start_time": "2019-04-26T10:08:11.830754Z"
    }
   },
   "outputs": [],
   "source": [
    "df_validation_man = df_train.iloc[int(0.8 * len(df_train)):, ]\n",
    "df_train_man = df_train.iloc[:int(0.8 * len(df_train)), ]"
   ]
  },
  {
   "cell_type": "code",
   "execution_count": 18,
   "metadata": {
    "ExecuteTime": {
     "end_time": "2019-04-26T10:08:13.052495Z",
     "start_time": "2019-04-26T10:08:12.988621Z"
    }
   },
   "outputs": [],
   "source": [
    "dtrain_man = lgb.Dataset(\n",
    "    data=df_train_man.drop('HasDetections', axis=1),\n",
    "    label=df_train_man.loc[:, 'HasDetections'],\n",
    "    free_raw_data=False,\n",
    "    silent=True)\n",
    "\n",
    "dvalid_man = lgb.Dataset(\n",
    "    data=df_validation_man.drop('HasDetections', axis=1),\n",
    "    label=df_validation_man.loc[:, 'HasDetections'],\n",
    "    free_raw_data=False,\n",
    "    silent=True)"
   ]
  },
  {
   "cell_type": "code",
   "execution_count": 20,
   "metadata": {
    "ExecuteTime": {
     "end_time": "2019-04-26T10:08:53.935758Z",
     "start_time": "2019-04-26T10:08:38.183899Z"
    },
    "scrolled": true
   },
   "outputs": [
    {
     "name": "stdout",
     "output_type": "stream",
     "text": [
      "[1]\ttraining's auc: 0.688663\tvalid_1's auc: 0.642369\n",
      "Training until validation scores don't improve for 200 rounds.\n",
      "[2]\ttraining's auc: 0.694535\tvalid_1's auc: 0.649962\n",
      "[3]\ttraining's auc: 0.696651\tvalid_1's auc: 0.651748\n",
      "[4]\ttraining's auc: 0.698669\tvalid_1's auc: 0.653697\n",
      "[5]\ttraining's auc: 0.699434\tvalid_1's auc: 0.654084\n",
      "[6]\ttraining's auc: 0.701252\tvalid_1's auc: 0.654651\n",
      "[7]\ttraining's auc: 0.704317\tvalid_1's auc: 0.655619\n",
      "[8]\ttraining's auc: 0.706225\tvalid_1's auc: 0.65734\n",
      "[9]\ttraining's auc: 0.707367\tvalid_1's auc: 0.657409\n",
      "[10]\ttraining's auc: 0.708339\tvalid_1's auc: 0.658228\n",
      "[11]\ttraining's auc: 0.710424\tvalid_1's auc: 0.65975\n",
      "[12]\ttraining's auc: 0.711272\tvalid_1's auc: 0.659604\n",
      "[13]\ttraining's auc: 0.713813\tvalid_1's auc: 0.661753\n",
      "[14]\ttraining's auc: 0.714003\tvalid_1's auc: 0.66147\n",
      "[15]\ttraining's auc: 0.715192\tvalid_1's auc: 0.661742\n",
      "[16]\ttraining's auc: 0.7158\tvalid_1's auc: 0.661808\n",
      "[17]\ttraining's auc: 0.717848\tvalid_1's auc: 0.662201\n",
      "[18]\ttraining's auc: 0.719035\tvalid_1's auc: 0.662609\n",
      "[19]\ttraining's auc: 0.720319\tvalid_1's auc: 0.663709\n",
      "[20]\ttraining's auc: 0.721896\tvalid_1's auc: 0.663937\n",
      "[21]\ttraining's auc: 0.72314\tvalid_1's auc: 0.664275\n",
      "[22]\ttraining's auc: 0.724593\tvalid_1's auc: 0.664483\n",
      "[23]\ttraining's auc: 0.726147\tvalid_1's auc: 0.664985\n",
      "[24]\ttraining's auc: 0.726792\tvalid_1's auc: 0.665319\n",
      "[25]\ttraining's auc: 0.728256\tvalid_1's auc: 0.665614\n",
      "[26]\ttraining's auc: 0.729276\tvalid_1's auc: 0.666161\n",
      "[27]\ttraining's auc: 0.730942\tvalid_1's auc: 0.666843\n",
      "[28]\ttraining's auc: 0.731667\tvalid_1's auc: 0.667144\n",
      "[29]\ttraining's auc: 0.732442\tvalid_1's auc: 0.667139\n",
      "[30]\ttraining's auc: 0.733107\tvalid_1's auc: 0.667357\n",
      "[31]\ttraining's auc: 0.733751\tvalid_1's auc: 0.667808\n",
      "[32]\ttraining's auc: 0.735091\tvalid_1's auc: 0.667714\n",
      "[33]\ttraining's auc: 0.735737\tvalid_1's auc: 0.66762\n",
      "[34]\ttraining's auc: 0.736345\tvalid_1's auc: 0.667832\n",
      "[35]\ttraining's auc: 0.736788\tvalid_1's auc: 0.667992\n",
      "[36]\ttraining's auc: 0.737499\tvalid_1's auc: 0.668135\n",
      "[37]\ttraining's auc: 0.738215\tvalid_1's auc: 0.668095\n",
      "[38]\ttraining's auc: 0.739498\tvalid_1's auc: 0.66856\n",
      "[39]\ttraining's auc: 0.740249\tvalid_1's auc: 0.668588\n",
      "[40]\ttraining's auc: 0.740818\tvalid_1's auc: 0.668716\n",
      "[41]\ttraining's auc: 0.741599\tvalid_1's auc: 0.668872\n",
      "[42]\ttraining's auc: 0.742225\tvalid_1's auc: 0.668892\n",
      "[43]\ttraining's auc: 0.742961\tvalid_1's auc: 0.668896\n",
      "[44]\ttraining's auc: 0.743335\tvalid_1's auc: 0.669013\n",
      "[45]\ttraining's auc: 0.74415\tvalid_1's auc: 0.669529\n",
      "[46]\ttraining's auc: 0.745072\tvalid_1's auc: 0.669852\n",
      "[47]\ttraining's auc: 0.745876\tvalid_1's auc: 0.669872\n",
      "[48]\ttraining's auc: 0.746236\tvalid_1's auc: 0.670038\n",
      "[49]\ttraining's auc: 0.746795\tvalid_1's auc: 0.670145\n",
      "[50]\ttraining's auc: 0.747709\tvalid_1's auc: 0.670263\n",
      "[51]\ttraining's auc: 0.748489\tvalid_1's auc: 0.670426\n",
      "[52]\ttraining's auc: 0.749086\tvalid_1's auc: 0.670261\n",
      "[53]\ttraining's auc: 0.749557\tvalid_1's auc: 0.670491\n",
      "[54]\ttraining's auc: 0.750277\tvalid_1's auc: 0.670654\n",
      "[55]\ttraining's auc: 0.75086\tvalid_1's auc: 0.670691\n",
      "[56]\ttraining's auc: 0.751521\tvalid_1's auc: 0.670775\n",
      "[57]\ttraining's auc: 0.752381\tvalid_1's auc: 0.670755\n",
      "[58]\ttraining's auc: 0.752644\tvalid_1's auc: 0.670669\n",
      "[59]\ttraining's auc: 0.753565\tvalid_1's auc: 0.670868\n",
      "[60]\ttraining's auc: 0.754048\tvalid_1's auc: 0.670874\n",
      "[61]\ttraining's auc: 0.754437\tvalid_1's auc: 0.670634\n",
      "[62]\ttraining's auc: 0.754716\tvalid_1's auc: 0.670657\n",
      "[63]\ttraining's auc: 0.755193\tvalid_1's auc: 0.670714\n",
      "[64]\ttraining's auc: 0.755477\tvalid_1's auc: 0.670698\n",
      "[65]\ttraining's auc: 0.755941\tvalid_1's auc: 0.670778\n",
      "[66]\ttraining's auc: 0.756664\tvalid_1's auc: 0.670818\n",
      "[67]\ttraining's auc: 0.75707\tvalid_1's auc: 0.670856\n",
      "[68]\ttraining's auc: 0.757723\tvalid_1's auc: 0.670925\n",
      "[69]\ttraining's auc: 0.758344\tvalid_1's auc: 0.671042\n",
      "[70]\ttraining's auc: 0.758874\tvalid_1's auc: 0.671052\n",
      "[71]\ttraining's auc: 0.759651\tvalid_1's auc: 0.67133\n",
      "[72]\ttraining's auc: 0.760131\tvalid_1's auc: 0.671224\n",
      "[73]\ttraining's auc: 0.760591\tvalid_1's auc: 0.671239\n",
      "[74]\ttraining's auc: 0.760938\tvalid_1's auc: 0.671357\n",
      "[75]\ttraining's auc: 0.761593\tvalid_1's auc: 0.671498\n",
      "[76]\ttraining's auc: 0.762066\tvalid_1's auc: 0.67168\n",
      "[77]\ttraining's auc: 0.762456\tvalid_1's auc: 0.671719\n",
      "[78]\ttraining's auc: 0.76306\tvalid_1's auc: 0.671959\n",
      "[79]\ttraining's auc: 0.763273\tvalid_1's auc: 0.672006\n",
      "[80]\ttraining's auc: 0.764181\tvalid_1's auc: 0.672004\n",
      "[81]\ttraining's auc: 0.764576\tvalid_1's auc: 0.672166\n",
      "[82]\ttraining's auc: 0.764833\tvalid_1's auc: 0.672356\n",
      "[83]\ttraining's auc: 0.765124\tvalid_1's auc: 0.67241\n",
      "[84]\ttraining's auc: 0.765577\tvalid_1's auc: 0.672353\n",
      "[85]\ttraining's auc: 0.766158\tvalid_1's auc: 0.67233\n",
      "[86]\ttraining's auc: 0.766471\tvalid_1's auc: 0.67233\n",
      "[87]\ttraining's auc: 0.7669\tvalid_1's auc: 0.672445\n",
      "[88]\ttraining's auc: 0.767147\tvalid_1's auc: 0.672439\n",
      "[89]\ttraining's auc: 0.767678\tvalid_1's auc: 0.672385\n",
      "[90]\ttraining's auc: 0.767944\tvalid_1's auc: 0.6724\n",
      "[91]\ttraining's auc: 0.768574\tvalid_1's auc: 0.672362\n",
      "[92]\ttraining's auc: 0.769045\tvalid_1's auc: 0.672633\n",
      "[93]\ttraining's auc: 0.769302\tvalid_1's auc: 0.672747\n",
      "[94]\ttraining's auc: 0.769869\tvalid_1's auc: 0.67285\n",
      "[95]\ttraining's auc: 0.770727\tvalid_1's auc: 0.672855\n",
      "[96]\ttraining's auc: 0.771288\tvalid_1's auc: 0.672991\n",
      "[97]\ttraining's auc: 0.771788\tvalid_1's auc: 0.672953\n",
      "[98]\ttraining's auc: 0.771986\tvalid_1's auc: 0.672964\n",
      "[99]\ttraining's auc: 0.772484\tvalid_1's auc: 0.672887\n",
      "[100]\ttraining's auc: 0.772959\tvalid_1's auc: 0.672742\n",
      "[101]\ttraining's auc: 0.773322\tvalid_1's auc: 0.672845\n",
      "[102]\ttraining's auc: 0.77365\tvalid_1's auc: 0.673036\n",
      "[103]\ttraining's auc: 0.774234\tvalid_1's auc: 0.673134\n",
      "[104]\ttraining's auc: 0.774786\tvalid_1's auc: 0.67316\n",
      "[105]\ttraining's auc: 0.774925\tvalid_1's auc: 0.67324\n",
      "[106]\ttraining's auc: 0.775412\tvalid_1's auc: 0.673265\n",
      "[107]\ttraining's auc: 0.775542\tvalid_1's auc: 0.673336\n",
      "[108]\ttraining's auc: 0.776191\tvalid_1's auc: 0.673383\n",
      "[109]\ttraining's auc: 0.776749\tvalid_1's auc: 0.673454\n",
      "[110]\ttraining's auc: 0.777054\tvalid_1's auc: 0.673396\n",
      "[111]\ttraining's auc: 0.777622\tvalid_1's auc: 0.673425\n",
      "[112]\ttraining's auc: 0.778019\tvalid_1's auc: 0.673501\n",
      "[113]\ttraining's auc: 0.778585\tvalid_1's auc: 0.673603\n",
      "[114]\ttraining's auc: 0.778911\tvalid_1's auc: 0.673543\n",
      "[115]\ttraining's auc: 0.779615\tvalid_1's auc: 0.673696\n",
      "[116]\ttraining's auc: 0.779758\tvalid_1's auc: 0.673668\n",
      "[117]\ttraining's auc: 0.78009\tvalid_1's auc: 0.673704\n",
      "[118]\ttraining's auc: 0.780443\tvalid_1's auc: 0.673796\n",
      "[119]\ttraining's auc: 0.780739\tvalid_1's auc: 0.673836\n",
      "[120]\ttraining's auc: 0.781197\tvalid_1's auc: 0.673813\n",
      "[121]\ttraining's auc: 0.781491\tvalid_1's auc: 0.673759\n",
      "[122]\ttraining's auc: 0.78213\tvalid_1's auc: 0.673738\n",
      "[123]\ttraining's auc: 0.78284\tvalid_1's auc: 0.673698\n",
      "[124]\ttraining's auc: 0.783356\tvalid_1's auc: 0.673805\n",
      "[125]\ttraining's auc: 0.783663\tvalid_1's auc: 0.673807\n",
      "[126]\ttraining's auc: 0.784199\tvalid_1's auc: 0.673928\n",
      "[127]\ttraining's auc: 0.784579\tvalid_1's auc: 0.67394\n",
      "[128]\ttraining's auc: 0.785035\tvalid_1's auc: 0.673915\n",
      "[129]\ttraining's auc: 0.785191\tvalid_1's auc: 0.673992\n",
      "[130]\ttraining's auc: 0.785815\tvalid_1's auc: 0.673961\n",
      "[131]\ttraining's auc: 0.785956\tvalid_1's auc: 0.674042\n",
      "[132]\ttraining's auc: 0.786436\tvalid_1's auc: 0.674263\n",
      "[133]\ttraining's auc: 0.786704\tvalid_1's auc: 0.674264\n",
      "[134]\ttraining's auc: 0.786875\tvalid_1's auc: 0.674326\n",
      "[135]\ttraining's auc: 0.787293\tvalid_1's auc: 0.674358\n",
      "[136]\ttraining's auc: 0.787824\tvalid_1's auc: 0.674442\n",
      "[137]\ttraining's auc: 0.788435\tvalid_1's auc: 0.67451\n",
      "[138]\ttraining's auc: 0.788805\tvalid_1's auc: 0.674601\n",
      "[139]\ttraining's auc: 0.789123\tvalid_1's auc: 0.6746\n",
      "[140]\ttraining's auc: 0.789471\tvalid_1's auc: 0.67456\n",
      "[141]\ttraining's auc: 0.78971\tvalid_1's auc: 0.674601\n",
      "[142]\ttraining's auc: 0.790411\tvalid_1's auc: 0.674662\n",
      "[143]\ttraining's auc: 0.790836\tvalid_1's auc: 0.674678\n",
      "[144]\ttraining's auc: 0.791198\tvalid_1's auc: 0.674603\n",
      "[145]\ttraining's auc: 0.791369\tvalid_1's auc: 0.674572\n",
      "[146]\ttraining's auc: 0.791567\tvalid_1's auc: 0.674556\n",
      "[147]\ttraining's auc: 0.791766\tvalid_1's auc: 0.674469\n",
      "[148]\ttraining's auc: 0.792183\tvalid_1's auc: 0.674472\n",
      "[149]\ttraining's auc: 0.792729\tvalid_1's auc: 0.674457\n",
      "[150]\ttraining's auc: 0.792903\tvalid_1's auc: 0.674516\n"
     ]
    },
    {
     "name": "stdout",
     "output_type": "stream",
     "text": [
      "[151]\ttraining's auc: 0.793186\tvalid_1's auc: 0.674549\n",
      "[152]\ttraining's auc: 0.793633\tvalid_1's auc: 0.674592\n",
      "[153]\ttraining's auc: 0.793932\tvalid_1's auc: 0.674592\n",
      "[154]\ttraining's auc: 0.794392\tvalid_1's auc: 0.674548\n",
      "[155]\ttraining's auc: 0.794677\tvalid_1's auc: 0.674623\n",
      "[156]\ttraining's auc: 0.794963\tvalid_1's auc: 0.674759\n",
      "[157]\ttraining's auc: 0.795398\tvalid_1's auc: 0.674788\n",
      "[158]\ttraining's auc: 0.795798\tvalid_1's auc: 0.674843\n",
      "[159]\ttraining's auc: 0.796327\tvalid_1's auc: 0.674707\n",
      "[160]\ttraining's auc: 0.796553\tvalid_1's auc: 0.674756\n",
      "[161]\ttraining's auc: 0.796911\tvalid_1's auc: 0.674663\n",
      "[162]\ttraining's auc: 0.797276\tvalid_1's auc: 0.674895\n",
      "[163]\ttraining's auc: 0.797627\tvalid_1's auc: 0.67494\n",
      "[164]\ttraining's auc: 0.797913\tvalid_1's auc: 0.675035\n",
      "[165]\ttraining's auc: 0.798092\tvalid_1's auc: 0.67496\n",
      "[166]\ttraining's auc: 0.798412\tvalid_1's auc: 0.674962\n",
      "[167]\ttraining's auc: 0.798743\tvalid_1's auc: 0.674933\n",
      "[168]\ttraining's auc: 0.798952\tvalid_1's auc: 0.674969\n",
      "[169]\ttraining's auc: 0.799562\tvalid_1's auc: 0.674972\n",
      "[170]\ttraining's auc: 0.800022\tvalid_1's auc: 0.675099\n",
      "[171]\ttraining's auc: 0.800354\tvalid_1's auc: 0.675097\n",
      "[172]\ttraining's auc: 0.800616\tvalid_1's auc: 0.675057\n",
      "[173]\ttraining's auc: 0.800767\tvalid_1's auc: 0.67506\n",
      "[174]\ttraining's auc: 0.801241\tvalid_1's auc: 0.675068\n",
      "[175]\ttraining's auc: 0.80174\tvalid_1's auc: 0.675079\n",
      "[176]\ttraining's auc: 0.801978\tvalid_1's auc: 0.675102\n",
      "[177]\ttraining's auc: 0.802356\tvalid_1's auc: 0.675209\n",
      "[178]\ttraining's auc: 0.802751\tvalid_1's auc: 0.67535\n",
      "[179]\ttraining's auc: 0.803075\tvalid_1's auc: 0.675624\n",
      "[180]\ttraining's auc: 0.803591\tvalid_1's auc: 0.675645\n",
      "[181]\ttraining's auc: 0.803889\tvalid_1's auc: 0.675708\n",
      "[182]\ttraining's auc: 0.804151\tvalid_1's auc: 0.67575\n",
      "[183]\ttraining's auc: 0.804554\tvalid_1's auc: 0.675805\n",
      "[184]\ttraining's auc: 0.805001\tvalid_1's auc: 0.675816\n",
      "[185]\ttraining's auc: 0.805236\tvalid_1's auc: 0.675747\n",
      "[186]\ttraining's auc: 0.805405\tvalid_1's auc: 0.675771\n",
      "[187]\ttraining's auc: 0.805696\tvalid_1's auc: 0.675785\n",
      "[188]\ttraining's auc: 0.806135\tvalid_1's auc: 0.675842\n",
      "[189]\ttraining's auc: 0.806405\tvalid_1's auc: 0.675899\n",
      "[190]\ttraining's auc: 0.80678\tvalid_1's auc: 0.675991\n",
      "[191]\ttraining's auc: 0.80725\tvalid_1's auc: 0.676035\n",
      "[192]\ttraining's auc: 0.807583\tvalid_1's auc: 0.67599\n",
      "[193]\ttraining's auc: 0.807931\tvalid_1's auc: 0.676072\n",
      "[194]\ttraining's auc: 0.808499\tvalid_1's auc: 0.676063\n",
      "[195]\ttraining's auc: 0.808771\tvalid_1's auc: 0.676077\n",
      "[196]\ttraining's auc: 0.809028\tvalid_1's auc: 0.676098\n",
      "[197]\ttraining's auc: 0.809232\tvalid_1's auc: 0.676136\n",
      "[198]\ttraining's auc: 0.80944\tvalid_1's auc: 0.676133\n",
      "[199]\ttraining's auc: 0.809545\tvalid_1's auc: 0.676165\n",
      "[200]\ttraining's auc: 0.809732\tvalid_1's auc: 0.676169\n",
      "[201]\ttraining's auc: 0.810078\tvalid_1's auc: 0.67612\n",
      "[202]\ttraining's auc: 0.810336\tvalid_1's auc: 0.676118\n",
      "[203]\ttraining's auc: 0.810761\tvalid_1's auc: 0.676139\n",
      "[204]\ttraining's auc: 0.810793\tvalid_1's auc: 0.676122\n",
      "[205]\ttraining's auc: 0.810901\tvalid_1's auc: 0.67615\n",
      "[206]\ttraining's auc: 0.811211\tvalid_1's auc: 0.676116\n",
      "[207]\ttraining's auc: 0.811397\tvalid_1's auc: 0.67615\n",
      "[208]\ttraining's auc: 0.811769\tvalid_1's auc: 0.676145\n",
      "[209]\ttraining's auc: 0.81219\tvalid_1's auc: 0.676148\n",
      "[210]\ttraining's auc: 0.812695\tvalid_1's auc: 0.676105\n",
      "[211]\ttraining's auc: 0.812734\tvalid_1's auc: 0.67611\n",
      "[212]\ttraining's auc: 0.813001\tvalid_1's auc: 0.676076\n",
      "[213]\ttraining's auc: 0.813419\tvalid_1's auc: 0.676137\n",
      "[214]\ttraining's auc: 0.813685\tvalid_1's auc: 0.67614\n",
      "[215]\ttraining's auc: 0.814126\tvalid_1's auc: 0.67618\n",
      "[216]\ttraining's auc: 0.814376\tvalid_1's auc: 0.676205\n",
      "[217]\ttraining's auc: 0.814642\tvalid_1's auc: 0.676197\n",
      "[218]\ttraining's auc: 0.814917\tvalid_1's auc: 0.676181\n",
      "[219]\ttraining's auc: 0.815365\tvalid_1's auc: 0.676149\n",
      "[220]\ttraining's auc: 0.815639\tvalid_1's auc: 0.676248\n",
      "[221]\ttraining's auc: 0.815818\tvalid_1's auc: 0.676294\n",
      "[222]\ttraining's auc: 0.816034\tvalid_1's auc: 0.676249\n",
      "[223]\ttraining's auc: 0.816436\tvalid_1's auc: 0.67622\n",
      "[224]\ttraining's auc: 0.816948\tvalid_1's auc: 0.676107\n",
      "[225]\ttraining's auc: 0.817288\tvalid_1's auc: 0.676146\n",
      "[226]\ttraining's auc: 0.817476\tvalid_1's auc: 0.67613\n",
      "[227]\ttraining's auc: 0.817847\tvalid_1's auc: 0.676158\n",
      "[228]\ttraining's auc: 0.818054\tvalid_1's auc: 0.676258\n",
      "[229]\ttraining's auc: 0.81826\tvalid_1's auc: 0.676231\n",
      "[230]\ttraining's auc: 0.81838\tvalid_1's auc: 0.676209\n",
      "[231]\ttraining's auc: 0.818551\tvalid_1's auc: 0.676199\n",
      "[232]\ttraining's auc: 0.818945\tvalid_1's auc: 0.67627\n",
      "[233]\ttraining's auc: 0.819061\tvalid_1's auc: 0.676206\n",
      "[234]\ttraining's auc: 0.819293\tvalid_1's auc: 0.676186\n",
      "[235]\ttraining's auc: 0.819592\tvalid_1's auc: 0.676239\n",
      "[236]\ttraining's auc: 0.819917\tvalid_1's auc: 0.676209\n",
      "[237]\ttraining's auc: 0.820189\tvalid_1's auc: 0.67624\n",
      "[238]\ttraining's auc: 0.820559\tvalid_1's auc: 0.676208\n",
      "[239]\ttraining's auc: 0.820764\tvalid_1's auc: 0.676093\n",
      "[240]\ttraining's auc: 0.821194\tvalid_1's auc: 0.676141\n",
      "[241]\ttraining's auc: 0.821501\tvalid_1's auc: 0.676055\n",
      "[242]\ttraining's auc: 0.821881\tvalid_1's auc: 0.676063\n",
      "[243]\ttraining's auc: 0.822356\tvalid_1's auc: 0.676034\n",
      "[244]\ttraining's auc: 0.822605\tvalid_1's auc: 0.676074\n",
      "[245]\ttraining's auc: 0.822854\tvalid_1's auc: 0.676128\n",
      "[246]\ttraining's auc: 0.823287\tvalid_1's auc: 0.676215\n",
      "[247]\ttraining's auc: 0.823426\tvalid_1's auc: 0.676172\n",
      "[248]\ttraining's auc: 0.823694\tvalid_1's auc: 0.676121\n",
      "[249]\ttraining's auc: 0.823808\tvalid_1's auc: 0.676188\n",
      "[250]\ttraining's auc: 0.824374\tvalid_1's auc: 0.676185\n",
      "[251]\ttraining's auc: 0.824652\tvalid_1's auc: 0.676121\n",
      "[252]\ttraining's auc: 0.824822\tvalid_1's auc: 0.676179\n",
      "[253]\ttraining's auc: 0.82509\tvalid_1's auc: 0.676175\n",
      "[254]\ttraining's auc: 0.825356\tvalid_1's auc: 0.676206\n",
      "[255]\ttraining's auc: 0.825515\tvalid_1's auc: 0.676212\n",
      "[256]\ttraining's auc: 0.825989\tvalid_1's auc: 0.676243\n",
      "[257]\ttraining's auc: 0.826286\tvalid_1's auc: 0.676248\n",
      "[258]\ttraining's auc: 0.826604\tvalid_1's auc: 0.676199\n",
      "[259]\ttraining's auc: 0.826733\tvalid_1's auc: 0.676144\n",
      "[260]\ttraining's auc: 0.827086\tvalid_1's auc: 0.676169\n",
      "[261]\ttraining's auc: 0.827458\tvalid_1's auc: 0.676136\n",
      "[262]\ttraining's auc: 0.827649\tvalid_1's auc: 0.676145\n",
      "[263]\ttraining's auc: 0.828025\tvalid_1's auc: 0.67617\n",
      "[264]\ttraining's auc: 0.828176\tvalid_1's auc: 0.676127\n",
      "[265]\ttraining's auc: 0.828365\tvalid_1's auc: 0.676141\n",
      "[266]\ttraining's auc: 0.828575\tvalid_1's auc: 0.676113\n",
      "[267]\ttraining's auc: 0.828686\tvalid_1's auc: 0.676152\n",
      "[268]\ttraining's auc: 0.82896\tvalid_1's auc: 0.676184\n",
      "[269]\ttraining's auc: 0.829204\tvalid_1's auc: 0.676187\n",
      "[270]\ttraining's auc: 0.829607\tvalid_1's auc: 0.676148\n",
      "[271]\ttraining's auc: 0.829904\tvalid_1's auc: 0.676124\n",
      "[272]\ttraining's auc: 0.830132\tvalid_1's auc: 0.676189\n",
      "[273]\ttraining's auc: 0.830589\tvalid_1's auc: 0.676216\n",
      "[274]\ttraining's auc: 0.830737\tvalid_1's auc: 0.67622\n",
      "[275]\ttraining's auc: 0.830835\tvalid_1's auc: 0.676256\n",
      "[276]\ttraining's auc: 0.830934\tvalid_1's auc: 0.676371\n",
      "[277]\ttraining's auc: 0.831318\tvalid_1's auc: 0.676348\n",
      "[278]\ttraining's auc: 0.831389\tvalid_1's auc: 0.676305\n",
      "[279]\ttraining's auc: 0.83171\tvalid_1's auc: 0.676309\n",
      "[280]\ttraining's auc: 0.831948\tvalid_1's auc: 0.676216\n",
      "[281]\ttraining's auc: 0.832062\tvalid_1's auc: 0.676235\n",
      "[282]\ttraining's auc: 0.832107\tvalid_1's auc: 0.676247\n",
      "[283]\ttraining's auc: 0.83238\tvalid_1's auc: 0.676236\n",
      "[284]\ttraining's auc: 0.832605\tvalid_1's auc: 0.676256\n",
      "[285]\ttraining's auc: 0.832902\tvalid_1's auc: 0.676368\n",
      "[286]\ttraining's auc: 0.833139\tvalid_1's auc: 0.67637\n",
      "[287]\ttraining's auc: 0.833264\tvalid_1's auc: 0.676346\n",
      "[288]\ttraining's auc: 0.833478\tvalid_1's auc: 0.676377\n",
      "[289]\ttraining's auc: 0.833775\tvalid_1's auc: 0.676291\n",
      "[290]\ttraining's auc: 0.834113\tvalid_1's auc: 0.6763\n",
      "[291]\ttraining's auc: 0.834266\tvalid_1's auc: 0.67631\n",
      "[292]\ttraining's auc: 0.834543\tvalid_1's auc: 0.676341\n",
      "[293]\ttraining's auc: 0.834961\tvalid_1's auc: 0.676345\n",
      "[294]\ttraining's auc: 0.835296\tvalid_1's auc: 0.67634\n",
      "[295]\ttraining's auc: 0.835418\tvalid_1's auc: 0.67633\n",
      "[296]\ttraining's auc: 0.835626\tvalid_1's auc: 0.676286\n",
      "[297]\ttraining's auc: 0.835833\tvalid_1's auc: 0.676281\n",
      "[298]\ttraining's auc: 0.835984\tvalid_1's auc: 0.676281\n",
      "[299]\ttraining's auc: 0.836257\tvalid_1's auc: 0.67623\n"
     ]
    },
    {
     "name": "stdout",
     "output_type": "stream",
     "text": [
      "[300]\ttraining's auc: 0.836427\tvalid_1's auc: 0.676322\n",
      "[301]\ttraining's auc: 0.836627\tvalid_1's auc: 0.676282\n",
      "[302]\ttraining's auc: 0.836838\tvalid_1's auc: 0.676244\n",
      "[303]\ttraining's auc: 0.837102\tvalid_1's auc: 0.676212\n",
      "[304]\ttraining's auc: 0.837276\tvalid_1's auc: 0.676166\n",
      "[305]\ttraining's auc: 0.837458\tvalid_1's auc: 0.676173\n",
      "[306]\ttraining's auc: 0.837517\tvalid_1's auc: 0.676152\n",
      "[307]\ttraining's auc: 0.837965\tvalid_1's auc: 0.676155\n",
      "[308]\ttraining's auc: 0.838165\tvalid_1's auc: 0.67619\n",
      "[309]\ttraining's auc: 0.838496\tvalid_1's auc: 0.676137\n",
      "[310]\ttraining's auc: 0.838724\tvalid_1's auc: 0.67617\n",
      "[311]\ttraining's auc: 0.838999\tvalid_1's auc: 0.676216\n",
      "[312]\ttraining's auc: 0.83928\tvalid_1's auc: 0.676236\n",
      "[313]\ttraining's auc: 0.839509\tvalid_1's auc: 0.676162\n",
      "[314]\ttraining's auc: 0.839693\tvalid_1's auc: 0.676181\n",
      "[315]\ttraining's auc: 0.839837\tvalid_1's auc: 0.676239\n",
      "[316]\ttraining's auc: 0.840141\tvalid_1's auc: 0.676317\n",
      "[317]\ttraining's auc: 0.840477\tvalid_1's auc: 0.676399\n",
      "[318]\ttraining's auc: 0.8406\tvalid_1's auc: 0.676368\n",
      "[319]\ttraining's auc: 0.840851\tvalid_1's auc: 0.676368\n",
      "[320]\ttraining's auc: 0.840994\tvalid_1's auc: 0.676338\n",
      "[321]\ttraining's auc: 0.84132\tvalid_1's auc: 0.676301\n",
      "[322]\ttraining's auc: 0.841605\tvalid_1's auc: 0.676299\n",
      "[323]\ttraining's auc: 0.84185\tvalid_1's auc: 0.676315\n",
      "[324]\ttraining's auc: 0.842286\tvalid_1's auc: 0.676254\n",
      "[325]\ttraining's auc: 0.842526\tvalid_1's auc: 0.676253\n",
      "[326]\ttraining's auc: 0.842674\tvalid_1's auc: 0.676294\n",
      "[327]\ttraining's auc: 0.842882\tvalid_1's auc: 0.676326\n",
      "[328]\ttraining's auc: 0.843002\tvalid_1's auc: 0.67631\n",
      "[329]\ttraining's auc: 0.843113\tvalid_1's auc: 0.676298\n",
      "[330]\ttraining's auc: 0.843287\tvalid_1's auc: 0.676358\n",
      "[331]\ttraining's auc: 0.843359\tvalid_1's auc: 0.676376\n",
      "[332]\ttraining's auc: 0.843651\tvalid_1's auc: 0.676313\n",
      "[333]\ttraining's auc: 0.843873\tvalid_1's auc: 0.676274\n",
      "[334]\ttraining's auc: 0.844153\tvalid_1's auc: 0.676313\n",
      "[335]\ttraining's auc: 0.844441\tvalid_1's auc: 0.676329\n",
      "[336]\ttraining's auc: 0.844789\tvalid_1's auc: 0.67632\n",
      "[337]\ttraining's auc: 0.84495\tvalid_1's auc: 0.676331\n",
      "[338]\ttraining's auc: 0.845181\tvalid_1's auc: 0.676337\n",
      "[339]\ttraining's auc: 0.845244\tvalid_1's auc: 0.676349\n",
      "[340]\ttraining's auc: 0.845383\tvalid_1's auc: 0.676359\n",
      "[341]\ttraining's auc: 0.845679\tvalid_1's auc: 0.676409\n",
      "[342]\ttraining's auc: 0.845956\tvalid_1's auc: 0.676359\n",
      "[343]\ttraining's auc: 0.846124\tvalid_1's auc: 0.676341\n",
      "[344]\ttraining's auc: 0.846349\tvalid_1's auc: 0.676356\n",
      "[345]\ttraining's auc: 0.846615\tvalid_1's auc: 0.676348\n",
      "[346]\ttraining's auc: 0.846788\tvalid_1's auc: 0.676373\n",
      "[347]\ttraining's auc: 0.846845\tvalid_1's auc: 0.676379\n",
      "[348]\ttraining's auc: 0.847085\tvalid_1's auc: 0.676397\n",
      "[349]\ttraining's auc: 0.847468\tvalid_1's auc: 0.676375\n",
      "[350]\ttraining's auc: 0.847765\tvalid_1's auc: 0.676382\n",
      "[351]\ttraining's auc: 0.848157\tvalid_1's auc: 0.676362\n",
      "[352]\ttraining's auc: 0.848313\tvalid_1's auc: 0.676345\n",
      "[353]\ttraining's auc: 0.848589\tvalid_1's auc: 0.676318\n",
      "[354]\ttraining's auc: 0.848697\tvalid_1's auc: 0.676355\n",
      "[355]\ttraining's auc: 0.848739\tvalid_1's auc: 0.676349\n",
      "[356]\ttraining's auc: 0.849082\tvalid_1's auc: 0.676383\n",
      "[357]\ttraining's auc: 0.849333\tvalid_1's auc: 0.676446\n",
      "[358]\ttraining's auc: 0.84963\tvalid_1's auc: 0.676418\n",
      "[359]\ttraining's auc: 0.849969\tvalid_1's auc: 0.676408\n",
      "[360]\ttraining's auc: 0.850232\tvalid_1's auc: 0.676507\n",
      "[361]\ttraining's auc: 0.850538\tvalid_1's auc: 0.676532\n",
      "[362]\ttraining's auc: 0.85082\tvalid_1's auc: 0.676577\n",
      "[363]\ttraining's auc: 0.851\tvalid_1's auc: 0.676596\n",
      "[364]\ttraining's auc: 0.851114\tvalid_1's auc: 0.67658\n",
      "[365]\ttraining's auc: 0.851149\tvalid_1's auc: 0.676591\n",
      "[366]\ttraining's auc: 0.851322\tvalid_1's auc: 0.676586\n",
      "[367]\ttraining's auc: 0.851408\tvalid_1's auc: 0.676587\n",
      "[368]\ttraining's auc: 0.851709\tvalid_1's auc: 0.67656\n",
      "[369]\ttraining's auc: 0.852069\tvalid_1's auc: 0.676512\n",
      "[370]\ttraining's auc: 0.852269\tvalid_1's auc: 0.676493\n",
      "[371]\ttraining's auc: 0.85238\tvalid_1's auc: 0.676506\n",
      "[372]\ttraining's auc: 0.852405\tvalid_1's auc: 0.6765\n",
      "[373]\ttraining's auc: 0.852493\tvalid_1's auc: 0.676497\n",
      "[374]\ttraining's auc: 0.852602\tvalid_1's auc: 0.676525\n",
      "[375]\ttraining's auc: 0.852854\tvalid_1's auc: 0.6765\n",
      "[376]\ttraining's auc: 0.852932\tvalid_1's auc: 0.67643\n",
      "[377]\ttraining's auc: 0.853194\tvalid_1's auc: 0.676361\n",
      "[378]\ttraining's auc: 0.853315\tvalid_1's auc: 0.676353\n",
      "[379]\ttraining's auc: 0.853345\tvalid_1's auc: 0.676343\n",
      "[380]\ttraining's auc: 0.853491\tvalid_1's auc: 0.676408\n",
      "[381]\ttraining's auc: 0.853765\tvalid_1's auc: 0.676416\n",
      "[382]\ttraining's auc: 0.854028\tvalid_1's auc: 0.676391\n",
      "[383]\ttraining's auc: 0.854215\tvalid_1's auc: 0.676396\n",
      "[384]\ttraining's auc: 0.854355\tvalid_1's auc: 0.676329\n",
      "[385]\ttraining's auc: 0.854545\tvalid_1's auc: 0.676324\n",
      "[386]\ttraining's auc: 0.854739\tvalid_1's auc: 0.676288\n",
      "[387]\ttraining's auc: 0.854836\tvalid_1's auc: 0.676267\n",
      "[388]\ttraining's auc: 0.855133\tvalid_1's auc: 0.676286\n",
      "[389]\ttraining's auc: 0.855236\tvalid_1's auc: 0.676283\n",
      "[390]\ttraining's auc: 0.85532\tvalid_1's auc: 0.676294\n",
      "[391]\ttraining's auc: 0.855567\tvalid_1's auc: 0.67634\n",
      "[392]\ttraining's auc: 0.855665\tvalid_1's auc: 0.676362\n",
      "[393]\ttraining's auc: 0.855782\tvalid_1's auc: 0.676427\n",
      "[394]\ttraining's auc: 0.856\tvalid_1's auc: 0.676313\n",
      "[395]\ttraining's auc: 0.856135\tvalid_1's auc: 0.67627\n",
      "[396]\ttraining's auc: 0.856388\tvalid_1's auc: 0.676263\n",
      "[397]\ttraining's auc: 0.85655\tvalid_1's auc: 0.676248\n",
      "[398]\ttraining's auc: 0.85678\tvalid_1's auc: 0.676248\n",
      "[399]\ttraining's auc: 0.857042\tvalid_1's auc: 0.676175\n",
      "[400]\ttraining's auc: 0.857345\tvalid_1's auc: 0.676212\n",
      "[401]\ttraining's auc: 0.857583\tvalid_1's auc: 0.676185\n",
      "[402]\ttraining's auc: 0.857912\tvalid_1's auc: 0.676129\n",
      "[403]\ttraining's auc: 0.858167\tvalid_1's auc: 0.676154\n",
      "[404]\ttraining's auc: 0.858317\tvalid_1's auc: 0.676146\n",
      "[405]\ttraining's auc: 0.858467\tvalid_1's auc: 0.676157\n",
      "[406]\ttraining's auc: 0.858667\tvalid_1's auc: 0.676157\n",
      "[407]\ttraining's auc: 0.858824\tvalid_1's auc: 0.676133\n",
      "[408]\ttraining's auc: 0.858931\tvalid_1's auc: 0.676065\n",
      "[409]\ttraining's auc: 0.859052\tvalid_1's auc: 0.676046\n",
      "[410]\ttraining's auc: 0.859214\tvalid_1's auc: 0.67605\n",
      "[411]\ttraining's auc: 0.859335\tvalid_1's auc: 0.676039\n",
      "[412]\ttraining's auc: 0.859598\tvalid_1's auc: 0.676105\n",
      "[413]\ttraining's auc: 0.859727\tvalid_1's auc: 0.676113\n",
      "[414]\ttraining's auc: 0.859924\tvalid_1's auc: 0.676149\n",
      "[415]\ttraining's auc: 0.860147\tvalid_1's auc: 0.676144\n",
      "[416]\ttraining's auc: 0.860284\tvalid_1's auc: 0.676167\n",
      "[417]\ttraining's auc: 0.860337\tvalid_1's auc: 0.67616\n",
      "[418]\ttraining's auc: 0.860408\tvalid_1's auc: 0.676165\n",
      "[419]\ttraining's auc: 0.860512\tvalid_1's auc: 0.676129\n",
      "[420]\ttraining's auc: 0.860616\tvalid_1's auc: 0.676121\n",
      "[421]\ttraining's auc: 0.860934\tvalid_1's auc: 0.676134\n",
      "[422]\ttraining's auc: 0.861226\tvalid_1's auc: 0.676117\n",
      "[423]\ttraining's auc: 0.861517\tvalid_1's auc: 0.67614\n",
      "[424]\ttraining's auc: 0.861734\tvalid_1's auc: 0.676119\n",
      "[425]\ttraining's auc: 0.861941\tvalid_1's auc: 0.676131\n",
      "[426]\ttraining's auc: 0.862059\tvalid_1's auc: 0.676173\n",
      "[427]\ttraining's auc: 0.862198\tvalid_1's auc: 0.676151\n",
      "[428]\ttraining's auc: 0.862466\tvalid_1's auc: 0.676136\n",
      "[429]\ttraining's auc: 0.862611\tvalid_1's auc: 0.676175\n",
      "[430]\ttraining's auc: 0.862802\tvalid_1's auc: 0.676121\n",
      "[431]\ttraining's auc: 0.862955\tvalid_1's auc: 0.676097\n",
      "[432]\ttraining's auc: 0.863137\tvalid_1's auc: 0.676071\n",
      "[433]\ttraining's auc: 0.863357\tvalid_1's auc: 0.67604\n",
      "[434]\ttraining's auc: 0.863699\tvalid_1's auc: 0.676039\n",
      "[435]\ttraining's auc: 0.863825\tvalid_1's auc: 0.676051\n",
      "[436]\ttraining's auc: 0.863931\tvalid_1's auc: 0.676012\n",
      "[437]\ttraining's auc: 0.864069\tvalid_1's auc: 0.676011\n",
      "[438]\ttraining's auc: 0.864242\tvalid_1's auc: 0.676038\n",
      "[439]\ttraining's auc: 0.864443\tvalid_1's auc: 0.676088\n",
      "[440]\ttraining's auc: 0.864827\tvalid_1's auc: 0.676097\n",
      "[441]\ttraining's auc: 0.86512\tvalid_1's auc: 0.676098\n",
      "[442]\ttraining's auc: 0.865206\tvalid_1's auc: 0.676079\n",
      "[443]\ttraining's auc: 0.865304\tvalid_1's auc: 0.676042\n",
      "[444]\ttraining's auc: 0.865477\tvalid_1's auc: 0.67598\n",
      "[445]\ttraining's auc: 0.86553\tvalid_1's auc: 0.675946\n",
      "[446]\ttraining's auc: 0.865642\tvalid_1's auc: 0.675963\n",
      "[447]\ttraining's auc: 0.865704\tvalid_1's auc: 0.67594\n",
      "[448]\ttraining's auc: 0.865846\tvalid_1's auc: 0.675908\n"
     ]
    },
    {
     "name": "stdout",
     "output_type": "stream",
     "text": [
      "[449]\ttraining's auc: 0.866102\tvalid_1's auc: 0.675878\n",
      "[450]\ttraining's auc: 0.866258\tvalid_1's auc: 0.675907\n",
      "[451]\ttraining's auc: 0.866414\tvalid_1's auc: 0.675901\n",
      "[452]\ttraining's auc: 0.866592\tvalid_1's auc: 0.675812\n",
      "[453]\ttraining's auc: 0.866637\tvalid_1's auc: 0.675805\n",
      "[454]\ttraining's auc: 0.866966\tvalid_1's auc: 0.675809\n",
      "[455]\ttraining's auc: 0.867181\tvalid_1's auc: 0.675694\n",
      "[456]\ttraining's auc: 0.867438\tvalid_1's auc: 0.675687\n",
      "[457]\ttraining's auc: 0.867533\tvalid_1's auc: 0.67569\n",
      "[458]\ttraining's auc: 0.867633\tvalid_1's auc: 0.675662\n",
      "[459]\ttraining's auc: 0.867778\tvalid_1's auc: 0.675638\n",
      "[460]\ttraining's auc: 0.867888\tvalid_1's auc: 0.675644\n",
      "[461]\ttraining's auc: 0.868079\tvalid_1's auc: 0.675677\n",
      "[462]\ttraining's auc: 0.86834\tvalid_1's auc: 0.675634\n",
      "[463]\ttraining's auc: 0.868478\tvalid_1's auc: 0.675628\n",
      "[464]\ttraining's auc: 0.868591\tvalid_1's auc: 0.67561\n",
      "[465]\ttraining's auc: 0.868712\tvalid_1's auc: 0.675591\n",
      "[466]\ttraining's auc: 0.868824\tvalid_1's auc: 0.675585\n",
      "[467]\ttraining's auc: 0.868974\tvalid_1's auc: 0.675488\n",
      "[468]\ttraining's auc: 0.869294\tvalid_1's auc: 0.675491\n",
      "[469]\ttraining's auc: 0.869525\tvalid_1's auc: 0.675472\n",
      "[470]\ttraining's auc: 0.869751\tvalid_1's auc: 0.675517\n",
      "[471]\ttraining's auc: 0.869819\tvalid_1's auc: 0.67553\n",
      "[472]\ttraining's auc: 0.870052\tvalid_1's auc: 0.675552\n",
      "[473]\ttraining's auc: 0.870211\tvalid_1's auc: 0.675586\n",
      "[474]\ttraining's auc: 0.870299\tvalid_1's auc: 0.675599\n",
      "[475]\ttraining's auc: 0.870491\tvalid_1's auc: 0.675589\n",
      "[476]\ttraining's auc: 0.87062\tvalid_1's auc: 0.675597\n",
      "[477]\ttraining's auc: 0.870635\tvalid_1's auc: 0.675612\n",
      "[478]\ttraining's auc: 0.870832\tvalid_1's auc: 0.675594\n",
      "[479]\ttraining's auc: 0.870957\tvalid_1's auc: 0.675587\n",
      "[480]\ttraining's auc: 0.871314\tvalid_1's auc: 0.675471\n",
      "[481]\ttraining's auc: 0.871536\tvalid_1's auc: 0.675496\n",
      "[482]\ttraining's auc: 0.871674\tvalid_1's auc: 0.675562\n",
      "[483]\ttraining's auc: 0.871875\tvalid_1's auc: 0.67556\n",
      "[484]\ttraining's auc: 0.871954\tvalid_1's auc: 0.675552\n",
      "[485]\ttraining's auc: 0.87209\tvalid_1's auc: 0.675563\n",
      "[486]\ttraining's auc: 0.872309\tvalid_1's auc: 0.67553\n",
      "[487]\ttraining's auc: 0.872542\tvalid_1's auc: 0.675532\n",
      "[488]\ttraining's auc: 0.872768\tvalid_1's auc: 0.675557\n",
      "[489]\ttraining's auc: 0.872995\tvalid_1's auc: 0.67552\n",
      "[490]\ttraining's auc: 0.873107\tvalid_1's auc: 0.675534\n",
      "[491]\ttraining's auc: 0.873344\tvalid_1's auc: 0.675559\n",
      "[492]\ttraining's auc: 0.873385\tvalid_1's auc: 0.675553\n",
      "[493]\ttraining's auc: 0.873554\tvalid_1's auc: 0.675495\n",
      "[494]\ttraining's auc: 0.873792\tvalid_1's auc: 0.675491\n",
      "[495]\ttraining's auc: 0.873928\tvalid_1's auc: 0.67545\n",
      "[496]\ttraining's auc: 0.874202\tvalid_1's auc: 0.67544\n",
      "[497]\ttraining's auc: 0.874328\tvalid_1's auc: 0.675473\n",
      "[498]\ttraining's auc: 0.874478\tvalid_1's auc: 0.675483\n",
      "[499]\ttraining's auc: 0.874599\tvalid_1's auc: 0.675535\n",
      "[500]\ttraining's auc: 0.87471\tvalid_1's auc: 0.675534\n",
      "[501]\ttraining's auc: 0.874848\tvalid_1's auc: 0.675471\n",
      "[502]\ttraining's auc: 0.874998\tvalid_1's auc: 0.675522\n",
      "[503]\ttraining's auc: 0.8751\tvalid_1's auc: 0.675532\n",
      "[504]\ttraining's auc: 0.875283\tvalid_1's auc: 0.675584\n",
      "[505]\ttraining's auc: 0.875495\tvalid_1's auc: 0.675593\n",
      "[506]\ttraining's auc: 0.875659\tvalid_1's auc: 0.675598\n",
      "[507]\ttraining's auc: 0.875832\tvalid_1's auc: 0.675639\n",
      "[508]\ttraining's auc: 0.875954\tvalid_1's auc: 0.675617\n",
      "[509]\ttraining's auc: 0.87614\tvalid_1's auc: 0.675544\n",
      "[510]\ttraining's auc: 0.876294\tvalid_1's auc: 0.675498\n",
      "[511]\ttraining's auc: 0.876642\tvalid_1's auc: 0.675346\n",
      "[512]\ttraining's auc: 0.876852\tvalid_1's auc: 0.675296\n",
      "[513]\ttraining's auc: 0.87695\tvalid_1's auc: 0.675288\n",
      "[514]\ttraining's auc: 0.87697\tvalid_1's auc: 0.675312\n",
      "[515]\ttraining's auc: 0.877197\tvalid_1's auc: 0.675325\n",
      "[516]\ttraining's auc: 0.877316\tvalid_1's auc: 0.675336\n",
      "[517]\ttraining's auc: 0.877558\tvalid_1's auc: 0.67533\n",
      "[518]\ttraining's auc: 0.877745\tvalid_1's auc: 0.6753\n",
      "[519]\ttraining's auc: 0.877881\tvalid_1's auc: 0.675274\n",
      "[520]\ttraining's auc: 0.87798\tvalid_1's auc: 0.675245\n",
      "[521]\ttraining's auc: 0.878207\tvalid_1's auc: 0.675229\n",
      "[522]\ttraining's auc: 0.878327\tvalid_1's auc: 0.675252\n",
      "[523]\ttraining's auc: 0.878531\tvalid_1's auc: 0.675249\n",
      "[524]\ttraining's auc: 0.878606\tvalid_1's auc: 0.675243\n",
      "[525]\ttraining's auc: 0.878795\tvalid_1's auc: 0.675228\n",
      "[526]\ttraining's auc: 0.878961\tvalid_1's auc: 0.675276\n",
      "[527]\ttraining's auc: 0.879013\tvalid_1's auc: 0.675259\n",
      "[528]\ttraining's auc: 0.879126\tvalid_1's auc: 0.675232\n",
      "[529]\ttraining's auc: 0.879299\tvalid_1's auc: 0.675205\n",
      "[530]\ttraining's auc: 0.879384\tvalid_1's auc: 0.675239\n",
      "[531]\ttraining's auc: 0.879532\tvalid_1's auc: 0.675234\n",
      "[532]\ttraining's auc: 0.879719\tvalid_1's auc: 0.675235\n",
      "[533]\ttraining's auc: 0.879858\tvalid_1's auc: 0.675211\n",
      "[534]\ttraining's auc: 0.88005\tvalid_1's auc: 0.675221\n",
      "[535]\ttraining's auc: 0.880342\tvalid_1's auc: 0.674985\n",
      "[536]\ttraining's auc: 0.88053\tvalid_1's auc: 0.675031\n",
      "[537]\ttraining's auc: 0.880609\tvalid_1's auc: 0.675007\n",
      "[538]\ttraining's auc: 0.880693\tvalid_1's auc: 0.675018\n",
      "[539]\ttraining's auc: 0.880912\tvalid_1's auc: 0.674998\n",
      "[540]\ttraining's auc: 0.88106\tvalid_1's auc: 0.675014\n",
      "[541]\ttraining's auc: 0.881278\tvalid_1's auc: 0.675023\n",
      "[542]\ttraining's auc: 0.881398\tvalid_1's auc: 0.675038\n",
      "[543]\ttraining's auc: 0.881741\tvalid_1's auc: 0.675042\n",
      "[544]\ttraining's auc: 0.881932\tvalid_1's auc: 0.674993\n",
      "[545]\ttraining's auc: 0.882112\tvalid_1's auc: 0.675009\n",
      "[546]\ttraining's auc: 0.882235\tvalid_1's auc: 0.675019\n",
      "[547]\ttraining's auc: 0.882544\tvalid_1's auc: 0.674993\n",
      "[548]\ttraining's auc: 0.882686\tvalid_1's auc: 0.674989\n",
      "[549]\ttraining's auc: 0.882831\tvalid_1's auc: 0.674995\n",
      "[550]\ttraining's auc: 0.882934\tvalid_1's auc: 0.674961\n",
      "[551]\ttraining's auc: 0.882961\tvalid_1's auc: 0.674966\n",
      "[552]\ttraining's auc: 0.883025\tvalid_1's auc: 0.675032\n",
      "[553]\ttraining's auc: 0.883363\tvalid_1's auc: 0.67494\n",
      "[554]\ttraining's auc: 0.883433\tvalid_1's auc: 0.67496\n",
      "[555]\ttraining's auc: 0.883531\tvalid_1's auc: 0.674958\n",
      "[556]\ttraining's auc: 0.883696\tvalid_1's auc: 0.674947\n",
      "[557]\ttraining's auc: 0.883839\tvalid_1's auc: 0.674927\n",
      "[558]\ttraining's auc: 0.883989\tvalid_1's auc: 0.67489\n",
      "[559]\ttraining's auc: 0.8843\tvalid_1's auc: 0.674893\n",
      "[560]\ttraining's auc: 0.884581\tvalid_1's auc: 0.674869\n",
      "[561]\ttraining's auc: 0.884725\tvalid_1's auc: 0.674843\n",
      "[562]\ttraining's auc: 0.884813\tvalid_1's auc: 0.674822\n",
      "[563]\ttraining's auc: 0.885088\tvalid_1's auc: 0.674819\n",
      "Early stopping, best iteration is:\n",
      "[363]\ttraining's auc: 0.851\tvalid_1's auc: 0.676596\n"
     ]
    }
   ],
   "source": [
    "params.pop('n_estimators', None)\n",
    "\n",
    "clf = lgb.train(\n",
    "    params=params,\n",
    "    train_set=dtrain_man,\n",
    "    num_boost_round=10000,\n",
    "    valid_sets=[dtrain_man, dvalid_man],\n",
    "    early_stopping_rounds=200,\n",
    "    verbose_eval=True,\n",
    "    categorical_feature=categorical_columns)"
   ]
  },
  {
   "cell_type": "code",
   "execution_count": 23,
   "metadata": {
    "ExecuteTime": {
     "end_time": "2019-04-26T10:10:39.297812Z",
     "start_time": "2019-04-26T10:10:34.278300Z"
    }
   },
   "outputs": [
    {
     "name": "stdout",
     "output_type": "stream",
     "text": [
      "The baseline model scores 0.67229 ROC AUC on the oot set.\n"
     ]
    }
   ],
   "source": [
    "params['n_estimators'] = clf.num_trees()\n",
    "\n",
    "model_man = lgb.LGBMClassifier(**params)\n",
    "model_man.fit(\n",
    "    df_train_man.drop('HasDetections', axis=1),\n",
    "    df_train_man.loc[:, 'HasDetections'])\n",
    "\n",
    "# AUC\n",
    "preds_test_man = model_man.predict_proba(df_test.drop('HasDetections', axis=1))[:, 1]\n",
    "auc_test_man = roc_auc_score(df_test.loc[:, 'HasDetections'], preds_test_man)\n",
    "print('The baseline model scores {:.5f} ROC AUC on the oot set.'.format(\n",
    "    roc_auc_score(df_test.loc[:, 'HasDetections'], preds_test)))"
   ]
  },
  {
   "cell_type": "code",
   "execution_count": 24,
   "metadata": {
    "ExecuteTime": {
     "end_time": "2019-04-26T10:11:15.492466Z",
     "start_time": "2019-04-26T10:11:15.486459Z"
    }
   },
   "outputs": [
    {
     "data": {
      "text/plain": [
       "0.004305999999999921"
      ]
     },
     "execution_count": 24,
     "metadata": {},
     "output_type": "execute_result"
    }
   ],
   "source": [
    "0.676596 - 0.67229"
   ]
  },
  {
   "cell_type": "markdown",
   "metadata": {},
   "source": [
    "使用人工划分验证集的方式：AUC差值为0.004。"
   ]
  },
  {
   "cell_type": "markdown",
   "metadata": {
    "ExecuteTime": {
     "end_time": "2019-04-26T03:41:10.240488Z",
     "start_time": "2019-04-26T03:41:10.232680Z"
    }
   },
   "source": [
    "### 用概率高的作为验证集"
   ]
  },
  {
   "cell_type": "code",
   "execution_count": 35,
   "metadata": {
    "ExecuteTime": {
     "end_time": "2019-04-26T10:21:14.148254Z",
     "start_time": "2019-04-26T10:21:14.144066Z"
    }
   },
   "outputs": [],
   "source": [
    "df_train_weights = preds_adv[:len(df_train)]"
   ]
  },
  {
   "cell_type": "code",
   "execution_count": null,
   "metadata": {},
   "outputs": [],
   "source": []
  },
  {
   "cell_type": "markdown",
   "metadata": {},
   "source": [
    "### 有权重的CV "
   ]
  },
  {
   "cell_type": "code",
   "execution_count": null,
   "metadata": {},
   "outputs": [],
   "source": [
    "df_train_weights = preds_adv[:len(df_train)]"
   ]
  },
  {
   "cell_type": "markdown",
   "metadata": {},
   "source": [
    "# 结论"
   ]
  },
  {
   "cell_type": "markdown",
   "metadata": {},
   "source": [
    "CV不能够准确评估模型在测试集上的效果，需要用其他的Validation的方式。下一篇文章，我们将使用更多的方法来解决样本分布变化的问题。"
   ]
  },
  {
   "cell_type": "markdown",
   "metadata": {},
   "source": [
    "# 实验：categorical features with high cardinality"
   ]
  },
  {
   "cell_type": "markdown",
   "metadata": {},
   "source": [
    "## 重新拆分测试集"
   ]
  },
  {
   "cell_type": "code",
   "execution_count": null,
   "metadata": {
    "ExecuteTime": {
     "end_time": "2019-04-24T10:10:28.059623Z",
     "start_time": "2019-04-24T10:10:27.909876Z"
    }
   },
   "outputs": [],
   "source": [
    "df_test = df_all.iloc[int(0.8*len(df_all)):, ]\n",
    "df_train = df_all.iloc[:int(0.8*len(df_all)), ]"
   ]
  },
  {
   "cell_type": "code",
   "execution_count": null,
   "metadata": {
    "ExecuteTime": {
     "end_time": "2019-04-24T10:10:28.663637Z",
     "start_time": "2019-04-24T10:10:28.655629Z"
    }
   },
   "outputs": [],
   "source": [
    "categorical_columns = [\n",
    "    c for c in df_all.columns\n",
    "    if c not in (['HasDetections'] + true_numerical_columns)\n",
    "]\n",
    "\n",
    "print(categorical_columns)"
   ]
  },
  {
   "cell_type": "markdown",
   "metadata": {},
   "source": [
    "## 交叉验证 对比组"
   ]
  },
  {
   "cell_type": "code",
   "execution_count": null,
   "metadata": {
    "ExecuteTime": {
     "end_time": "2019-04-24T10:10:29.932832Z",
     "start_time": "2019-04-24T10:10:29.926849Z"
    }
   },
   "outputs": [],
   "source": [
    "params = {\n",
    "    'boosting_type': 'gbdt',\n",
    "    'colsample_bytree': 1,\n",
    "    'learning_rate': 0.1,\n",
    "    'max_depth': 5,\n",
    "    'min_child_samples': 100,\n",
    "    'min_child_weight': 1,\n",
    "    'min_split_gain': 0.0,\n",
    "    'num_leaves': 20,\n",
    "    'objective': 'binary',\n",
    "    'random_state': 50,\n",
    "    'subsample': 1.0,\n",
    "    'subsample_freq': 0,\n",
    "    'metric': 'auc',\n",
    "    'num_threads': 8\n",
    "}"
   ]
  },
  {
   "cell_type": "code",
   "execution_count": null,
   "metadata": {
    "ExecuteTime": {
     "end_time": "2019-04-24T10:10:52.766288Z",
     "start_time": "2019-04-24T10:10:30.542699Z"
    },
    "scrolled": true
   },
   "outputs": [],
   "source": [
    "train_set = lgb.Dataset(\n",
    "    df_train.drop('HasDetections', axis=1),\n",
    "    label=df_train.loc[:, 'HasDetections'])\n",
    "\n",
    "# Perform cross validation with early stopping\n",
    "N_FOLDS = 5\n",
    "cv_results = lgb.cv(\n",
    "    params,\n",
    "    train_set,\n",
    "    num_boost_round=10000,\n",
    "    nfold=N_FOLDS,\n",
    "    categorical_feature=categorical_columns,\n",
    "    early_stopping_rounds=200,\n",
    "    verbose_eval=True,\n",
    "    seed=42)\n",
    "\n",
    "# Highest score\n",
    "best = cv_results['auc-mean'][-1]\n",
    "\n",
    "# Standard deviation of best score\n",
    "best_std = cv_results['auc-stdv'][-1]\n",
    "\n",
    "print(\n",
    "    'The maximium ROC AUC in cross validation was {:.5f} with std of {:.5f}.'.\n",
    "    format(best, best_std))\n",
    "\n",
    "print('The ideal number of iterations was {}.'.format(\n",
    "    len(cv_results['auc-mean'])))"
   ]
  },
  {
   "cell_type": "code",
   "execution_count": null,
   "metadata": {
    "ExecuteTime": {
     "end_time": "2019-04-24T10:10:53.354724Z",
     "start_time": "2019-04-24T10:10:53.350724Z"
    }
   },
   "outputs": [],
   "source": [
    "params['n_estimators'] = len(cv_results['auc-mean'])"
   ]
  },
  {
   "cell_type": "code",
   "execution_count": null,
   "metadata": {
    "ExecuteTime": {
     "end_time": "2019-04-24T10:10:55.691043Z",
     "start_time": "2019-04-24T10:10:53.905289Z"
    }
   },
   "outputs": [],
   "source": [
    "model = lgb.LGBMClassifier(**params)\n",
    "model.fit(df_train.drop('HasDetections', axis=1), df_train.loc[:, 'HasDetections'])\n",
    "\n",
    "# AUC\n",
    "preds_test = model.predict_proba(df_test.drop('HasDetections', axis=1))[:, 1]\n",
    "auc_test = roc_auc_score(df_test.loc[:, 'HasDetections'], preds_test)\n",
    "print('The baseline model scores {:.5f} ROC AUC on the oot set.'.format(\n",
    "    auc_test))"
   ]
  },
  {
   "cell_type": "markdown",
   "metadata": {},
   "source": [
    "* 迭代次数减少：83到41\n",
    "* Validation的AUC降低：0.70125到0.70060\n",
    "* Test的AUC降低：0.66980到0.66051"
   ]
  },
  {
   "cell_type": "markdown",
   "metadata": {},
   "source": [
    "## 人工划分验证集 对比组"
   ]
  },
  {
   "cell_type": "code",
   "execution_count": null,
   "metadata": {
    "ExecuteTime": {
     "end_time": "2019-04-24T10:10:56.254352Z",
     "start_time": "2019-04-24T10:10:56.240272Z"
    }
   },
   "outputs": [],
   "source": [
    "df_validation = df_train.iloc[int(0.8*len(df_train)):, ]\n",
    "df_train = df_train.iloc[:int(0.8*len(df_train)), ]"
   ]
  },
  {
   "cell_type": "code",
   "execution_count": null,
   "metadata": {
    "ExecuteTime": {
     "end_time": "2019-04-24T10:10:56.892573Z",
     "start_time": "2019-04-24T10:10:56.810624Z"
    }
   },
   "outputs": [],
   "source": [
    "dtrain = lgb.Dataset(data=df_train.drop('HasDetections', axis=1), \n",
    "                             label=df_train.loc[:, 'HasDetections'], \n",
    "                             free_raw_data=False, silent=True)\n",
    "\n",
    "dvalid = lgb.Dataset(data=df_validation.drop('HasDetections', axis=1), \n",
    "                     label=df_validation.loc[:, 'HasDetections'], \n",
    "                     free_raw_data=False, silent=True)"
   ]
  },
  {
   "cell_type": "code",
   "execution_count": null,
   "metadata": {
    "ExecuteTime": {
     "end_time": "2019-04-24T10:10:57.396900Z",
     "start_time": "2019-04-24T10:10:57.386983Z"
    }
   },
   "outputs": [],
   "source": [
    "params.pop('n_estimators', None)"
   ]
  },
  {
   "cell_type": "code",
   "execution_count": null,
   "metadata": {
    "ExecuteTime": {
     "end_time": "2019-04-24T10:11:04.557960Z",
     "start_time": "2019-04-24T10:10:57.917085Z"
    },
    "scrolled": true
   },
   "outputs": [],
   "source": [
    "clf = lgb.train(\n",
    "            params=params,\n",
    "            train_set=dtrain,\n",
    "            num_boost_round=10000,\n",
    "            valid_sets=[dtrain, dvalid],\n",
    "            early_stopping_rounds=200,\n",
    "            verbose_eval=True,\n",
    "            categorical_feature = categorical_columns\n",
    "        )"
   ]
  },
  {
   "cell_type": "code",
   "execution_count": null,
   "metadata": {
    "ExecuteTime": {
     "end_time": "2019-04-24T10:11:18.770650Z",
     "start_time": "2019-04-24T10:11:18.766662Z"
    }
   },
   "outputs": [],
   "source": [
    "params['n_estimators'] = 46"
   ]
  },
  {
   "cell_type": "code",
   "execution_count": null,
   "metadata": {
    "ExecuteTime": {
     "end_time": "2019-04-24T10:11:20.960710Z",
     "start_time": "2019-04-24T10:11:19.396185Z"
    }
   },
   "outputs": [],
   "source": [
    "model = lgb.LGBMClassifier(**params)\n",
    "model.fit(df_train.drop('HasDetections', axis=1), df_train.loc[:, 'HasDetections'])\n",
    "\n",
    "# AUC\n",
    "preds_test = model.predict_proba(df_test.drop('HasDetections', axis=1))[:, 1]\n",
    "auc_test = roc_auc_score(df_test.loc[:, 'HasDetections'], preds_test)\n",
    "print('The baseline model scores {:.5f} ROC AUC on the oot set.'.format(\n",
    "    auc_test))"
   ]
  },
  {
   "cell_type": "markdown",
   "metadata": {},
   "source": [
    "* 迭代次数减少：363到46\n",
    "* Validation的AUC降低：0.676596到0.668609\n",
    "* Test的AUC降低：0.67229到0.66146"
   ]
  },
  {
   "cell_type": "code",
   "execution_count": null,
   "metadata": {},
   "outputs": [],
   "source": []
  }
 ],
 "metadata": {
  "kernelspec": {
   "display_name": "Python 3",
   "language": "python",
   "name": "python3"
  },
  "language_info": {
   "codemirror_mode": {
    "name": "ipython",
    "version": 3
   },
   "file_extension": ".py",
   "mimetype": "text/x-python",
   "name": "python",
   "nbconvert_exporter": "python",
   "pygments_lexer": "ipython3",
   "version": "3.7.1"
  },
  "toc": {
   "base_numbering": 1,
   "nav_menu": {},
   "number_sections": true,
   "sideBar": true,
   "skip_h1_title": false,
   "title_cell": "Table of Contents",
   "title_sidebar": "Contents",
   "toc_cell": false,
   "toc_position": {
    "height": "397.92px",
    "left": "142px",
    "top": "111.12px",
    "width": "230.8px"
   },
   "toc_section_display": true,
   "toc_window_display": true
  },
  "varInspector": {
   "cols": {
    "lenName": 16,
    "lenType": 16,
    "lenVar": 40
   },
   "kernels_config": {
    "python": {
     "delete_cmd_postfix": "",
     "delete_cmd_prefix": "del ",
     "library": "var_list.py",
     "varRefreshCmd": "print(var_dic_list())"
    },
    "r": {
     "delete_cmd_postfix": ") ",
     "delete_cmd_prefix": "rm(",
     "library": "var_list.r",
     "varRefreshCmd": "cat(var_dic_list()) "
    }
   },
   "position": {
    "height": "284.12px",
    "left": "724.8px",
    "right": "20px",
    "top": "98px",
    "width": "457.72px"
   },
   "types_to_exclude": [
    "module",
    "function",
    "builtin_function_or_method",
    "instance",
    "_Feature"
   ],
   "window_display": false
  }
 },
 "nbformat": 4,
 "nbformat_minor": 2
}
