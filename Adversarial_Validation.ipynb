{
 "cells": [
  {
   "cell_type": "markdown",
   "metadata": {},
   "source": [
    "TO DO：\n",
    "* 图文并茂\n",
    "* 文字通俗易懂\n",
    "* 需要举例子解释 什么是样本分布变化？\n",
    "* 将notebook上传到github\n",
    "* 除了微信公众号，还需要在哪些渠道放文章：微博；Medium\n",
    "* 可以投稿给 机器之心 这样的公众号吗？\n",
    "* 图片要加简短注释\n",
    "* 简介前面加一个图片，会好看一点"
   ]
  },
  {
   "cell_type": "markdown",
   "metadata": {},
   "source": [
    "标题：还在用交叉验证？试试Kaggle大牛们经常用的方法 -- 对抗验证"
   ]
  },
  {
   "cell_type": "markdown",
   "metadata": {},
   "source": [
    "这个时候，交叉验证（Cross Validation）通常会失效，所以构建一个可靠的验证集（Validation），就非常重要。\n",
    "\n",
    "如果构造的验证集（Validation）不可靠，我们就无法准确地评估模型的效果，进而无法评估改进模型的方法是否有效。\n",
    "\n",
    "首先，我们如何确定样本的分布确实发生了变化呢？\n",
    "\n",
    "Kaggle上通常用到的一个方法就是：对抗验证（Adversarial Validation）。"
   ]
  },
  {
   "cell_type": "markdown",
   "metadata": {},
   "source": [
    "# 简介"
   ]
  },
  {
   "cell_type": "markdown",
   "metadata": {
    "ExecuteTime": {
     "end_time": "2019-04-25T08:41:01.220832Z",
     "start_time": "2019-04-25T08:41:01.215818Z"
    }
   },
   "source": [
    "交叉验证（Cross Validation）是建模师常用的一种用来评估模型的效果，以及评估提升模型的手段（调参，增加衍生变量等）是否有效的一种方法。\n",
    "\n",
    "在本篇文章中，我们将通过一个实例，了解到：当样本分布发生变化时，使用交叉验证，所存在的问题。\n",
    "\n",
    "我们将使用「对抗验证（Adversarial Validation）」这一方法，来辨别样本的分布是否发生了变化。\n",
    "\n",
    "以及，如果样本分布发生了变化，除了交叉验证，我们有哪些更好的方法。"
   ]
  },
  {
   "cell_type": "markdown",
   "metadata": {},
   "source": [
    "## 为什么「样本分布变化」会影响模型？"
   ]
  },
  {
   "cell_type": "markdown",
   "metadata": {
    "ExecuteTime": {
     "end_time": "2019-04-24T14:20:35.857616Z",
     "start_time": "2019-04-24T14:20:35.846925Z"
    }
   },
   "source": [
    "在真实的业务场景中，我们经常会遇到「样本分布变化」的问题。\n",
    "\n",
    "比如，在化妆/ 市场，男性的比例越来越多\n",
    "\n",
    "又比如，在信贷场景下，因为「建模样本」都是通过了信用审批的客户，所以「建模样本」和「整体样本」的分布存在偏差。\n",
    "\n",
    "\n",
    "\n",
    "\n",
    "Kaggle上的比赛，通常不符合真实世界。\n",
    "\n",
    "模型在训练样本表现不错，但是在应用样本不行。这不是过拟合。而是「样本分布变化」造成的。\n",
    "\n",
    "举例说明。"
   ]
  },
  {
   "cell_type": "markdown",
   "metadata": {
    "ExecuteTime": {
     "end_time": "2019-04-26T03:27:19.165668Z",
     "start_time": "2019-04-26T03:27:19.050902Z"
    }
   },
   "source": [
    "![样本分布变化](./images/Change_in_Distribution.png)"
   ]
  },
  {
   "cell_type": "markdown",
   "metadata": {},
   "source": [
    "比如图中的例子，假设我们要做一个模型来预测人们在超市的消费金额。我们的训练集是18-25岁的年轻人，而测试集（或者是真实应用的场景）是60岁以上的老人。那么我们的模型就会存在问题。"
   ]
  },
  {
   "cell_type": "markdown",
   "metadata": {
    "ExecuteTime": {
     "end_time": "2019-04-25T09:49:50.918672Z",
     "start_time": "2019-04-25T09:49:50.915679Z"
    }
   },
   "source": [
    "## 什么是对抗验证（Adversarial Validation）？"
   ]
  },
  {
   "cell_type": "markdown",
   "metadata": {
    "ExecuteTime": {
     "end_time": "2019-04-19T09:25:34.263897Z",
     "start_time": "2019-04-19T09:25:34.257934Z"
    }
   },
   "source": [
    "[对抗验证（Adversarial Validation）](http://fastml.com/adversarial-validation-part-one/)，和交叉验证不同，并不是一种评估模型的方法。而是一种用来确认训练集（Train）和测试集（Test）的分布是否相似的方法。\n",
    "\n",
    "它的本质是，构造一个分类模型，来预测样本是训练集或测试集的概率。\n",
    "\n",
    "如果这个模型的效果不错，通常来说AUC在0.7以上，那么可以说明我们的训练集和测试集存在较大的差异。"
   ]
  },
  {
   "cell_type": "markdown",
   "metadata": {
    "ExecuteTime": {
     "end_time": "2019-04-25T00:46:22.654844Z",
     "start_time": "2019-04-25T00:46:22.644842Z"
    }
   },
   "source": [
    "# 实例"
   ]
  },
  {
   "cell_type": "markdown",
   "metadata": {},
   "source": [
    "我将用一个实例来论证怎么使用对抗验证，以及在分布发生变化时做交叉验证所存在的问题。"
   ]
  },
  {
   "cell_type": "markdown",
   "metadata": {},
   "source": [
    "## 数据"
   ]
  },
  {
   "cell_type": "markdown",
   "metadata": {
    "ExecuteTime": {
     "end_time": "2019-04-25T00:46:44.650549Z",
     "start_time": "2019-04-25T00:46:44.641005Z"
    }
   },
   "source": [
    "![Microsoft Malware Prediction](./images/Microsoft_Malware_Competition.png)\n",
    "\n",
    "\n",
    "用到的数据来自Kaggle上的[微软恶意软件比赛](https://www.kaggle.com/c/microsoft-malware-prediction/overview)比赛来说明。\n",
    "\n",
    "这次比赛的目的是：预测电脑受到恶意软件攻击的概率。\n",
    "\n",
    "因为这次比赛的 Train 和 Test 是根据时间划分的，所以Train 和 Test 的分布非常不同，很具有代表性。"
   ]
  },
  {
   "cell_type": "markdown",
   "metadata": {},
   "source": [
    "## Import"
   ]
  },
  {
   "cell_type": "code",
   "execution_count": 2,
   "metadata": {
    "ExecuteTime": {
     "end_time": "2019-04-26T03:32:18.625659Z",
     "start_time": "2019-04-26T03:32:17.505153Z"
    }
   },
   "outputs": [],
   "source": [
    "import pandas as pd\n",
    "from tqdm import tqdm\n",
    "import lightgbm as lgb\n",
    "from sklearn.metrics import roc_auc_score\n",
    "from sklearn.model_selection import KFold\n",
    "\n",
    "# Memory management\n",
    "import gc\n",
    "gc.enable()\n",
    "\n",
    "# Plot\n",
    "import seaborn as sns\n",
    "import matplotlib.pyplot as plt\n",
    "plt.style.use('ggplot')\n",
    "\n",
    "# Suppress warnings\n",
    "import warnings\n",
    "warnings.filterwarnings('ignore')"
   ]
  },
  {
   "cell_type": "markdown",
   "metadata": {},
   "source": [
    "因为数据集非常大，所以这里只选用2%的样本来说明问题。"
   ]
  },
  {
   "cell_type": "code",
   "execution_count": 3,
   "metadata": {
    "ExecuteTime": {
     "end_time": "2019-04-26T03:32:28.841500Z",
     "start_time": "2019-04-26T03:32:28.828049Z"
    }
   },
   "outputs": [],
   "source": [
    "# dtypes = {\n",
    "#     'MachineIdentifier':                                    'category',\n",
    "#     'ProductName':                                          'category',\n",
    "#     'EngineVersion':                                        'category',\n",
    "#     'AppVersion':                                           'category',\n",
    "#     'AvSigVersion':                                         'category',\n",
    "#     'IsBeta':                                               'int8',\n",
    "#     'RtpStateBitfield':                                     'float16',\n",
    "#     'IsSxsPassiveMode':                                     'int8',\n",
    "#     'DefaultBrowsersIdentifier':                            'float32',\n",
    "#     'AVProductStatesIdentifier':                            'float32',\n",
    "#     'AVProductsInstalled':                                  'float16',\n",
    "#     'AVProductsEnabled':                                    'float16',\n",
    "#     'HasTpm':                                               'int8',\n",
    "#     'CountryIdentifier':                                    'int16',\n",
    "#     'CityIdentifier':                                       'float32',\n",
    "#     'OrganizationIdentifier':                               'float16',\n",
    "#     'GeoNameIdentifier':                                    'float16',\n",
    "#     'LocaleEnglishNameIdentifier':                          'int16',\n",
    "#     'Platform':                                             'category',\n",
    "#     'Processor':                                            'category',\n",
    "#     'OsVer':                                                'category',\n",
    "#     'OsBuild':                                              'int16',\n",
    "#     'OsSuite':                                              'int16',\n",
    "#     'OsPlatformSubRelease':                                 'category',\n",
    "#     'OsBuildLab':                                           'category',\n",
    "#     'SkuEdition':                                           'category',\n",
    "#     'IsProtected':                                          'float16',\n",
    "#     'AutoSampleOptIn':                                      'int8',\n",
    "#     'PuaMode':                                              'category',\n",
    "#     'SMode':                                                'float16',\n",
    "#     'IeVerIdentifier':                                      'float16',\n",
    "#     'SmartScreen':                                          'category',\n",
    "#     'Firewall':                                             'float16',\n",
    "#     'UacLuaenable':                                         'float64',  # was 'float32'\n",
    "#     'Census_MDC2FormFactor':                                'category',\n",
    "#     'Census_DeviceFamily':                                  'category',\n",
    "#     'Census_OEMNameIdentifier':                             'float32',  # was 'float16'\n",
    "#     'Census_OEMModelIdentifier':                            'float32',\n",
    "#     'Census_ProcessorCoreCount':                            'float16',\n",
    "#     'Census_ProcessorManufacturerIdentifier':               'float16',\n",
    "#     'Census_ProcessorModelIdentifier':                      'float32',  # was 'float16'\n",
    "#     'Census_ProcessorClass':                                'category',\n",
    "#     'Census_PrimaryDiskTotalCapacity':                      'float64',  # was 'float32'\n",
    "#     'Census_PrimaryDiskTypeName':                           'category',\n",
    "#     'Census_SystemVolumeTotalCapacity':                     'float64',  # was 'float32'\n",
    "#     'Census_HasOpticalDiskDrive':                           'int8',\n",
    "#     'Census_TotalPhysicalRAM':                              'float32',\n",
    "#     'Census_ChassisTypeName':                               'category',\n",
    "#     'Census_InternalPrimaryDiagonalDisplaySizeInInches':    'float32',  # was 'float16'\n",
    "#     'Census_InternalPrimaryDisplayResolutionHorizontal':    'float32',  # was 'float16'\n",
    "#     'Census_InternalPrimaryDisplayResolutionVertical':      'float32',  # was 'float16'\n",
    "#     'Census_PowerPlatformRoleName':                         'category',\n",
    "#     'Census_InternalBatteryType':                           'category',\n",
    "#     'Census_InternalBatteryNumberOfCharges':                'float64',  # was 'float32'\n",
    "#     'Census_OSVersion':                                     'category',\n",
    "#     'Census_OSArchitecture':                                'category',\n",
    "#     'Census_OSBranch':                                      'category',\n",
    "#     'Census_OSBuildNumber':                                 'int16',\n",
    "#     'Census_OSBuildRevision':                               'int32',\n",
    "#     'Census_OSEdition':                                     'category',\n",
    "#     'Census_OSSkuName':                                     'category',\n",
    "#     'Census_OSInstallTypeName':                             'category',\n",
    "#     'Census_OSInstallLanguageIdentifier':                   'float16',\n",
    "#     'Census_OSUILocaleIdentifier':                          'int16',\n",
    "#     'Census_OSWUAutoUpdateOptionsName':                     'category',\n",
    "#     'Census_IsPortableOperatingSystem':                     'int8',\n",
    "#     'Census_GenuineStateName':                              'category',\n",
    "#     'Census_ActivationChannel':                             'category',\n",
    "#     'Census_IsFlightingInternal':                           'float16',\n",
    "#     'Census_IsFlightsDisabled':                             'float16',\n",
    "#     'Census_FlightRing':                                    'category',\n",
    "#     'Census_ThresholdOptIn':                                'float16',\n",
    "#     'Census_FirmwareManufacturerIdentifier':                'float16',\n",
    "#     'Census_FirmwareVersionIdentifier':                     'float32',\n",
    "#     'Census_IsSecureBootEnabled':                           'int8',\n",
    "#     'Census_IsWIMBootEnabled':                              'float16',\n",
    "#     'Census_IsVirtualDevice':                               'float16',\n",
    "#     'Census_IsTouchEnabled':                                'int8',\n",
    "#     'Census_IsPenCapable':                                  'int8',\n",
    "#     'Census_IsAlwaysOnAlwaysConnectedCapable':              'float16',\n",
    "#     'Wdft_IsGamer':                                         'float16',\n",
    "#     'Wdft_RegionIdentifier':                                'float16',\n",
    "#     'HasDetections':                                        'int8'\n",
    "# }\n",
    "\n",
    "# df_all = pd.read_csv('./input/train.csv.zip', dtype=dtypes) \n",
    "# df_all = df_all.sample(frac=0.02, random_state=123)\n",
    "# df_all.to_csv('./input/train_sample.csv', index=False)"
   ]
  },
  {
   "cell_type": "code",
   "execution_count": 4,
   "metadata": {
    "ExecuteTime": {
     "end_time": "2019-04-26T03:32:32.588815Z",
     "start_time": "2019-04-26T03:32:30.006417Z"
    }
   },
   "outputs": [
    {
     "data": {
      "text/html": [
       "<div>\n",
       "<style scoped>\n",
       "    .dataframe tbody tr th:only-of-type {\n",
       "        vertical-align: middle;\n",
       "    }\n",
       "\n",
       "    .dataframe tbody tr th {\n",
       "        vertical-align: top;\n",
       "    }\n",
       "\n",
       "    .dataframe thead th {\n",
       "        text-align: right;\n",
       "    }\n",
       "</style>\n",
       "<table border=\"1\" class=\"dataframe\">\n",
       "  <thead>\n",
       "    <tr style=\"text-align: right;\">\n",
       "      <th></th>\n",
       "      <th>MachineIdentifier</th>\n",
       "      <th>ProductName</th>\n",
       "      <th>EngineVersion</th>\n",
       "      <th>AppVersion</th>\n",
       "      <th>AvSigVersion</th>\n",
       "      <th>IsBeta</th>\n",
       "      <th>RtpStateBitfield</th>\n",
       "      <th>IsSxsPassiveMode</th>\n",
       "      <th>DefaultBrowsersIdentifier</th>\n",
       "      <th>AVProductStatesIdentifier</th>\n",
       "      <th>...</th>\n",
       "      <th>Census_FirmwareVersionIdentifier</th>\n",
       "      <th>Census_IsSecureBootEnabled</th>\n",
       "      <th>Census_IsWIMBootEnabled</th>\n",
       "      <th>Census_IsVirtualDevice</th>\n",
       "      <th>Census_IsTouchEnabled</th>\n",
       "      <th>Census_IsPenCapable</th>\n",
       "      <th>Census_IsAlwaysOnAlwaysConnectedCapable</th>\n",
       "      <th>Wdft_IsGamer</th>\n",
       "      <th>Wdft_RegionIdentifier</th>\n",
       "      <th>HasDetections</th>\n",
       "    </tr>\n",
       "  </thead>\n",
       "  <tbody>\n",
       "    <tr>\n",
       "      <th>0</th>\n",
       "      <td>586d40804b950d0376575fdf10ee89ae</td>\n",
       "      <td>win8defender</td>\n",
       "      <td>1.1.15100.1</td>\n",
       "      <td>4.18.1806.18062</td>\n",
       "      <td>1.273.520.0</td>\n",
       "      <td>0</td>\n",
       "      <td>7.0</td>\n",
       "      <td>0</td>\n",
       "      <td>NaN</td>\n",
       "      <td>53447.0</td>\n",
       "      <td>...</td>\n",
       "      <td>27767.0</td>\n",
       "      <td>1</td>\n",
       "      <td>NaN</td>\n",
       "      <td>0.0</td>\n",
       "      <td>0</td>\n",
       "      <td>0</td>\n",
       "      <td>0.0</td>\n",
       "      <td>1.0</td>\n",
       "      <td>15.0</td>\n",
       "      <td>1</td>\n",
       "    </tr>\n",
       "    <tr>\n",
       "      <th>1</th>\n",
       "      <td>65fb3fae2d37f90e6b3174592f2490a8</td>\n",
       "      <td>win8defender</td>\n",
       "      <td>1.1.15200.1</td>\n",
       "      <td>4.18.1807.18075</td>\n",
       "      <td>1.275.453.0</td>\n",
       "      <td>0</td>\n",
       "      <td>7.0</td>\n",
       "      <td>0</td>\n",
       "      <td>NaN</td>\n",
       "      <td>7945.0</td>\n",
       "      <td>...</td>\n",
       "      <td>14353.0</td>\n",
       "      <td>0</td>\n",
       "      <td>NaN</td>\n",
       "      <td>0.0</td>\n",
       "      <td>0</td>\n",
       "      <td>0</td>\n",
       "      <td>0.0</td>\n",
       "      <td>0.0</td>\n",
       "      <td>10.0</td>\n",
       "      <td>0</td>\n",
       "    </tr>\n",
       "    <tr>\n",
       "      <th>2</th>\n",
       "      <td>c23aa37fb69e00afe2668ed150dee1ea</td>\n",
       "      <td>win8defender</td>\n",
       "      <td>1.1.15100.1</td>\n",
       "      <td>4.18.1807.18075</td>\n",
       "      <td>1.273.689.0</td>\n",
       "      <td>0</td>\n",
       "      <td>7.0</td>\n",
       "      <td>0</td>\n",
       "      <td>NaN</td>\n",
       "      <td>53447.0</td>\n",
       "      <td>...</td>\n",
       "      <td>8941.0</td>\n",
       "      <td>1</td>\n",
       "      <td>NaN</td>\n",
       "      <td>0.0</td>\n",
       "      <td>0</td>\n",
       "      <td>0</td>\n",
       "      <td>0.0</td>\n",
       "      <td>1.0</td>\n",
       "      <td>1.0</td>\n",
       "      <td>1</td>\n",
       "    </tr>\n",
       "    <tr>\n",
       "      <th>3</th>\n",
       "      <td>cba75d6c4d9b6533591e94b9cb8a5df5</td>\n",
       "      <td>win8defender</td>\n",
       "      <td>1.1.15200.1</td>\n",
       "      <td>4.12.16299.15</td>\n",
       "      <td>1.275.483.0</td>\n",
       "      <td>0</td>\n",
       "      <td>7.0</td>\n",
       "      <td>0</td>\n",
       "      <td>NaN</td>\n",
       "      <td>68585.0</td>\n",
       "      <td>...</td>\n",
       "      <td>46589.0</td>\n",
       "      <td>1</td>\n",
       "      <td>NaN</td>\n",
       "      <td>0.0</td>\n",
       "      <td>0</td>\n",
       "      <td>0</td>\n",
       "      <td>0.0</td>\n",
       "      <td>1.0</td>\n",
       "      <td>7.0</td>\n",
       "      <td>1</td>\n",
       "    </tr>\n",
       "    <tr>\n",
       "      <th>4</th>\n",
       "      <td>149746364c6b763662d03e1f263029fd</td>\n",
       "      <td>win8defender</td>\n",
       "      <td>1.1.15200.1</td>\n",
       "      <td>4.18.1807.18075</td>\n",
       "      <td>1.275.215.0</td>\n",
       "      <td>0</td>\n",
       "      <td>7.0</td>\n",
       "      <td>0</td>\n",
       "      <td>NaN</td>\n",
       "      <td>53447.0</td>\n",
       "      <td>...</td>\n",
       "      <td>52530.0</td>\n",
       "      <td>0</td>\n",
       "      <td>NaN</td>\n",
       "      <td>0.0</td>\n",
       "      <td>0</td>\n",
       "      <td>0</td>\n",
       "      <td>0.0</td>\n",
       "      <td>NaN</td>\n",
       "      <td>NaN</td>\n",
       "      <td>0</td>\n",
       "    </tr>\n",
       "  </tbody>\n",
       "</table>\n",
       "<p>5 rows × 83 columns</p>\n",
       "</div>"
      ],
      "text/plain": [
       "                  MachineIdentifier   ProductName EngineVersion  \\\n",
       "0  586d40804b950d0376575fdf10ee89ae  win8defender   1.1.15100.1   \n",
       "1  65fb3fae2d37f90e6b3174592f2490a8  win8defender   1.1.15200.1   \n",
       "2  c23aa37fb69e00afe2668ed150dee1ea  win8defender   1.1.15100.1   \n",
       "3  cba75d6c4d9b6533591e94b9cb8a5df5  win8defender   1.1.15200.1   \n",
       "4  149746364c6b763662d03e1f263029fd  win8defender   1.1.15200.1   \n",
       "\n",
       "        AppVersion AvSigVersion  IsBeta  RtpStateBitfield  IsSxsPassiveMode  \\\n",
       "0  4.18.1806.18062  1.273.520.0       0               7.0                 0   \n",
       "1  4.18.1807.18075  1.275.453.0       0               7.0                 0   \n",
       "2  4.18.1807.18075  1.273.689.0       0               7.0                 0   \n",
       "3    4.12.16299.15  1.275.483.0       0               7.0                 0   \n",
       "4  4.18.1807.18075  1.275.215.0       0               7.0                 0   \n",
       "\n",
       "   DefaultBrowsersIdentifier  AVProductStatesIdentifier      ...       \\\n",
       "0                        NaN                    53447.0      ...        \n",
       "1                        NaN                     7945.0      ...        \n",
       "2                        NaN                    53447.0      ...        \n",
       "3                        NaN                    68585.0      ...        \n",
       "4                        NaN                    53447.0      ...        \n",
       "\n",
       "   Census_FirmwareVersionIdentifier  Census_IsSecureBootEnabled  \\\n",
       "0                           27767.0                           1   \n",
       "1                           14353.0                           0   \n",
       "2                            8941.0                           1   \n",
       "3                           46589.0                           1   \n",
       "4                           52530.0                           0   \n",
       "\n",
       "   Census_IsWIMBootEnabled  Census_IsVirtualDevice  Census_IsTouchEnabled  \\\n",
       "0                      NaN                     0.0                      0   \n",
       "1                      NaN                     0.0                      0   \n",
       "2                      NaN                     0.0                      0   \n",
       "3                      NaN                     0.0                      0   \n",
       "4                      NaN                     0.0                      0   \n",
       "\n",
       "   Census_IsPenCapable  Census_IsAlwaysOnAlwaysConnectedCapable  Wdft_IsGamer  \\\n",
       "0                    0                                      0.0           1.0   \n",
       "1                    0                                      0.0           0.0   \n",
       "2                    0                                      0.0           1.0   \n",
       "3                    0                                      0.0           1.0   \n",
       "4                    0                                      0.0           NaN   \n",
       "\n",
       "  Wdft_RegionIdentifier HasDetections  \n",
       "0                  15.0             1  \n",
       "1                  10.0             0  \n",
       "2                   1.0             1  \n",
       "3                   7.0             1  \n",
       "4                   NaN             0  \n",
       "\n",
       "[5 rows x 83 columns]"
      ]
     },
     "execution_count": 4,
     "metadata": {},
     "output_type": "execute_result"
    }
   ],
   "source": [
    "df_all = pd.read_csv('./input/train_sample.csv') \n",
    "df_all.head()"
   ]
  },
  {
   "cell_type": "markdown",
   "metadata": {},
   "source": [
    "AvSigVersionTimestamps是一个公开的数据集，通过和 AvSigVersion(XX版本号) 关联，我们可以粗略的得到样本的时间。"
   ]
  },
  {
   "cell_type": "code",
   "execution_count": 5,
   "metadata": {
    "ExecuteTime": {
     "end_time": "2019-04-26T03:32:36.130746Z",
     "start_time": "2019-04-26T03:32:35.734461Z"
    }
   },
   "outputs": [],
   "source": [
    "# IMPORT TIMESTAMP DICTIONARY\n",
    "datedict = np.load('./input/AvSigVersionTimestamps.npy')\n",
    "datedict = datedict[()]\n",
    "\n",
    "df_all['Date'] = df_all['AvSigVersion'].map(datedict)\n",
    "df_all = df_all.sort_values('Date')  \n",
    "\n",
    "df_all.drop(['Date', 'MachineIdentifier'], axis=1, inplace=True)"
   ]
  },
  {
   "cell_type": "markdown",
   "metadata": {},
   "source": [
    "## 数据清理"
   ]
  },
  {
   "cell_type": "markdown",
   "metadata": {},
   "source": [
    "### 去掉无意义变量"
   ]
  },
  {
   "cell_type": "markdown",
   "metadata": {},
   "source": [
    "如果变量中某个值的占比大于99%，我认为这些变量对模型没有意义"
   ]
  },
  {
   "cell_type": "code",
   "execution_count": 6,
   "metadata": {
    "ExecuteTime": {
     "end_time": "2019-04-26T03:32:44.529985Z",
     "start_time": "2019-04-26T03:32:43.066879Z"
    }
   },
   "outputs": [
    {
     "name": "stdout",
     "output_type": "stream",
     "text": [
      "Data Shape:  (178430, 74)\n",
      "['IsBeta', 'AutoSampleOptIn', 'PuaMode', 'UacLuaenable', 'Census_DeviceFamily', 'Census_ProcessorClass', 'Census_IsPortableOperatingSystem', 'Census_IsVirtualDevice']\n"
     ]
    }
   ],
   "source": [
    "bad_cols = []\n",
    "for col in df_all.columns:\n",
    "    rate_train = df_all[col].value_counts(normalize=True, dropna=False).values[0]\n",
    "    if rate_train > 0.99:\n",
    "        bad_cols.append(col)\n",
    "\n",
    "df_all = df_all.drop(bad_cols, axis=1)\n",
    "\n",
    "print('Data Shape: ', df_all.shape)\n",
    "print(bad_cols)"
   ]
  },
  {
   "cell_type": "markdown",
   "metadata": {},
   "source": [
    "### 定义数据类型"
   ]
  },
  {
   "cell_type": "markdown",
   "metadata": {},
   "source": [
    "这里是通过EDA(Exploratory Data Analysis)的方式，人工判断的变量类型。如果你对这次比赛的细节感兴趣，可以仔细看。"
   ]
  },
  {
   "cell_type": "code",
   "execution_count": 7,
   "metadata": {
    "ExecuteTime": {
     "end_time": "2019-04-26T03:34:04.937550Z",
     "start_time": "2019-04-26T03:34:04.927334Z"
    }
   },
   "outputs": [
    {
     "name": "stdout",
     "output_type": "stream",
     "text": [
      "['ProductName', 'EngineVersion', 'AppVersion', 'AvSigVersion', 'RtpStateBitfield', 'IsSxsPassiveMode', 'AVProductsInstalled', 'AVProductsEnabled', 'HasTpm', 'CountryIdentifier', 'OrganizationIdentifier', 'GeoNameIdentifier', 'LocaleEnglishNameIdentifier', 'Platform', 'Processor', 'OsVer', 'OsBuild', 'OsSuite', 'OsPlatformSubRelease', 'SkuEdition', 'IsProtected', 'SMode', 'IeVerIdentifier', 'SmartScreen', 'Firewall', 'Census_MDC2FormFactor', 'Census_ProcessorCoreCount', 'Census_ProcessorManufacturerIdentifier', 'Census_PrimaryDiskTypeName', 'Census_HasOpticalDiskDrive', 'Census_ChassisTypeName', 'Census_PowerPlatformRoleName', 'Census_InternalBatteryType', 'Census_OSVersion', 'Census_OSArchitecture', 'Census_OSBranch', 'Census_OSBuildNumber', 'Census_OSBuildRevision', 'Census_OSEdition', 'Census_OSSkuName', 'Census_OSInstallTypeName', 'Census_OSInstallLanguageIdentifier', 'Census_OSUILocaleIdentifier', 'Census_OSWUAutoUpdateOptionsName', 'Census_GenuineStateName', 'Census_ActivationChannel', 'Census_IsFlightingInternal', 'Census_IsFlightsDisabled', 'Census_FlightRing', 'Census_ThresholdOptIn', 'Census_IsSecureBootEnabled', 'Census_IsWIMBootEnabled', 'Census_IsTouchEnabled', 'Census_IsPenCapable', 'Census_IsAlwaysOnAlwaysConnectedCapable', 'Wdft_IsGamer', 'Wdft_RegionIdentifier']\n"
     ]
    }
   ],
   "source": [
    "true_numerical_columns = [\n",
    "    'Census_PrimaryDiskTotalCapacity', 'Census_SystemVolumeTotalCapacity',\n",
    "    'Census_TotalPhysicalRAM', 'Census_InternalBatteryNumberOfCharges'\n",
    "]\n",
    "\n",
    "categorical_columns_high_car = [\n",
    "    'Census_FirmwareVersionIdentifier', 'Census_OEMModelIdentifier',\n",
    "    'AVProductStatesIdentifier', 'Census_FirmwareManufacturerIdentifier',\n",
    "    'Census_InternalPrimaryDiagonalDisplaySizeInInches',\n",
    "    'Census_InternalPrimaryDisplayResolutionHorizontal',\n",
    "    'Census_InternalPrimaryDisplayResolutionVertical',\n",
    "    'Census_OEMNameIdentifier', 'Census_ProcessorModelIdentifier',\n",
    "    'CityIdentifier', 'DefaultBrowsersIdentifier', 'OsBuildLab'\n",
    "]\n",
    "\n",
    "categorical_columns = [\n",
    "    c for c in df_all.columns\n",
    "    if c not in (['HasDetections'] + true_numerical_columns +\n",
    "                 categorical_columns_high_car)\n",
    "]\n",
    "print(categorical_columns)"
   ]
  },
  {
   "cell_type": "markdown",
   "metadata": {},
   "source": [
    "### 编码 -- Lebel Encoding"
   ]
  },
  {
   "cell_type": "markdown",
   "metadata": {},
   "source": [
    "因为使用的模型是lightgbm，所以需要对categorical(类别类) 变量做编码，这里用的label encoding。"
   ]
  },
  {
   "cell_type": "code",
   "execution_count": 8,
   "metadata": {
    "ExecuteTime": {
     "end_time": "2019-04-26T03:34:13.237294Z",
     "start_time": "2019-04-26T03:34:13.227041Z"
    }
   },
   "outputs": [],
   "source": [
    "# 为什么要RESERVE 0，如果不，会如何？\n",
    "def factor_data(df, col):\n",
    "    df_labeled, _ = df[col].factorize(sort=True)\n",
    "    # MAKE SMALLEST LABEL 1, RESERVE 0\n",
    "    df_labeled += 1\n",
    "    # MAKE NAN LARGEST LABEL\n",
    "    df_labeled = np.where(df_labeled==0, df_labeled.max()+1, df_labeled)\n",
    "    df[col] = df_labeled"
   ]
  },
  {
   "cell_type": "code",
   "execution_count": 9,
   "metadata": {
    "ExecuteTime": {
     "end_time": "2019-04-26T03:34:16.071613Z",
     "start_time": "2019-04-26T03:34:14.301875Z"
    }
   },
   "outputs": [
    {
     "name": "stderr",
     "output_type": "stream",
     "text": [
      "100%|██████████| 69/69 [00:01<00:00, 49.86it/s]\n"
     ]
    }
   ],
   "source": [
    "for col in tqdm(categorical_columns + categorical_columns_high_car):\n",
    "    factor_data(df_all, col) "
   ]
  },
  {
   "cell_type": "markdown",
   "metadata": {},
   "source": [
    "## 拆分测试集"
   ]
  },
  {
   "cell_type": "markdown",
   "metadata": {},
   "source": [
    "根据时间，拆分出一个测试集，用来评估我们validation的效果。"
   ]
  },
  {
   "cell_type": "code",
   "execution_count": 10,
   "metadata": {
    "ExecuteTime": {
     "end_time": "2019-04-26T03:34:32.669698Z",
     "start_time": "2019-04-26T03:34:32.555499Z"
    }
   },
   "outputs": [],
   "source": [
    "df_test = df_all.iloc[int(0.8*len(df_all)):, ]\n",
    "df_train = df_all.iloc[:int(0.8*len(df_all)), ]"
   ]
  },
  {
   "cell_type": "markdown",
   "metadata": {},
   "source": [
    "## 对抗验证（Adversarial Validatiion）"
   ]
  },
  {
   "cell_type": "markdown",
   "metadata": {
    "ExecuteTime": {
     "end_time": "2019-04-19T09:08:25.769307Z",
     "start_time": "2019-04-19T09:08:25.763303Z"
    }
   },
   "source": [
    "步骤：\n",
    "* 将 Train 和 Test 合成一个数据集\n",
    "* 定义新的标签：样本属于train还是test\n",
    "* 构建模型拟合\n",
    "* 观察模型效果\n",
    "如果模型的AUC超过0.7，说明了 Train 和 Test 的分布存在较大的差异。"
   ]
  },
  {
   "cell_type": "code",
   "execution_count": 11,
   "metadata": {
    "ExecuteTime": {
     "end_time": "2019-04-26T03:34:39.853008Z",
     "start_time": "2019-04-26T03:34:39.827614Z"
    }
   },
   "outputs": [],
   "source": [
    "# 做ADV的时候，需要建立validation吗？迭代的次数需要通过early_stopping得到吗？\n",
    "def adversarial_validation(df_train_, df_test_):\n",
    "    # labeling\n",
    "    df_train_['Test'] = 0\n",
    "    df_test_['Test'] = 1\n",
    "\n",
    "    # concatenating\n",
    "    df_adv = pd.concat([df_train_, df_test_]).drop(['HasDetections'], axis=1)\n",
    "    adv_data = lgb.Dataset(data=df_adv.drop('Test', axis=1),\n",
    "                           label=df_adv.loc[:, 'Test'],\n",
    "                           free_raw_data=False,\n",
    "                           silent=True)  # 这一步有什么用？\n",
    "\n",
    "    del df_adv\n",
    "    gc.collect()\n",
    "\n",
    "    params = {\n",
    "        'boosting_type': 'gbdt',\n",
    "        'colsample_bytree': 1,\n",
    "        'learning_rate': 0.3,\n",
    "        'max_depth': 7,\n",
    "        'min_child_samples': 20,\n",
    "        'min_child_weight': 1,\n",
    "        'min_split_gain': 0.0,\n",
    "        'num_leaves': 31,\n",
    "        'objective': 'binary',\n",
    "        'random_state': 50,\n",
    "        'reg_alpha': 0.0,\n",
    "        'reg_lambda': 0.0,\n",
    "        'subsample': 1.0,\n",
    "        'subsample_for_bin': 200000,\n",
    "        'subsample_freq': 0,\n",
    "        'metric': 'cross_entropy',\n",
    "        'num_threads': 8\n",
    "    }\n",
    "\n",
    "    clf = lgb.train(params=params,\n",
    "                    train_set=adv_data,\n",
    "                    num_boost_round=150,\n",
    "                    valid_sets=[adv_data],\n",
    "                    verbose_eval=False,\n",
    "                    categorical_feature=categorical_columns)\n",
    "\n",
    "    adv_auc = roc_auc_score(adv_data.label, clf.predict(adv_data.data))\n",
    "    print('Full adv AUC score %.6f' % adv_auc)\n",
    "\n",
    "    fold_importance_df = pd.DataFrame()\n",
    "    fold_importance_df[\"feature\"] = adv_data.data.columns\n",
    "    fold_importance_df[\"importance\"] = clf.feature_importance(\n",
    "        importance_type='gain')\n",
    "\n",
    "    return (fold_importance_df, adv_auc, clf, adv_data.data)"
   ]
  },
  {
   "cell_type": "code",
   "execution_count": 12,
   "metadata": {
    "ExecuteTime": {
     "end_time": "2019-04-26T03:34:50.878386Z",
     "start_time": "2019-04-26T03:34:40.516805Z"
    }
   },
   "outputs": [
    {
     "name": "stdout",
     "output_type": "stream",
     "text": [
      "Full adv AUC score 1.000000\n"
     ]
    }
   ],
   "source": [
    "adv_rslt = adversarial_validation(df_train, df_test)"
   ]
  },
  {
   "cell_type": "code",
   "execution_count": 13,
   "metadata": {
    "ExecuteTime": {
     "end_time": "2019-04-26T03:34:51.213737Z",
     "start_time": "2019-04-26T03:34:51.206133Z"
    }
   },
   "outputs": [],
   "source": [
    "# Display/plot feature importance\n",
    "def display_importances(feature_importance_df_):\n",
    "    cols = feature_importance_df_[[\"feature\", \"importance\"]].groupby(\"feature\").mean().sort_values(by=\"importance\", ascending=False)[:40].index\n",
    "    best_features = feature_importance_df_.loc[feature_importance_df_.feature.isin(cols)]\n",
    "    plt.figure(figsize=(8, 10))\n",
    "    sns.barplot(x=\"importance\", y=\"feature\", data=best_features.sort_values(by=\"importance\", ascending=False))\n",
    "    plt.title('LightGBM Features (avg over folds)')\n",
    "    plt.tight_layout\n",
    "#     plt.savefig('lgbm_importances01.png')"
   ]
  },
  {
   "cell_type": "code",
   "execution_count": 14,
   "metadata": {
    "ExecuteTime": {
     "end_time": "2019-04-26T03:34:52.145007Z",
     "start_time": "2019-04-26T03:34:51.559852Z"
    }
   },
   "outputs": [
    {
     "data": {
      "image/png": "[encoded data removed]",
      "text/plain": [
       "<Figure size 576x720 with 1 Axes>"
      ]
     },
     "metadata": {
      "needs_background": "light"
     },
     "output_type": "display_data"
    }
   ],
   "source": [
    "adv_feats_importance = adv_rslt[0]\n",
    "display_importances(adv_feats_importance)"
   ]
  },
  {
   "cell_type": "markdown",
   "metadata": {
    "ExecuteTime": {
     "end_time": "2019-04-25T08:46:01.150039Z",
     "start_time": "2019-04-25T08:46:01.146049Z"
    }
   },
   "source": [
    "## 交叉验证（Cross Validation）"
   ]
  },
  {
   "cell_type": "code",
   "execution_count": 15,
   "metadata": {
    "ExecuteTime": {
     "end_time": "2019-04-26T03:34:56.003842Z",
     "start_time": "2019-04-26T03:34:55.987542Z"
    }
   },
   "outputs": [],
   "source": [
    "params = {\n",
    "    'boosting_type': 'gbdt',\n",
    "    'colsample_bytree': 1,\n",
    "    'learning_rate': 0.1,\n",
    "    'max_depth': 5,\n",
    "    'min_child_samples': 100,\n",
    "    'min_child_weight': 1,\n",
    "    'min_split_gain': 0.0,\n",
    "    'num_leaves': 20,\n",
    "    'objective': 'binary',\n",
    "    'random_state': 50,\n",
    "    'subsample': 1.0,\n",
    "    'subsample_freq': 0,\n",
    "    'metric': 'auc',\n",
    "    'num_threads': 8\n",
    "}"
   ]
  },
  {
   "cell_type": "code",
   "execution_count": 16,
   "metadata": {
    "ExecuteTime": {
     "end_time": "2019-04-26T03:35:39.415432Z",
     "start_time": "2019-04-26T03:34:56.500067Z"
    },
    "scrolled": true
   },
   "outputs": [
    {
     "name": "stdout",
     "output_type": "stream",
     "text": [
      "[1]\tcv_agg's auc: 0.673642 + 0.00265052\n",
      "[2]\tcv_agg's auc: 0.678893 + 0.00448619\n",
      "[3]\tcv_agg's auc: 0.681506 + 0.00347297\n",
      "[4]\tcv_agg's auc: 0.682945 + 0.00385881\n",
      "[5]\tcv_agg's auc: 0.684684 + 0.0041531\n",
      "[6]\tcv_agg's auc: 0.686289 + 0.00343128\n",
      "[7]\tcv_agg's auc: 0.687549 + 0.00316743\n",
      "[8]\tcv_agg's auc: 0.688257 + 0.0034225\n",
      "[9]\tcv_agg's auc: 0.689064 + 0.00333125\n",
      "[10]\tcv_agg's auc: 0.690081 + 0.00332507\n",
      "[11]\tcv_agg's auc: 0.690898 + 0.00355769\n",
      "[12]\tcv_agg's auc: 0.691641 + 0.00343357\n",
      "[13]\tcv_agg's auc: 0.692108 + 0.00359948\n",
      "[14]\tcv_agg's auc: 0.692707 + 0.00384981\n",
      "[15]\tcv_agg's auc: 0.693462 + 0.00350958\n",
      "[16]\tcv_agg's auc: 0.693609 + 0.00341991\n",
      "[17]\tcv_agg's auc: 0.69383 + 0.00328001\n",
      "[18]\tcv_agg's auc: 0.694183 + 0.00329412\n",
      "[19]\tcv_agg's auc: 0.694634 + 0.00340595\n",
      "[20]\tcv_agg's auc: 0.695012 + 0.00318532\n",
      "[21]\tcv_agg's auc: 0.69514 + 0.00324965\n",
      "[22]\tcv_agg's auc: 0.695565 + 0.00343536\n",
      "[23]\tcv_agg's auc: 0.696031 + 0.00331183\n",
      "[24]\tcv_agg's auc: 0.696424 + 0.00332546\n",
      "[25]\tcv_agg's auc: 0.696618 + 0.00332648\n",
      "[26]\tcv_agg's auc: 0.697007 + 0.00344113\n",
      "[27]\tcv_agg's auc: 0.697209 + 0.00354729\n",
      "[28]\tcv_agg's auc: 0.69753 + 0.00339477\n",
      "[29]\tcv_agg's auc: 0.697669 + 0.00349056\n",
      "[30]\tcv_agg's auc: 0.697982 + 0.00354894\n",
      "[31]\tcv_agg's auc: 0.698157 + 0.00368691\n",
      "[32]\tcv_agg's auc: 0.698417 + 0.00357652\n",
      "[33]\tcv_agg's auc: 0.698542 + 0.00356946\n",
      "[34]\tcv_agg's auc: 0.698682 + 0.00346246\n",
      "[35]\tcv_agg's auc: 0.698788 + 0.00346071\n",
      "[36]\tcv_agg's auc: 0.698829 + 0.00349142\n",
      "[37]\tcv_agg's auc: 0.698899 + 0.00352678\n",
      "[38]\tcv_agg's auc: 0.699016 + 0.00352905\n",
      "[39]\tcv_agg's auc: 0.699233 + 0.00359655\n",
      "[40]\tcv_agg's auc: 0.699332 + 0.00368476\n",
      "[41]\tcv_agg's auc: 0.699447 + 0.00366172\n",
      "[42]\tcv_agg's auc: 0.699669 + 0.00350924\n",
      "[43]\tcv_agg's auc: 0.699811 + 0.0035476\n",
      "[44]\tcv_agg's auc: 0.699935 + 0.00350795\n",
      "[45]\tcv_agg's auc: 0.700074 + 0.00359138\n",
      "[46]\tcv_agg's auc: 0.700116 + 0.00349727\n",
      "[47]\tcv_agg's auc: 0.700237 + 0.00348833\n",
      "[48]\tcv_agg's auc: 0.700189 + 0.00352063\n",
      "[49]\tcv_agg's auc: 0.700248 + 0.00353862\n",
      "[50]\tcv_agg's auc: 0.700359 + 0.00347187\n",
      "[51]\tcv_agg's auc: 0.700308 + 0.00340073\n",
      "[52]\tcv_agg's auc: 0.700455 + 0.00341802\n",
      "[53]\tcv_agg's auc: 0.700528 + 0.00347858\n",
      "[54]\tcv_agg's auc: 0.700496 + 0.0035206\n",
      "[55]\tcv_agg's auc: 0.700625 + 0.0034804\n",
      "[56]\tcv_agg's auc: 0.700623 + 0.00350384\n",
      "[57]\tcv_agg's auc: 0.700556 + 0.003555\n",
      "[58]\tcv_agg's auc: 0.700757 + 0.00348334\n",
      "[59]\tcv_agg's auc: 0.70087 + 0.0036437\n",
      "[60]\tcv_agg's auc: 0.700844 + 0.00360128\n",
      "[61]\tcv_agg's auc: 0.700907 + 0.00350601\n",
      "[62]\tcv_agg's auc: 0.700944 + 0.00358943\n",
      "[63]\tcv_agg's auc: 0.700936 + 0.00359792\n",
      "[64]\tcv_agg's auc: 0.700895 + 0.00361589\n",
      "[65]\tcv_agg's auc: 0.70107 + 0.00351954\n",
      "[66]\tcv_agg's auc: 0.701037 + 0.0035337\n",
      "[67]\tcv_agg's auc: 0.701161 + 0.00352953\n",
      "[68]\tcv_agg's auc: 0.701156 + 0.00354453\n",
      "[69]\tcv_agg's auc: 0.70117 + 0.00360473\n",
      "[70]\tcv_agg's auc: 0.701303 + 0.00356851\n",
      "[71]\tcv_agg's auc: 0.701282 + 0.00351559\n",
      "[72]\tcv_agg's auc: 0.701268 + 0.00350478\n",
      "[73]\tcv_agg's auc: 0.701277 + 0.00351383\n",
      "[74]\tcv_agg's auc: 0.701225 + 0.00353991\n",
      "[75]\tcv_agg's auc: 0.701169 + 0.00356183\n",
      "[76]\tcv_agg's auc: 0.701243 + 0.00348941\n",
      "[77]\tcv_agg's auc: 0.701183 + 0.00352386\n",
      "[78]\tcv_agg's auc: 0.701221 + 0.00351123\n",
      "[79]\tcv_agg's auc: 0.701222 + 0.00349972\n",
      "[80]\tcv_agg's auc: 0.701289 + 0.00341932\n",
      "[81]\tcv_agg's auc: 0.701352 + 0.00342555\n",
      "[82]\tcv_agg's auc: 0.70136 + 0.003446\n",
      "[83]\tcv_agg's auc: 0.701444 + 0.0034886\n",
      "[84]\tcv_agg's auc: 0.701396 + 0.00342717\n",
      "[85]\tcv_agg's auc: 0.701337 + 0.00339179\n",
      "[86]\tcv_agg's auc: 0.701374 + 0.00336005\n",
      "[87]\tcv_agg's auc: 0.701321 + 0.00333481\n",
      "[88]\tcv_agg's auc: 0.701301 + 0.00338374\n",
      "[89]\tcv_agg's auc: 0.701298 + 0.0033618\n",
      "[90]\tcv_agg's auc: 0.701278 + 0.00336204\n",
      "[91]\tcv_agg's auc: 0.701265 + 0.00335858\n",
      "[92]\tcv_agg's auc: 0.701315 + 0.00335322\n",
      "[93]\tcv_agg's auc: 0.701317 + 0.0033131\n",
      "[94]\tcv_agg's auc: 0.701312 + 0.00335443\n",
      "[95]\tcv_agg's auc: 0.7013 + 0.0033588\n",
      "[96]\tcv_agg's auc: 0.701277 + 0.00340577\n",
      "[97]\tcv_agg's auc: 0.701336 + 0.00342654\n",
      "[98]\tcv_agg's auc: 0.701353 + 0.0033602\n",
      "[99]\tcv_agg's auc: 0.701342 + 0.00334934\n",
      "[100]\tcv_agg's auc: 0.701333 + 0.00327826\n",
      "[101]\tcv_agg's auc: 0.701373 + 0.00315796\n",
      "[102]\tcv_agg's auc: 0.701338 + 0.00313672\n",
      "[103]\tcv_agg's auc: 0.701358 + 0.00313454\n",
      "[104]\tcv_agg's auc: 0.701334 + 0.00310083\n",
      "[105]\tcv_agg's auc: 0.701349 + 0.00311119\n",
      "[106]\tcv_agg's auc: 0.701344 + 0.00307943\n",
      "[107]\tcv_agg's auc: 0.701361 + 0.00311846\n",
      "[108]\tcv_agg's auc: 0.70133 + 0.00307583\n",
      "[109]\tcv_agg's auc: 0.701325 + 0.0030723\n",
      "[110]\tcv_agg's auc: 0.701298 + 0.00308351\n",
      "[111]\tcv_agg's auc: 0.701273 + 0.00312572\n",
      "[112]\tcv_agg's auc: 0.701263 + 0.0031083\n",
      "[113]\tcv_agg's auc: 0.70126 + 0.00320346\n",
      "[114]\tcv_agg's auc: 0.70113 + 0.00317217\n",
      "[115]\tcv_agg's auc: 0.701108 + 0.00314055\n",
      "[116]\tcv_agg's auc: 0.70113 + 0.00313596\n",
      "[117]\tcv_agg's auc: 0.701161 + 0.0031374\n",
      "[118]\tcv_agg's auc: 0.701144 + 0.00312682\n",
      "[119]\tcv_agg's auc: 0.70114 + 0.00308709\n",
      "[120]\tcv_agg's auc: 0.701105 + 0.00308077\n",
      "[121]\tcv_agg's auc: 0.701082 + 0.00306223\n",
      "[122]\tcv_agg's auc: 0.701048 + 0.00310531\n",
      "[123]\tcv_agg's auc: 0.701017 + 0.00305225\n",
      "[124]\tcv_agg's auc: 0.700998 + 0.00297471\n",
      "[125]\tcv_agg's auc: 0.701031 + 0.00295602\n",
      "[126]\tcv_agg's auc: 0.701038 + 0.00299307\n",
      "[127]\tcv_agg's auc: 0.701018 + 0.00295206\n",
      "[128]\tcv_agg's auc: 0.700954 + 0.00298988\n",
      "[129]\tcv_agg's auc: 0.700985 + 0.00297788\n",
      "[130]\tcv_agg's auc: 0.700951 + 0.00299711\n",
      "[131]\tcv_agg's auc: 0.700989 + 0.00305483\n",
      "[132]\tcv_agg's auc: 0.700965 + 0.00302485\n",
      "[133]\tcv_agg's auc: 0.700975 + 0.00299782\n",
      "[134]\tcv_agg's auc: 0.700974 + 0.00302281\n",
      "[135]\tcv_agg's auc: 0.700928 + 0.0030342\n",
      "[136]\tcv_agg's auc: 0.700925 + 0.00304591\n",
      "[137]\tcv_agg's auc: 0.700917 + 0.00297527\n",
      "[138]\tcv_agg's auc: 0.700903 + 0.00302708\n",
      "[139]\tcv_agg's auc: 0.700964 + 0.00306983\n",
      "[140]\tcv_agg's auc: 0.700986 + 0.00306126\n",
      "[141]\tcv_agg's auc: 0.700945 + 0.00305566\n",
      "[142]\tcv_agg's auc: 0.700942 + 0.00303926\n",
      "[143]\tcv_agg's auc: 0.700945 + 0.00304662\n",
      "[144]\tcv_agg's auc: 0.700904 + 0.00303724\n",
      "[145]\tcv_agg's auc: 0.700892 + 0.0030165\n",
      "[146]\tcv_agg's auc: 0.70087 + 0.00305019\n",
      "[147]\tcv_agg's auc: 0.700864 + 0.0030495\n",
      "[148]\tcv_agg's auc: 0.700788 + 0.00307361\n",
      "[149]\tcv_agg's auc: 0.700771 + 0.00311525\n",
      "[150]\tcv_agg's auc: 0.7007 + 0.00308477\n",
      "[151]\tcv_agg's auc: 0.700727 + 0.00305555\n",
      "[152]\tcv_agg's auc: 0.70072 + 0.00306656\n",
      "[153]\tcv_agg's auc: 0.700675 + 0.00305017\n",
      "[154]\tcv_agg's auc: 0.700674 + 0.00302731\n",
      "[155]\tcv_agg's auc: 0.700646 + 0.00307325\n",
      "[156]\tcv_agg's auc: 0.700626 + 0.00306582\n",
      "[157]\tcv_agg's auc: 0.700594 + 0.0030525\n",
      "[158]\tcv_agg's auc: 0.70061 + 0.00302189\n",
      "[159]\tcv_agg's auc: 0.700597 + 0.00301431\n",
      "[160]\tcv_agg's auc: 0.700626 + 0.00303968\n",
      "[161]\tcv_agg's auc: 0.700623 + 0.00310973\n",
      "[162]\tcv_agg's auc: 0.700627 + 0.00316075\n",
      "[163]\tcv_agg's auc: 0.700593 + 0.00313325\n",
      "[164]\tcv_agg's auc: 0.700546 + 0.0031815\n",
      "[165]\tcv_agg's auc: 0.700564 + 0.00317237\n",
      "[166]\tcv_agg's auc: 0.700562 + 0.00321054\n",
      "[167]\tcv_agg's auc: 0.700588 + 0.00322513\n",
      "[168]\tcv_agg's auc: 0.700594 + 0.00324684\n",
      "[169]\tcv_agg's auc: 0.700591 + 0.00319782\n",
      "[170]\tcv_agg's auc: 0.700611 + 0.00321006\n",
      "[171]\tcv_agg's auc: 0.700598 + 0.00320638\n",
      "[172]\tcv_agg's auc: 0.700629 + 0.00323349\n",
      "[173]\tcv_agg's auc: 0.700611 + 0.00323962\n",
      "[174]\tcv_agg's auc: 0.700559 + 0.00321616\n",
      "[175]\tcv_agg's auc: 0.70055 + 0.0032438\n",
      "[176]\tcv_agg's auc: 0.700511 + 0.00324205\n",
      "[177]\tcv_agg's auc: 0.700443 + 0.00328424\n",
      "[178]\tcv_agg's auc: 0.700423 + 0.00330401\n",
      "[179]\tcv_agg's auc: 0.700403 + 0.00334071\n",
      "[180]\tcv_agg's auc: 0.700331 + 0.00335042\n",
      "[181]\tcv_agg's auc: 0.700305 + 0.00332576\n",
      "[182]\tcv_agg's auc: 0.700304 + 0.00332936\n",
      "[183]\tcv_agg's auc: 0.700276 + 0.00336139\n",
      "[184]\tcv_agg's auc: 0.700278 + 0.00338539\n",
      "[185]\tcv_agg's auc: 0.700273 + 0.00345021\n",
      "[186]\tcv_agg's auc: 0.700256 + 0.00345276\n",
      "[187]\tcv_agg's auc: 0.700259 + 0.00341567\n",
      "[188]\tcv_agg's auc: 0.7002 + 0.00341557\n",
      "[189]\tcv_agg's auc: 0.700175 + 0.0034026\n",
      "[190]\tcv_agg's auc: 0.70025 + 0.00338391\n",
      "[191]\tcv_agg's auc: 0.700189 + 0.00340941\n",
      "[192]\tcv_agg's auc: 0.700185 + 0.00336489\n",
      "[193]\tcv_agg's auc: 0.700175 + 0.00337788\n",
      "[194]\tcv_agg's auc: 0.700116 + 0.0033633\n",
      "[195]\tcv_agg's auc: 0.700113 + 0.00335926\n",
      "[196]\tcv_agg's auc: 0.70013 + 0.00334293\n",
      "[197]\tcv_agg's auc: 0.700017 + 0.00336249\n",
      "[198]\tcv_agg's auc: 0.699991 + 0.00336951\n",
      "[199]\tcv_agg's auc: 0.699957 + 0.00334875\n"
     ]
    },
    {
     "name": "stdout",
     "output_type": "stream",
     "text": [
      "[200]\tcv_agg's auc: 0.699931 + 0.00338514\n",
      "[201]\tcv_agg's auc: 0.699909 + 0.00332299\n",
      "[202]\tcv_agg's auc: 0.699903 + 0.003358\n",
      "[203]\tcv_agg's auc: 0.699889 + 0.00332874\n",
      "[204]\tcv_agg's auc: 0.699886 + 0.00328193\n",
      "[205]\tcv_agg's auc: 0.699943 + 0.00320245\n",
      "[206]\tcv_agg's auc: 0.699879 + 0.00322782\n",
      "[207]\tcv_agg's auc: 0.699792 + 0.0032461\n",
      "[208]\tcv_agg's auc: 0.699732 + 0.00325164\n",
      "[209]\tcv_agg's auc: 0.69971 + 0.00319165\n",
      "[210]\tcv_agg's auc: 0.699629 + 0.00319212\n",
      "[211]\tcv_agg's auc: 0.699643 + 0.00320773\n",
      "[212]\tcv_agg's auc: 0.699651 + 0.00324131\n",
      "[213]\tcv_agg's auc: 0.699618 + 0.00330046\n",
      "[214]\tcv_agg's auc: 0.699601 + 0.00327513\n",
      "[215]\tcv_agg's auc: 0.699595 + 0.00326767\n",
      "[216]\tcv_agg's auc: 0.69956 + 0.00324504\n",
      "[217]\tcv_agg's auc: 0.699553 + 0.0032811\n",
      "[218]\tcv_agg's auc: 0.699539 + 0.00330446\n",
      "[219]\tcv_agg's auc: 0.699516 + 0.00330204\n",
      "[220]\tcv_agg's auc: 0.699502 + 0.00329667\n",
      "[221]\tcv_agg's auc: 0.699485 + 0.00328499\n",
      "[222]\tcv_agg's auc: 0.699456 + 0.00328292\n",
      "[223]\tcv_agg's auc: 0.69946 + 0.00325112\n",
      "[224]\tcv_agg's auc: 0.699471 + 0.00325479\n",
      "[225]\tcv_agg's auc: 0.699463 + 0.00327326\n",
      "[226]\tcv_agg's auc: 0.699395 + 0.00331988\n",
      "[227]\tcv_agg's auc: 0.699334 + 0.00330879\n",
      "[228]\tcv_agg's auc: 0.699289 + 0.00331747\n",
      "[229]\tcv_agg's auc: 0.69926 + 0.00337595\n",
      "[230]\tcv_agg's auc: 0.699193 + 0.00340362\n",
      "[231]\tcv_agg's auc: 0.699178 + 0.0033784\n",
      "[232]\tcv_agg's auc: 0.699108 + 0.00339935\n",
      "[233]\tcv_agg's auc: 0.699053 + 0.0034054\n",
      "[234]\tcv_agg's auc: 0.699005 + 0.00339277\n",
      "[235]\tcv_agg's auc: 0.699033 + 0.00337479\n",
      "[236]\tcv_agg's auc: 0.699018 + 0.00338721\n",
      "[237]\tcv_agg's auc: 0.699028 + 0.00340033\n",
      "[238]\tcv_agg's auc: 0.698996 + 0.00338473\n",
      "[239]\tcv_agg's auc: 0.699049 + 0.00341858\n",
      "[240]\tcv_agg's auc: 0.699041 + 0.00344354\n",
      "[241]\tcv_agg's auc: 0.699018 + 0.00345283\n",
      "[242]\tcv_agg's auc: 0.699005 + 0.00344224\n",
      "[243]\tcv_agg's auc: 0.698971 + 0.00343403\n",
      "[244]\tcv_agg's auc: 0.698889 + 0.00338428\n",
      "[245]\tcv_agg's auc: 0.698806 + 0.00340342\n",
      "[246]\tcv_agg's auc: 0.698796 + 0.0033782\n",
      "[247]\tcv_agg's auc: 0.698774 + 0.00339589\n",
      "[248]\tcv_agg's auc: 0.698726 + 0.00339153\n",
      "[249]\tcv_agg's auc: 0.698727 + 0.00339353\n",
      "[250]\tcv_agg's auc: 0.698671 + 0.00340723\n",
      "[251]\tcv_agg's auc: 0.698662 + 0.00342493\n",
      "[252]\tcv_agg's auc: 0.698616 + 0.00342843\n",
      "[253]\tcv_agg's auc: 0.698588 + 0.00345922\n",
      "[254]\tcv_agg's auc: 0.698618 + 0.00340707\n",
      "[255]\tcv_agg's auc: 0.698631 + 0.00338383\n",
      "[256]\tcv_agg's auc: 0.698589 + 0.0033882\n",
      "[257]\tcv_agg's auc: 0.698604 + 0.00339151\n",
      "[258]\tcv_agg's auc: 0.698586 + 0.00342305\n",
      "[259]\tcv_agg's auc: 0.698598 + 0.00345163\n",
      "[260]\tcv_agg's auc: 0.698658 + 0.00350502\n",
      "[261]\tcv_agg's auc: 0.698618 + 0.00347696\n",
      "[262]\tcv_agg's auc: 0.6986 + 0.00348389\n",
      "[263]\tcv_agg's auc: 0.698579 + 0.00344392\n",
      "[264]\tcv_agg's auc: 0.698526 + 0.00340998\n",
      "[265]\tcv_agg's auc: 0.69851 + 0.00338996\n",
      "[266]\tcv_agg's auc: 0.698501 + 0.0034598\n",
      "[267]\tcv_agg's auc: 0.698485 + 0.0034776\n",
      "[268]\tcv_agg's auc: 0.698472 + 0.00348485\n",
      "[269]\tcv_agg's auc: 0.698484 + 0.00345757\n",
      "[270]\tcv_agg's auc: 0.698455 + 0.00344144\n",
      "[271]\tcv_agg's auc: 0.698478 + 0.00343007\n",
      "[272]\tcv_agg's auc: 0.698429 + 0.0034687\n",
      "[273]\tcv_agg's auc: 0.698374 + 0.00348816\n",
      "[274]\tcv_agg's auc: 0.698337 + 0.00346743\n",
      "[275]\tcv_agg's auc: 0.698319 + 0.00344545\n",
      "[276]\tcv_agg's auc: 0.698274 + 0.00344278\n",
      "[277]\tcv_agg's auc: 0.698256 + 0.00341593\n",
      "[278]\tcv_agg's auc: 0.698239 + 0.0034148\n",
      "[279]\tcv_agg's auc: 0.698214 + 0.00339488\n",
      "[280]\tcv_agg's auc: 0.698186 + 0.00341459\n",
      "[281]\tcv_agg's auc: 0.698182 + 0.00338633\n",
      "[282]\tcv_agg's auc: 0.69816 + 0.00342484\n",
      "[283]\tcv_agg's auc: 0.698171 + 0.00339367\n",
      "The maximium ROC AUC in cross validation was 0.70144 with std of 0.00349.\n",
      "The ideal number of iterations was 83.\n"
     ]
    }
   ],
   "source": [
    "train_set = lgb.Dataset(\n",
    "    df_train.drop('HasDetections', axis=1),\n",
    "    label=df_train.loc[:, 'HasDetections'])\n",
    "\n",
    "# Perform cross validation with early stopping\n",
    "N_FOLDS = 5\n",
    "cv_results = lgb.cv(\n",
    "    params,\n",
    "    train_set,\n",
    "    num_boost_round=10000,\n",
    "    nfold=N_FOLDS,\n",
    "    categorical_feature=categorical_columns,\n",
    "    early_stopping_rounds=200,\n",
    "    verbose_eval=True,\n",
    "    seed=42)\n",
    "\n",
    "# Highest score\n",
    "best = cv_results['auc-mean'][-1]\n",
    "\n",
    "# Standard deviation of best score\n",
    "best_std = cv_results['auc-stdv'][-1]\n",
    "\n",
    "print(\n",
    "    'The maximium ROC AUC in cross validation was {:.5f} with std of {:.5f}.'.\n",
    "    format(best, best_std))\n",
    "\n",
    "print('The ideal number of iterations was {}.'.format(\n",
    "    len(cv_results['auc-mean'])))"
   ]
  },
  {
   "cell_type": "code",
   "execution_count": 17,
   "metadata": {
    "ExecuteTime": {
     "end_time": "2019-04-26T03:35:39.869227Z",
     "start_time": "2019-04-26T03:35:39.865223Z"
    }
   },
   "outputs": [],
   "source": [
    "params['n_estimators'] = len(cv_results['auc-mean'])"
   ]
  },
  {
   "cell_type": "code",
   "execution_count": 18,
   "metadata": {
    "ExecuteTime": {
     "end_time": "2019-04-26T03:35:43.232278Z",
     "start_time": "2019-04-26T03:35:40.175907Z"
    }
   },
   "outputs": [
    {
     "name": "stdout",
     "output_type": "stream",
     "text": [
      "The baseline model scores 0.66980 ROC AUC on the oot set.\n"
     ]
    }
   ],
   "source": [
    "model = lgb.LGBMClassifier(**params)\n",
    "model.fit(df_train.drop('HasDetections', axis=1), df_train.loc[:, 'HasDetections'])\n",
    "\n",
    "# AUC\n",
    "preds_test = model.predict_proba(df_test.drop('HasDetections', axis=1))[:, 1]\n",
    "auc_test = roc_auc_score(df_test.loc[:, 'HasDetections'], preds_test)\n",
    "print('The baseline model scores {:.5f} ROC AUC on the oot set.'.format(\n",
    "    auc_test))"
   ]
  },
  {
   "cell_type": "markdown",
   "metadata": {},
   "source": [
    "## 人工划分验证集"
   ]
  },
  {
   "cell_type": "code",
   "execution_count": 19,
   "metadata": {
    "ExecuteTime": {
     "end_time": "2019-04-26T03:35:43.630871Z",
     "start_time": "2019-04-26T03:35:43.626919Z"
    }
   },
   "outputs": [],
   "source": [
    "df_validation = df_train.iloc[int(0.8*len(df_train)):, ]\n",
    "df_train = df_train.iloc[:int(0.8*len(df_train)), ]"
   ]
  },
  {
   "cell_type": "code",
   "execution_count": 20,
   "metadata": {
    "ExecuteTime": {
     "end_time": "2019-04-26T03:35:44.013420Z",
     "start_time": "2019-04-26T03:35:43.971249Z"
    }
   },
   "outputs": [],
   "source": [
    "dtrain = lgb.Dataset(data=df_train.drop('HasDetections', axis=1), \n",
    "                             label=df_train.loc[:, 'HasDetections'], \n",
    "                             free_raw_data=False, silent=True)\n",
    "\n",
    "dvalid = lgb.Dataset(data=df_validation.drop('HasDetections', axis=1), \n",
    "                     label=df_validation.loc[:, 'HasDetections'], \n",
    "                     free_raw_data=False, silent=True)"
   ]
  },
  {
   "cell_type": "code",
   "execution_count": 21,
   "metadata": {
    "ExecuteTime": {
     "end_time": "2019-04-26T03:35:44.351707Z",
     "start_time": "2019-04-26T03:35:44.347706Z"
    }
   },
   "outputs": [
    {
     "data": {
      "text/plain": [
       "83"
      ]
     },
     "execution_count": 21,
     "metadata": {},
     "output_type": "execute_result"
    }
   ],
   "source": [
    "params.pop('n_estimators', None)"
   ]
  },
  {
   "cell_type": "code",
   "execution_count": 22,
   "metadata": {
    "ExecuteTime": {
     "end_time": "2019-04-26T03:36:07.098744Z",
     "start_time": "2019-04-26T03:35:44.691760Z"
    },
    "scrolled": true
   },
   "outputs": [
    {
     "name": "stdout",
     "output_type": "stream",
     "text": [
      "[1]\ttraining's auc: 0.688654\tvalid_1's auc: 0.642369\n",
      "Training until validation scores don't improve for 200 rounds.\n",
      "[2]\ttraining's auc: 0.69429\tvalid_1's auc: 0.649962\n",
      "[3]\ttraining's auc: 0.696418\tvalid_1's auc: 0.651748\n",
      "[4]\ttraining's auc: 0.698366\tvalid_1's auc: 0.653697\n",
      "[5]\ttraining's auc: 0.699429\tvalid_1's auc: 0.654109\n",
      "[6]\ttraining's auc: 0.70092\tvalid_1's auc: 0.654634\n",
      "[7]\ttraining's auc: 0.704122\tvalid_1's auc: 0.655645\n",
      "[8]\ttraining's auc: 0.706059\tvalid_1's auc: 0.657076\n",
      "[9]\ttraining's auc: 0.706789\tvalid_1's auc: 0.657017\n",
      "[10]\ttraining's auc: 0.708772\tvalid_1's auc: 0.659064\n",
      "[11]\ttraining's auc: 0.709966\tvalid_1's auc: 0.659128\n",
      "[12]\ttraining's auc: 0.710595\tvalid_1's auc: 0.65896\n",
      "[13]\ttraining's auc: 0.712962\tvalid_1's auc: 0.660827\n",
      "[14]\ttraining's auc: 0.714985\tvalid_1's auc: 0.66104\n",
      "[15]\ttraining's auc: 0.716574\tvalid_1's auc: 0.661911\n",
      "[16]\ttraining's auc: 0.717889\tvalid_1's auc: 0.662541\n",
      "[17]\ttraining's auc: 0.718961\tvalid_1's auc: 0.663312\n",
      "[18]\ttraining's auc: 0.719463\tvalid_1's auc: 0.663325\n",
      "[19]\ttraining's auc: 0.720344\tvalid_1's auc: 0.663683\n",
      "[20]\ttraining's auc: 0.721599\tvalid_1's auc: 0.664064\n",
      "[21]\ttraining's auc: 0.722693\tvalid_1's auc: 0.664566\n",
      "[22]\ttraining's auc: 0.724333\tvalid_1's auc: 0.664592\n",
      "[23]\ttraining's auc: 0.726076\tvalid_1's auc: 0.664567\n",
      "[24]\ttraining's auc: 0.726912\tvalid_1's auc: 0.664831\n",
      "[25]\ttraining's auc: 0.727809\tvalid_1's auc: 0.665285\n",
      "[26]\ttraining's auc: 0.728751\tvalid_1's auc: 0.665552\n",
      "[27]\ttraining's auc: 0.729567\tvalid_1's auc: 0.665861\n",
      "[28]\ttraining's auc: 0.730693\tvalid_1's auc: 0.666068\n",
      "[29]\ttraining's auc: 0.731295\tvalid_1's auc: 0.66627\n",
      "[30]\ttraining's auc: 0.732656\tvalid_1's auc: 0.666682\n",
      "[31]\ttraining's auc: 0.734244\tvalid_1's auc: 0.667238\n",
      "[32]\ttraining's auc: 0.734617\tvalid_1's auc: 0.667438\n",
      "[33]\ttraining's auc: 0.735755\tvalid_1's auc: 0.667634\n",
      "[34]\ttraining's auc: 0.736473\tvalid_1's auc: 0.667857\n",
      "[35]\ttraining's auc: 0.737041\tvalid_1's auc: 0.668193\n",
      "[36]\ttraining's auc: 0.737953\tvalid_1's auc: 0.668424\n",
      "[37]\ttraining's auc: 0.738672\tvalid_1's auc: 0.668604\n",
      "[38]\ttraining's auc: 0.739306\tvalid_1's auc: 0.668619\n",
      "[39]\ttraining's auc: 0.740149\tvalid_1's auc: 0.668806\n",
      "[40]\ttraining's auc: 0.741027\tvalid_1's auc: 0.668736\n",
      "[41]\ttraining's auc: 0.7418\tvalid_1's auc: 0.669289\n",
      "[42]\ttraining's auc: 0.742798\tvalid_1's auc: 0.669182\n",
      "[43]\ttraining's auc: 0.743543\tvalid_1's auc: 0.669401\n",
      "[44]\ttraining's auc: 0.744133\tvalid_1's auc: 0.66942\n",
      "[45]\ttraining's auc: 0.744889\tvalid_1's auc: 0.669675\n",
      "[46]\ttraining's auc: 0.745673\tvalid_1's auc: 0.669923\n",
      "[47]\ttraining's auc: 0.746163\tvalid_1's auc: 0.669996\n",
      "[48]\ttraining's auc: 0.746685\tvalid_1's auc: 0.670011\n",
      "[49]\ttraining's auc: 0.747231\tvalid_1's auc: 0.669929\n",
      "[50]\ttraining's auc: 0.747828\tvalid_1's auc: 0.669891\n",
      "[51]\ttraining's auc: 0.748548\tvalid_1's auc: 0.670154\n",
      "[52]\ttraining's auc: 0.748941\tvalid_1's auc: 0.670129\n",
      "[53]\ttraining's auc: 0.749524\tvalid_1's auc: 0.67022\n",
      "[54]\ttraining's auc: 0.75009\tvalid_1's auc: 0.670376\n",
      "[55]\ttraining's auc: 0.7505\tvalid_1's auc: 0.670401\n",
      "[56]\ttraining's auc: 0.75081\tvalid_1's auc: 0.670476\n",
      "[57]\ttraining's auc: 0.751278\tvalid_1's auc: 0.670438\n",
      "[58]\ttraining's auc: 0.751738\tvalid_1's auc: 0.67058\n",
      "[59]\ttraining's auc: 0.752876\tvalid_1's auc: 0.670933\n",
      "[60]\ttraining's auc: 0.753329\tvalid_1's auc: 0.671118\n",
      "[61]\ttraining's auc: 0.754042\tvalid_1's auc: 0.671232\n",
      "[62]\ttraining's auc: 0.754507\tvalid_1's auc: 0.67097\n",
      "[63]\ttraining's auc: 0.755058\tvalid_1's auc: 0.671048\n",
      "[64]\ttraining's auc: 0.755727\tvalid_1's auc: 0.67111\n",
      "[65]\ttraining's auc: 0.755917\tvalid_1's auc: 0.671214\n",
      "[66]\ttraining's auc: 0.756408\tvalid_1's auc: 0.671567\n",
      "[67]\ttraining's auc: 0.756805\tvalid_1's auc: 0.671921\n",
      "[68]\ttraining's auc: 0.757773\tvalid_1's auc: 0.67199\n",
      "[69]\ttraining's auc: 0.758474\tvalid_1's auc: 0.672291\n",
      "[70]\ttraining's auc: 0.759006\tvalid_1's auc: 0.672362\n",
      "[71]\ttraining's auc: 0.759274\tvalid_1's auc: 0.672374\n",
      "[72]\ttraining's auc: 0.759438\tvalid_1's auc: 0.672354\n",
      "[73]\ttraining's auc: 0.759981\tvalid_1's auc: 0.67238\n",
      "[74]\ttraining's auc: 0.760568\tvalid_1's auc: 0.672358\n",
      "[75]\ttraining's auc: 0.761004\tvalid_1's auc: 0.672336\n",
      "[76]\ttraining's auc: 0.761584\tvalid_1's auc: 0.672316\n",
      "[77]\ttraining's auc: 0.761843\tvalid_1's auc: 0.672249\n",
      "[78]\ttraining's auc: 0.762365\tvalid_1's auc: 0.672334\n",
      "[79]\ttraining's auc: 0.762798\tvalid_1's auc: 0.672063\n",
      "[80]\ttraining's auc: 0.76338\tvalid_1's auc: 0.672229\n",
      "[81]\ttraining's auc: 0.763979\tvalid_1's auc: 0.672253\n",
      "[82]\ttraining's auc: 0.764841\tvalid_1's auc: 0.672218\n",
      "[83]\ttraining's auc: 0.765111\tvalid_1's auc: 0.672163\n",
      "[84]\ttraining's auc: 0.765522\tvalid_1's auc: 0.672151\n",
      "[85]\ttraining's auc: 0.766144\tvalid_1's auc: 0.672274\n",
      "[86]\ttraining's auc: 0.766643\tvalid_1's auc: 0.672333\n",
      "[87]\ttraining's auc: 0.766981\tvalid_1's auc: 0.672419\n",
      "[88]\ttraining's auc: 0.767287\tvalid_1's auc: 0.672742\n",
      "[89]\ttraining's auc: 0.76751\tvalid_1's auc: 0.672715\n",
      "[90]\ttraining's auc: 0.768206\tvalid_1's auc: 0.672682\n",
      "[91]\ttraining's auc: 0.768888\tvalid_1's auc: 0.672751\n",
      "[92]\ttraining's auc: 0.769377\tvalid_1's auc: 0.672744\n",
      "[93]\ttraining's auc: 0.769932\tvalid_1's auc: 0.67283\n",
      "[94]\ttraining's auc: 0.770681\tvalid_1's auc: 0.672915\n",
      "[95]\ttraining's auc: 0.771331\tvalid_1's auc: 0.673069\n",
      "[96]\ttraining's auc: 0.771935\tvalid_1's auc: 0.673173\n",
      "[97]\ttraining's auc: 0.772238\tvalid_1's auc: 0.673153\n",
      "[98]\ttraining's auc: 0.772439\tvalid_1's auc: 0.673206\n",
      "[99]\ttraining's auc: 0.772888\tvalid_1's auc: 0.673318\n",
      "[100]\ttraining's auc: 0.773327\tvalid_1's auc: 0.673488\n",
      "[101]\ttraining's auc: 0.773751\tvalid_1's auc: 0.673426\n",
      "[102]\ttraining's auc: 0.773971\tvalid_1's auc: 0.673473\n",
      "[103]\ttraining's auc: 0.774134\tvalid_1's auc: 0.67344\n",
      "[104]\ttraining's auc: 0.774524\tvalid_1's auc: 0.67339\n",
      "[105]\ttraining's auc: 0.774771\tvalid_1's auc: 0.673443\n",
      "[106]\ttraining's auc: 0.775062\tvalid_1's auc: 0.673437\n",
      "[107]\ttraining's auc: 0.775578\tvalid_1's auc: 0.673569\n",
      "[108]\ttraining's auc: 0.776031\tvalid_1's auc: 0.673551\n",
      "[109]\ttraining's auc: 0.776539\tvalid_1's auc: 0.67365\n",
      "[110]\ttraining's auc: 0.777196\tvalid_1's auc: 0.673689\n",
      "[111]\ttraining's auc: 0.777382\tvalid_1's auc: 0.673831\n",
      "[112]\ttraining's auc: 0.777807\tvalid_1's auc: 0.673789\n",
      "[113]\ttraining's auc: 0.778069\tvalid_1's auc: 0.673776\n",
      "[114]\ttraining's auc: 0.778449\tvalid_1's auc: 0.673827\n",
      "[115]\ttraining's auc: 0.77896\tvalid_1's auc: 0.673841\n",
      "[116]\ttraining's auc: 0.779176\tvalid_1's auc: 0.673792\n",
      "[117]\ttraining's auc: 0.779302\tvalid_1's auc: 0.673889\n",
      "[118]\ttraining's auc: 0.779998\tvalid_1's auc: 0.673906\n",
      "[119]\ttraining's auc: 0.780686\tvalid_1's auc: 0.674032\n",
      "[120]\ttraining's auc: 0.781048\tvalid_1's auc: 0.674109\n",
      "[121]\ttraining's auc: 0.781401\tvalid_1's auc: 0.674198\n",
      "[122]\ttraining's auc: 0.781686\tvalid_1's auc: 0.674133\n",
      "[123]\ttraining's auc: 0.782201\tvalid_1's auc: 0.674294\n",
      "[124]\ttraining's auc: 0.782744\tvalid_1's auc: 0.674398\n",
      "[125]\ttraining's auc: 0.782977\tvalid_1's auc: 0.674409\n",
      "[126]\ttraining's auc: 0.783571\tvalid_1's auc: 0.674427\n",
      "[127]\ttraining's auc: 0.783779\tvalid_1's auc: 0.67437\n",
      "[128]\ttraining's auc: 0.784331\tvalid_1's auc: 0.674475\n",
      "[129]\ttraining's auc: 0.784855\tvalid_1's auc: 0.674389\n",
      "[130]\ttraining's auc: 0.785285\tvalid_1's auc: 0.674353\n",
      "[131]\ttraining's auc: 0.78538\tvalid_1's auc: 0.674372\n",
      "[132]\ttraining's auc: 0.785786\tvalid_1's auc: 0.674438\n",
      "[133]\ttraining's auc: 0.785979\tvalid_1's auc: 0.674508\n",
      "[134]\ttraining's auc: 0.78644\tvalid_1's auc: 0.674573\n",
      "[135]\ttraining's auc: 0.786732\tvalid_1's auc: 0.6747\n",
      "[136]\ttraining's auc: 0.787158\tvalid_1's auc: 0.674808\n",
      "[137]\ttraining's auc: 0.787596\tvalid_1's auc: 0.674956\n",
      "[138]\ttraining's auc: 0.787942\tvalid_1's auc: 0.674977\n",
      "[139]\ttraining's auc: 0.78815\tvalid_1's auc: 0.674924\n",
      "[140]\ttraining's auc: 0.788499\tvalid_1's auc: 0.674942\n",
      "[141]\ttraining's auc: 0.788862\tvalid_1's auc: 0.675068\n",
      "[142]\ttraining's auc: 0.789064\tvalid_1's auc: 0.675044\n",
      "[143]\ttraining's auc: 0.789238\tvalid_1's auc: 0.675025\n",
      "[144]\ttraining's auc: 0.789706\tvalid_1's auc: 0.674957\n",
      "[145]\ttraining's auc: 0.789917\tvalid_1's auc: 0.674989\n",
      "[146]\ttraining's auc: 0.790375\tvalid_1's auc: 0.675019\n",
      "[147]\ttraining's auc: 0.790722\tvalid_1's auc: 0.675062\n",
      "[148]\ttraining's auc: 0.790781\tvalid_1's auc: 0.675094\n",
      "[149]\ttraining's auc: 0.790979\tvalid_1's auc: 0.675084\n",
      "[150]\ttraining's auc: 0.791175\tvalid_1's auc: 0.67507\n",
      "[151]\ttraining's auc: 0.791465\tvalid_1's auc: 0.675013\n",
      "[152]\ttraining's auc: 0.791613\tvalid_1's auc: 0.675035\n"
     ]
    },
    {
     "name": "stdout",
     "output_type": "stream",
     "text": [
      "[153]\ttraining's auc: 0.79213\tvalid_1's auc: 0.675027\n",
      "[154]\ttraining's auc: 0.792496\tvalid_1's auc: 0.675089\n",
      "[155]\ttraining's auc: 0.792854\tvalid_1's auc: 0.675041\n",
      "[156]\ttraining's auc: 0.793164\tvalid_1's auc: 0.67512\n",
      "[157]\ttraining's auc: 0.793717\tvalid_1's auc: 0.67515\n",
      "[158]\ttraining's auc: 0.794199\tvalid_1's auc: 0.675206\n",
      "[159]\ttraining's auc: 0.794418\tvalid_1's auc: 0.675215\n",
      "[160]\ttraining's auc: 0.794797\tvalid_1's auc: 0.675297\n",
      "[161]\ttraining's auc: 0.795373\tvalid_1's auc: 0.675284\n",
      "[162]\ttraining's auc: 0.795846\tvalid_1's auc: 0.67528\n",
      "[163]\ttraining's auc: 0.796273\tvalid_1's auc: 0.675307\n",
      "[164]\ttraining's auc: 0.796541\tvalid_1's auc: 0.675257\n",
      "[165]\ttraining's auc: 0.796964\tvalid_1's auc: 0.675325\n",
      "[166]\ttraining's auc: 0.797298\tvalid_1's auc: 0.675346\n",
      "[167]\ttraining's auc: 0.797701\tvalid_1's auc: 0.675336\n",
      "[168]\ttraining's auc: 0.798072\tvalid_1's auc: 0.675393\n",
      "[169]\ttraining's auc: 0.79877\tvalid_1's auc: 0.675341\n",
      "[170]\ttraining's auc: 0.799108\tvalid_1's auc: 0.675308\n",
      "[171]\ttraining's auc: 0.799536\tvalid_1's auc: 0.675373\n",
      "[172]\ttraining's auc: 0.799652\tvalid_1's auc: 0.67541\n",
      "[173]\ttraining's auc: 0.799952\tvalid_1's auc: 0.675492\n",
      "[174]\ttraining's auc: 0.8003\tvalid_1's auc: 0.675609\n",
      "[175]\ttraining's auc: 0.800807\tvalid_1's auc: 0.675636\n",
      "[176]\ttraining's auc: 0.801381\tvalid_1's auc: 0.675736\n",
      "[177]\ttraining's auc: 0.80166\tvalid_1's auc: 0.675691\n",
      "[178]\ttraining's auc: 0.802046\tvalid_1's auc: 0.67566\n",
      "[179]\ttraining's auc: 0.80233\tvalid_1's auc: 0.675853\n",
      "[180]\ttraining's auc: 0.802729\tvalid_1's auc: 0.67583\n",
      "[181]\ttraining's auc: 0.80285\tvalid_1's auc: 0.675803\n",
      "[182]\ttraining's auc: 0.803189\tvalid_1's auc: 0.675897\n",
      "[183]\ttraining's auc: 0.803527\tvalid_1's auc: 0.675906\n",
      "[184]\ttraining's auc: 0.803776\tvalid_1's auc: 0.675775\n",
      "[185]\ttraining's auc: 0.803846\tvalid_1's auc: 0.675782\n",
      "[186]\ttraining's auc: 0.804233\tvalid_1's auc: 0.675799\n",
      "[187]\ttraining's auc: 0.804659\tvalid_1's auc: 0.675831\n",
      "[188]\ttraining's auc: 0.804797\tvalid_1's auc: 0.675831\n",
      "[189]\ttraining's auc: 0.805135\tvalid_1's auc: 0.675777\n",
      "[190]\ttraining's auc: 0.805453\tvalid_1's auc: 0.675796\n",
      "[191]\ttraining's auc: 0.805772\tvalid_1's auc: 0.675791\n",
      "[192]\ttraining's auc: 0.806216\tvalid_1's auc: 0.675794\n",
      "[193]\ttraining's auc: 0.806535\tvalid_1's auc: 0.675826\n",
      "[194]\ttraining's auc: 0.806831\tvalid_1's auc: 0.67565\n",
      "[195]\ttraining's auc: 0.806897\tvalid_1's auc: 0.675653\n",
      "[196]\ttraining's auc: 0.807279\tvalid_1's auc: 0.675611\n",
      "[197]\ttraining's auc: 0.807457\tvalid_1's auc: 0.67561\n",
      "[198]\ttraining's auc: 0.807558\tvalid_1's auc: 0.675641\n",
      "[199]\ttraining's auc: 0.807908\tvalid_1's auc: 0.675636\n",
      "[200]\ttraining's auc: 0.808113\tvalid_1's auc: 0.675603\n",
      "[201]\ttraining's auc: 0.80835\tvalid_1's auc: 0.675613\n",
      "[202]\ttraining's auc: 0.808496\tvalid_1's auc: 0.675564\n",
      "[203]\ttraining's auc: 0.808807\tvalid_1's auc: 0.675775\n",
      "[204]\ttraining's auc: 0.809125\tvalid_1's auc: 0.675714\n",
      "[205]\ttraining's auc: 0.809427\tvalid_1's auc: 0.675763\n",
      "[206]\ttraining's auc: 0.809553\tvalid_1's auc: 0.675748\n",
      "[207]\ttraining's auc: 0.809963\tvalid_1's auc: 0.675686\n",
      "[208]\ttraining's auc: 0.810188\tvalid_1's auc: 0.675801\n",
      "[209]\ttraining's auc: 0.810671\tvalid_1's auc: 0.675912\n",
      "[210]\ttraining's auc: 0.810936\tvalid_1's auc: 0.675919\n",
      "[211]\ttraining's auc: 0.811392\tvalid_1's auc: 0.675982\n",
      "[212]\ttraining's auc: 0.811459\tvalid_1's auc: 0.675903\n",
      "[213]\ttraining's auc: 0.811771\tvalid_1's auc: 0.675906\n",
      "[214]\ttraining's auc: 0.812041\tvalid_1's auc: 0.675926\n",
      "[215]\ttraining's auc: 0.812456\tvalid_1's auc: 0.675988\n",
      "[216]\ttraining's auc: 0.812775\tvalid_1's auc: 0.676038\n",
      "[217]\ttraining's auc: 0.812849\tvalid_1's auc: 0.676046\n",
      "[218]\ttraining's auc: 0.813247\tvalid_1's auc: 0.67605\n",
      "[219]\ttraining's auc: 0.813653\tvalid_1's auc: 0.676066\n",
      "[220]\ttraining's auc: 0.813954\tvalid_1's auc: 0.676064\n",
      "[221]\ttraining's auc: 0.814272\tvalid_1's auc: 0.676076\n",
      "[222]\ttraining's auc: 0.814526\tvalid_1's auc: 0.675993\n",
      "[223]\ttraining's auc: 0.814807\tvalid_1's auc: 0.676001\n",
      "[224]\ttraining's auc: 0.815267\tvalid_1's auc: 0.67598\n",
      "[225]\ttraining's auc: 0.815837\tvalid_1's auc: 0.675957\n",
      "[226]\ttraining's auc: 0.816234\tvalid_1's auc: 0.675934\n",
      "[227]\ttraining's auc: 0.816563\tvalid_1's auc: 0.675945\n",
      "[228]\ttraining's auc: 0.816768\tvalid_1's auc: 0.675922\n",
      "[229]\ttraining's auc: 0.816938\tvalid_1's auc: 0.675931\n",
      "[230]\ttraining's auc: 0.817191\tvalid_1's auc: 0.675974\n",
      "[231]\ttraining's auc: 0.817371\tvalid_1's auc: 0.675889\n",
      "[232]\ttraining's auc: 0.817671\tvalid_1's auc: 0.675862\n",
      "[233]\ttraining's auc: 0.817869\tvalid_1's auc: 0.675932\n",
      "[234]\ttraining's auc: 0.818098\tvalid_1's auc: 0.675959\n",
      "[235]\ttraining's auc: 0.818285\tvalid_1's auc: 0.675918\n",
      "[236]\ttraining's auc: 0.818599\tvalid_1's auc: 0.675964\n",
      "[237]\ttraining's auc: 0.818642\tvalid_1's auc: 0.675932\n",
      "[238]\ttraining's auc: 0.818901\tvalid_1's auc: 0.67592\n",
      "[239]\ttraining's auc: 0.818992\tvalid_1's auc: 0.675922\n",
      "[240]\ttraining's auc: 0.819182\tvalid_1's auc: 0.675967\n",
      "[241]\ttraining's auc: 0.819421\tvalid_1's auc: 0.676071\n",
      "[242]\ttraining's auc: 0.819648\tvalid_1's auc: 0.675976\n",
      "[243]\ttraining's auc: 0.819937\tvalid_1's auc: 0.676029\n",
      "[244]\ttraining's auc: 0.820231\tvalid_1's auc: 0.676007\n",
      "[245]\ttraining's auc: 0.820531\tvalid_1's auc: 0.675972\n",
      "[246]\ttraining's auc: 0.820612\tvalid_1's auc: 0.675953\n",
      "[247]\ttraining's auc: 0.820838\tvalid_1's auc: 0.675938\n",
      "[248]\ttraining's auc: 0.821191\tvalid_1's auc: 0.675966\n",
      "[249]\ttraining's auc: 0.821624\tvalid_1's auc: 0.67601\n",
      "[250]\ttraining's auc: 0.821978\tvalid_1's auc: 0.676038\n",
      "[251]\ttraining's auc: 0.822268\tvalid_1's auc: 0.676176\n",
      "[252]\ttraining's auc: 0.822605\tvalid_1's auc: 0.676221\n",
      "[253]\ttraining's auc: 0.823108\tvalid_1's auc: 0.676164\n",
      "[254]\ttraining's auc: 0.82349\tvalid_1's auc: 0.676151\n",
      "[255]\ttraining's auc: 0.823582\tvalid_1's auc: 0.676146\n",
      "[256]\ttraining's auc: 0.823863\tvalid_1's auc: 0.676029\n",
      "[257]\ttraining's auc: 0.824168\tvalid_1's auc: 0.676074\n",
      "[258]\ttraining's auc: 0.824294\tvalid_1's auc: 0.676162\n",
      "[259]\ttraining's auc: 0.824543\tvalid_1's auc: 0.676184\n",
      "[260]\ttraining's auc: 0.824663\tvalid_1's auc: 0.676145\n",
      "[261]\ttraining's auc: 0.824976\tvalid_1's auc: 0.676146\n",
      "[262]\ttraining's auc: 0.825231\tvalid_1's auc: 0.67614\n",
      "[263]\ttraining's auc: 0.825514\tvalid_1's auc: 0.676181\n",
      "[264]\ttraining's auc: 0.825575\tvalid_1's auc: 0.676186\n",
      "[265]\ttraining's auc: 0.826091\tvalid_1's auc: 0.676183\n",
      "[266]\ttraining's auc: 0.826384\tvalid_1's auc: 0.67617\n",
      "[267]\ttraining's auc: 0.826563\tvalid_1's auc: 0.676192\n",
      "[268]\ttraining's auc: 0.826757\tvalid_1's auc: 0.676106\n",
      "[269]\ttraining's auc: 0.82701\tvalid_1's auc: 0.676089\n",
      "[270]\ttraining's auc: 0.82724\tvalid_1's auc: 0.67617\n",
      "[271]\ttraining's auc: 0.827743\tvalid_1's auc: 0.676205\n",
      "[272]\ttraining's auc: 0.827866\tvalid_1's auc: 0.67617\n",
      "[273]\ttraining's auc: 0.828069\tvalid_1's auc: 0.676178\n",
      "[274]\ttraining's auc: 0.828352\tvalid_1's auc: 0.676139\n",
      "[275]\ttraining's auc: 0.828543\tvalid_1's auc: 0.676148\n",
      "[276]\ttraining's auc: 0.828749\tvalid_1's auc: 0.676234\n",
      "[277]\ttraining's auc: 0.829034\tvalid_1's auc: 0.676171\n",
      "[278]\ttraining's auc: 0.82933\tvalid_1's auc: 0.676167\n",
      "[279]\ttraining's auc: 0.82954\tvalid_1's auc: 0.676152\n",
      "[280]\ttraining's auc: 0.82989\tvalid_1's auc: 0.676174\n",
      "[281]\ttraining's auc: 0.830146\tvalid_1's auc: 0.676196\n",
      "[282]\ttraining's auc: 0.83043\tvalid_1's auc: 0.676197\n",
      "[283]\ttraining's auc: 0.83089\tvalid_1's auc: 0.676152\n",
      "[284]\ttraining's auc: 0.831446\tvalid_1's auc: 0.676115\n",
      "[285]\ttraining's auc: 0.831682\tvalid_1's auc: 0.676104\n",
      "[286]\ttraining's auc: 0.832004\tvalid_1's auc: 0.676147\n",
      "[287]\ttraining's auc: 0.832363\tvalid_1's auc: 0.6762\n",
      "[288]\ttraining's auc: 0.832629\tvalid_1's auc: 0.676224\n",
      "[289]\ttraining's auc: 0.832881\tvalid_1's auc: 0.676309\n",
      "[290]\ttraining's auc: 0.833032\tvalid_1's auc: 0.676331\n",
      "[291]\ttraining's auc: 0.833361\tvalid_1's auc: 0.676277\n",
      "[292]\ttraining's auc: 0.833655\tvalid_1's auc: 0.676311\n",
      "[293]\ttraining's auc: 0.833971\tvalid_1's auc: 0.676294\n",
      "[294]\ttraining's auc: 0.834393\tvalid_1's auc: 0.676347\n",
      "[295]\ttraining's auc: 0.834455\tvalid_1's auc: 0.676324\n",
      "[296]\ttraining's auc: 0.834696\tvalid_1's auc: 0.676369\n",
      "[297]\ttraining's auc: 0.834932\tvalid_1's auc: 0.676363\n",
      "[298]\ttraining's auc: 0.835224\tvalid_1's auc: 0.67638\n",
      "[299]\ttraining's auc: 0.835308\tvalid_1's auc: 0.676366\n",
      "[300]\ttraining's auc: 0.835511\tvalid_1's auc: 0.676379\n",
      "[301]\ttraining's auc: 0.835639\tvalid_1's auc: 0.676389\n",
      "[302]\ttraining's auc: 0.835904\tvalid_1's auc: 0.676346\n",
      "[303]\ttraining's auc: 0.836185\tvalid_1's auc: 0.676368\n",
      "[304]\ttraining's auc: 0.836358\tvalid_1's auc: 0.676398\n"
     ]
    },
    {
     "name": "stdout",
     "output_type": "stream",
     "text": [
      "[305]\ttraining's auc: 0.83645\tvalid_1's auc: 0.676455\n",
      "[306]\ttraining's auc: 0.83658\tvalid_1's auc: 0.676541\n",
      "[307]\ttraining's auc: 0.836857\tvalid_1's auc: 0.676503\n",
      "[308]\ttraining's auc: 0.837038\tvalid_1's auc: 0.676554\n",
      "[309]\ttraining's auc: 0.837406\tvalid_1's auc: 0.676536\n",
      "[310]\ttraining's auc: 0.837637\tvalid_1's auc: 0.676515\n",
      "[311]\ttraining's auc: 0.837871\tvalid_1's auc: 0.676428\n",
      "[312]\ttraining's auc: 0.837993\tvalid_1's auc: 0.676398\n",
      "[313]\ttraining's auc: 0.838232\tvalid_1's auc: 0.67638\n",
      "[314]\ttraining's auc: 0.838359\tvalid_1's auc: 0.67633\n",
      "[315]\ttraining's auc: 0.838496\tvalid_1's auc: 0.676291\n",
      "[316]\ttraining's auc: 0.838676\tvalid_1's auc: 0.676284\n",
      "[317]\ttraining's auc: 0.83903\tvalid_1's auc: 0.676386\n",
      "[318]\ttraining's auc: 0.839311\tvalid_1's auc: 0.676441\n",
      "[319]\ttraining's auc: 0.839522\tvalid_1's auc: 0.676442\n",
      "[320]\ttraining's auc: 0.839726\tvalid_1's auc: 0.67645\n",
      "[321]\ttraining's auc: 0.840028\tvalid_1's auc: 0.676362\n",
      "[322]\ttraining's auc: 0.840353\tvalid_1's auc: 0.676452\n",
      "[323]\ttraining's auc: 0.84055\tvalid_1's auc: 0.676439\n",
      "[324]\ttraining's auc: 0.840829\tvalid_1's auc: 0.676343\n",
      "[325]\ttraining's auc: 0.841183\tvalid_1's auc: 0.676326\n",
      "[326]\ttraining's auc: 0.841419\tvalid_1's auc: 0.676343\n",
      "[327]\ttraining's auc: 0.84158\tvalid_1's auc: 0.676385\n",
      "[328]\ttraining's auc: 0.841718\tvalid_1's auc: 0.676387\n",
      "[329]\ttraining's auc: 0.841803\tvalid_1's auc: 0.676442\n",
      "[330]\ttraining's auc: 0.842044\tvalid_1's auc: 0.67641\n",
      "[331]\ttraining's auc: 0.842322\tvalid_1's auc: 0.676374\n",
      "[332]\ttraining's auc: 0.842567\tvalid_1's auc: 0.676336\n",
      "[333]\ttraining's auc: 0.842849\tvalid_1's auc: 0.676386\n",
      "[334]\ttraining's auc: 0.843075\tvalid_1's auc: 0.676386\n",
      "[335]\ttraining's auc: 0.843346\tvalid_1's auc: 0.676384\n",
      "[336]\ttraining's auc: 0.843495\tvalid_1's auc: 0.676398\n",
      "[337]\ttraining's auc: 0.84394\tvalid_1's auc: 0.67611\n",
      "[338]\ttraining's auc: 0.844024\tvalid_1's auc: 0.676156\n",
      "[339]\ttraining's auc: 0.844303\tvalid_1's auc: 0.676104\n",
      "[340]\ttraining's auc: 0.844495\tvalid_1's auc: 0.676124\n",
      "[341]\ttraining's auc: 0.844695\tvalid_1's auc: 0.676127\n",
      "[342]\ttraining's auc: 0.845111\tvalid_1's auc: 0.676104\n",
      "[343]\ttraining's auc: 0.845462\tvalid_1's auc: 0.676132\n",
      "[344]\ttraining's auc: 0.845756\tvalid_1's auc: 0.676164\n",
      "[345]\ttraining's auc: 0.845972\tvalid_1's auc: 0.676128\n",
      "[346]\ttraining's auc: 0.846167\tvalid_1's auc: 0.67609\n",
      "[347]\ttraining's auc: 0.84638\tvalid_1's auc: 0.676099\n",
      "[348]\ttraining's auc: 0.846503\tvalid_1's auc: 0.676092\n",
      "[349]\ttraining's auc: 0.846663\tvalid_1's auc: 0.676062\n",
      "[350]\ttraining's auc: 0.846884\tvalid_1's auc: 0.676068\n",
      "[351]\ttraining's auc: 0.846954\tvalid_1's auc: 0.676056\n",
      "[352]\ttraining's auc: 0.847286\tvalid_1's auc: 0.67618\n",
      "[353]\ttraining's auc: 0.847651\tvalid_1's auc: 0.676258\n",
      "[354]\ttraining's auc: 0.847834\tvalid_1's auc: 0.676312\n",
      "[355]\ttraining's auc: 0.847829\tvalid_1's auc: 0.676331\n",
      "[356]\ttraining's auc: 0.84818\tvalid_1's auc: 0.676341\n",
      "[357]\ttraining's auc: 0.848393\tvalid_1's auc: 0.676308\n",
      "[358]\ttraining's auc: 0.848654\tvalid_1's auc: 0.676293\n",
      "[359]\ttraining's auc: 0.848972\tvalid_1's auc: 0.676339\n",
      "[360]\ttraining's auc: 0.849056\tvalid_1's auc: 0.676339\n",
      "[361]\ttraining's auc: 0.849173\tvalid_1's auc: 0.67637\n",
      "[362]\ttraining's auc: 0.849335\tvalid_1's auc: 0.676388\n",
      "[363]\ttraining's auc: 0.849567\tvalid_1's auc: 0.676325\n",
      "[364]\ttraining's auc: 0.849927\tvalid_1's auc: 0.676339\n",
      "[365]\ttraining's auc: 0.850285\tvalid_1's auc: 0.676404\n",
      "[366]\ttraining's auc: 0.850358\tvalid_1's auc: 0.676372\n",
      "[367]\ttraining's auc: 0.850484\tvalid_1's auc: 0.676397\n",
      "[368]\ttraining's auc: 0.850682\tvalid_1's auc: 0.676452\n",
      "[369]\ttraining's auc: 0.850888\tvalid_1's auc: 0.676439\n",
      "[370]\ttraining's auc: 0.851116\tvalid_1's auc: 0.676449\n",
      "[371]\ttraining's auc: 0.851295\tvalid_1's auc: 0.676408\n",
      "[372]\ttraining's auc: 0.851617\tvalid_1's auc: 0.676446\n",
      "[373]\ttraining's auc: 0.85188\tvalid_1's auc: 0.6764\n",
      "[374]\ttraining's auc: 0.851976\tvalid_1's auc: 0.676398\n",
      "[375]\ttraining's auc: 0.852249\tvalid_1's auc: 0.67633\n",
      "[376]\ttraining's auc: 0.852561\tvalid_1's auc: 0.676305\n",
      "[377]\ttraining's auc: 0.852624\tvalid_1's auc: 0.676279\n",
      "[378]\ttraining's auc: 0.85275\tvalid_1's auc: 0.676289\n",
      "[379]\ttraining's auc: 0.85297\tvalid_1's auc: 0.676255\n",
      "[380]\ttraining's auc: 0.853116\tvalid_1's auc: 0.676238\n",
      "[381]\ttraining's auc: 0.853342\tvalid_1's auc: 0.676214\n",
      "[382]\ttraining's auc: 0.853573\tvalid_1's auc: 0.67624\n",
      "[383]\ttraining's auc: 0.853737\tvalid_1's auc: 0.676285\n",
      "[384]\ttraining's auc: 0.853849\tvalid_1's auc: 0.676304\n",
      "[385]\ttraining's auc: 0.854035\tvalid_1's auc: 0.676287\n",
      "[386]\ttraining's auc: 0.854212\tvalid_1's auc: 0.676342\n",
      "[387]\ttraining's auc: 0.854255\tvalid_1's auc: 0.676334\n",
      "[388]\ttraining's auc: 0.854493\tvalid_1's auc: 0.676304\n",
      "[389]\ttraining's auc: 0.854644\tvalid_1's auc: 0.676309\n",
      "[390]\ttraining's auc: 0.85482\tvalid_1's auc: 0.676315\n",
      "[391]\ttraining's auc: 0.855031\tvalid_1's auc: 0.676267\n",
      "[392]\ttraining's auc: 0.855363\tvalid_1's auc: 0.676199\n",
      "[393]\ttraining's auc: 0.855553\tvalid_1's auc: 0.676257\n",
      "[394]\ttraining's auc: 0.855789\tvalid_1's auc: 0.676278\n",
      "[395]\ttraining's auc: 0.855988\tvalid_1's auc: 0.676238\n",
      "[396]\ttraining's auc: 0.856196\tvalid_1's auc: 0.676154\n",
      "[397]\ttraining's auc: 0.856356\tvalid_1's auc: 0.676145\n",
      "[398]\ttraining's auc: 0.856505\tvalid_1's auc: 0.676166\n",
      "[399]\ttraining's auc: 0.856601\tvalid_1's auc: 0.676118\n",
      "[400]\ttraining's auc: 0.856874\tvalid_1's auc: 0.676162\n",
      "[401]\ttraining's auc: 0.856978\tvalid_1's auc: 0.676157\n",
      "[402]\ttraining's auc: 0.857068\tvalid_1's auc: 0.676161\n",
      "[403]\ttraining's auc: 0.857365\tvalid_1's auc: 0.676197\n",
      "[404]\ttraining's auc: 0.857467\tvalid_1's auc: 0.676187\n",
      "[405]\ttraining's auc: 0.857593\tvalid_1's auc: 0.676158\n",
      "[406]\ttraining's auc: 0.85766\tvalid_1's auc: 0.676156\n",
      "[407]\ttraining's auc: 0.857838\tvalid_1's auc: 0.676195\n",
      "[408]\ttraining's auc: 0.858109\tvalid_1's auc: 0.676207\n",
      "[409]\ttraining's auc: 0.858231\tvalid_1's auc: 0.676221\n",
      "[410]\ttraining's auc: 0.85837\tvalid_1's auc: 0.676245\n",
      "[411]\ttraining's auc: 0.85848\tvalid_1's auc: 0.676237\n",
      "[412]\ttraining's auc: 0.85864\tvalid_1's auc: 0.67624\n",
      "[413]\ttraining's auc: 0.858734\tvalid_1's auc: 0.676243\n",
      "[414]\ttraining's auc: 0.859022\tvalid_1's auc: 0.676261\n",
      "[415]\ttraining's auc: 0.859037\tvalid_1's auc: 0.676253\n",
      "[416]\ttraining's auc: 0.859408\tvalid_1's auc: 0.676177\n",
      "[417]\ttraining's auc: 0.859629\tvalid_1's auc: 0.676113\n",
      "[418]\ttraining's auc: 0.859734\tvalid_1's auc: 0.676086\n",
      "[419]\ttraining's auc: 0.859986\tvalid_1's auc: 0.6761\n",
      "[420]\ttraining's auc: 0.860271\tvalid_1's auc: 0.676096\n",
      "[421]\ttraining's auc: 0.860655\tvalid_1's auc: 0.676179\n",
      "[422]\ttraining's auc: 0.86094\tvalid_1's auc: 0.676235\n",
      "[423]\ttraining's auc: 0.861176\tvalid_1's auc: 0.676245\n",
      "[424]\ttraining's auc: 0.861515\tvalid_1's auc: 0.676248\n",
      "[425]\ttraining's auc: 0.861792\tvalid_1's auc: 0.676263\n",
      "[426]\ttraining's auc: 0.86191\tvalid_1's auc: 0.676266\n",
      "[427]\ttraining's auc: 0.862152\tvalid_1's auc: 0.676253\n",
      "[428]\ttraining's auc: 0.862357\tvalid_1's auc: 0.67629\n",
      "[429]\ttraining's auc: 0.862507\tvalid_1's auc: 0.676234\n",
      "[430]\ttraining's auc: 0.86262\tvalid_1's auc: 0.676248\n",
      "[431]\ttraining's auc: 0.862728\tvalid_1's auc: 0.676263\n",
      "[432]\ttraining's auc: 0.862961\tvalid_1's auc: 0.676273\n",
      "[433]\ttraining's auc: 0.863048\tvalid_1's auc: 0.676241\n",
      "[434]\ttraining's auc: 0.863206\tvalid_1's auc: 0.676278\n",
      "[435]\ttraining's auc: 0.863284\tvalid_1's auc: 0.676259\n",
      "[436]\ttraining's auc: 0.863505\tvalid_1's auc: 0.676249\n",
      "[437]\ttraining's auc: 0.863711\tvalid_1's auc: 0.676294\n",
      "[438]\ttraining's auc: 0.864088\tvalid_1's auc: 0.676272\n",
      "[439]\ttraining's auc: 0.86417\tvalid_1's auc: 0.676269\n",
      "[440]\ttraining's auc: 0.86433\tvalid_1's auc: 0.676281\n",
      "[441]\ttraining's auc: 0.864459\tvalid_1's auc: 0.676248\n",
      "[442]\ttraining's auc: 0.864671\tvalid_1's auc: 0.676336\n",
      "[443]\ttraining's auc: 0.864781\tvalid_1's auc: 0.676284\n",
      "[444]\ttraining's auc: 0.864916\tvalid_1's auc: 0.676336\n",
      "[445]\ttraining's auc: 0.864995\tvalid_1's auc: 0.676345\n",
      "[446]\ttraining's auc: 0.865128\tvalid_1's auc: 0.676255\n",
      "[447]\ttraining's auc: 0.865297\tvalid_1's auc: 0.676268\n",
      "[448]\ttraining's auc: 0.865662\tvalid_1's auc: 0.676319\n",
      "[449]\ttraining's auc: 0.865784\tvalid_1's auc: 0.676293\n",
      "[450]\ttraining's auc: 0.866048\tvalid_1's auc: 0.676291\n",
      "[451]\ttraining's auc: 0.866171\tvalid_1's auc: 0.676318\n",
      "[452]\ttraining's auc: 0.86654\tvalid_1's auc: 0.676309\n",
      "[453]\ttraining's auc: 0.866758\tvalid_1's auc: 0.676309\n",
      "[454]\ttraining's auc: 0.866849\tvalid_1's auc: 0.67631\n",
      "[455]\ttraining's auc: 0.86689\tvalid_1's auc: 0.676319\n",
      "[456]\ttraining's auc: 0.866951\tvalid_1's auc: 0.676302\n",
      "[457]\ttraining's auc: 0.867104\tvalid_1's auc: 0.676297\n",
      "[458]\ttraining's auc: 0.867299\tvalid_1's auc: 0.676295\n"
     ]
    },
    {
     "name": "stdout",
     "output_type": "stream",
     "text": [
      "[459]\ttraining's auc: 0.867513\tvalid_1's auc: 0.676271\n",
      "[460]\ttraining's auc: 0.867669\tvalid_1's auc: 0.676243\n",
      "[461]\ttraining's auc: 0.867871\tvalid_1's auc: 0.676233\n",
      "[462]\ttraining's auc: 0.868058\tvalid_1's auc: 0.67625\n",
      "[463]\ttraining's auc: 0.868158\tvalid_1's auc: 0.676284\n",
      "[464]\ttraining's auc: 0.868357\tvalid_1's auc: 0.67629\n",
      "[465]\ttraining's auc: 0.868459\tvalid_1's auc: 0.676286\n",
      "[466]\ttraining's auc: 0.868663\tvalid_1's auc: 0.676333\n",
      "[467]\ttraining's auc: 0.868967\tvalid_1's auc: 0.676324\n",
      "[468]\ttraining's auc: 0.869075\tvalid_1's auc: 0.676315\n",
      "[469]\ttraining's auc: 0.869303\tvalid_1's auc: 0.676338\n",
      "[470]\ttraining's auc: 0.869479\tvalid_1's auc: 0.676325\n",
      "[471]\ttraining's auc: 0.869716\tvalid_1's auc: 0.676374\n",
      "[472]\ttraining's auc: 0.870054\tvalid_1's auc: 0.676351\n",
      "[473]\ttraining's auc: 0.87014\tvalid_1's auc: 0.676348\n",
      "[474]\ttraining's auc: 0.870416\tvalid_1's auc: 0.676358\n",
      "[475]\ttraining's auc: 0.870602\tvalid_1's auc: 0.676362\n",
      "[476]\ttraining's auc: 0.870743\tvalid_1's auc: 0.676406\n",
      "[477]\ttraining's auc: 0.870746\tvalid_1's auc: 0.676429\n",
      "[478]\ttraining's auc: 0.871078\tvalid_1's auc: 0.676433\n",
      "[479]\ttraining's auc: 0.871147\tvalid_1's auc: 0.676416\n",
      "[480]\ttraining's auc: 0.871508\tvalid_1's auc: 0.676385\n",
      "[481]\ttraining's auc: 0.871658\tvalid_1's auc: 0.676403\n",
      "[482]\ttraining's auc: 0.871793\tvalid_1's auc: 0.676358\n",
      "[483]\ttraining's auc: 0.872074\tvalid_1's auc: 0.676245\n",
      "[484]\ttraining's auc: 0.872104\tvalid_1's auc: 0.67624\n",
      "[485]\ttraining's auc: 0.872203\tvalid_1's auc: 0.676253\n",
      "[486]\ttraining's auc: 0.872359\tvalid_1's auc: 0.676289\n",
      "[487]\ttraining's auc: 0.872569\tvalid_1's auc: 0.676246\n",
      "[488]\ttraining's auc: 0.872736\tvalid_1's auc: 0.676215\n",
      "[489]\ttraining's auc: 0.872847\tvalid_1's auc: 0.676199\n",
      "[490]\ttraining's auc: 0.873021\tvalid_1's auc: 0.676185\n",
      "[491]\ttraining's auc: 0.873282\tvalid_1's auc: 0.676169\n",
      "[492]\ttraining's auc: 0.8736\tvalid_1's auc: 0.676179\n",
      "[493]\ttraining's auc: 0.87372\tvalid_1's auc: 0.676163\n",
      "[494]\ttraining's auc: 0.873936\tvalid_1's auc: 0.67613\n",
      "[495]\ttraining's auc: 0.874088\tvalid_1's auc: 0.676164\n",
      "[496]\ttraining's auc: 0.87417\tvalid_1's auc: 0.676177\n",
      "[497]\ttraining's auc: 0.874372\tvalid_1's auc: 0.676208\n",
      "[498]\ttraining's auc: 0.874478\tvalid_1's auc: 0.676257\n",
      "[499]\ttraining's auc: 0.874642\tvalid_1's auc: 0.676239\n",
      "[500]\ttraining's auc: 0.874723\tvalid_1's auc: 0.676248\n",
      "[501]\ttraining's auc: 0.87473\tvalid_1's auc: 0.676247\n",
      "[502]\ttraining's auc: 0.874891\tvalid_1's auc: 0.67628\n",
      "[503]\ttraining's auc: 0.875046\tvalid_1's auc: 0.676221\n",
      "[504]\ttraining's auc: 0.875148\tvalid_1's auc: 0.676187\n",
      "[505]\ttraining's auc: 0.87527\tvalid_1's auc: 0.676119\n",
      "[506]\ttraining's auc: 0.875336\tvalid_1's auc: 0.676109\n",
      "[507]\ttraining's auc: 0.87574\tvalid_1's auc: 0.676098\n",
      "[508]\ttraining's auc: 0.875801\tvalid_1's auc: 0.676126\n",
      "Early stopping, best iteration is:\n",
      "[308]\ttraining's auc: 0.837038\tvalid_1's auc: 0.676554\n"
     ]
    }
   ],
   "source": [
    "clf = lgb.train(\n",
    "            params=params,\n",
    "            train_set=dtrain,\n",
    "            num_boost_round=10000,\n",
    "            valid_sets=[dtrain, dvalid],\n",
    "            early_stopping_rounds=200,\n",
    "            verbose_eval=True,\n",
    "            categorical_feature = categorical_columns\n",
    "        )"
   ]
  },
  {
   "cell_type": "code",
   "execution_count": 23,
   "metadata": {
    "ExecuteTime": {
     "end_time": "2019-04-26T03:36:07.529983Z",
     "start_time": "2019-04-26T03:36:07.525850Z"
    }
   },
   "outputs": [],
   "source": [
    "params['n_estimators'] = 363"
   ]
  },
  {
   "cell_type": "code",
   "execution_count": 24,
   "metadata": {
    "ExecuteTime": {
     "end_time": "2019-04-26T03:36:18.148463Z",
     "start_time": "2019-04-26T03:36:07.831796Z"
    }
   },
   "outputs": [
    {
     "name": "stdout",
     "output_type": "stream",
     "text": [
      "The baseline model scores 0.67229 ROC AUC on the oot set.\n"
     ]
    }
   ],
   "source": [
    "model = lgb.LGBMClassifier(**params)\n",
    "model.fit(df_train.drop('HasDetections', axis=1), df_train.loc[:, 'HasDetections'])\n",
    "\n",
    "# AUC\n",
    "preds_test = model.predict_proba(df_test.drop('HasDetections', axis=1))[:, 1]\n",
    "auc_test = roc_auc_score(df_test.loc[:, 'HasDetections'], preds_test)\n",
    "print('The baseline model scores {:.5f} ROC AUC on the oot set.'.format(\n",
    "    auc_test))"
   ]
  },
  {
   "cell_type": "markdown",
   "metadata": {
    "ExecuteTime": {
     "end_time": "2019-04-26T03:41:10.240488Z",
     "start_time": "2019-04-26T03:41:10.232680Z"
    }
   },
   "source": [
    "## 用概率高的作为验证集"
   ]
  },
  {
   "cell_type": "markdown",
   "metadata": {},
   "source": [
    "## 有权重的CV "
   ]
  },
  {
   "cell_type": "markdown",
   "metadata": {},
   "source": [
    "# 结论"
   ]
  },
  {
   "cell_type": "markdown",
   "metadata": {},
   "source": [
    "CV不能够准确评估模型在测试集上的效果，需要用其他的Validation的方式。下一篇文章，我们将使用更多的方法来解决样本分布变化的问题。"
   ]
  },
  {
   "cell_type": "markdown",
   "metadata": {},
   "source": [
    "# 实验：categorical features with high cardinality"
   ]
  },
  {
   "cell_type": "markdown",
   "metadata": {},
   "source": [
    "## 重新拆分测试集"
   ]
  },
  {
   "cell_type": "code",
   "execution_count": 26,
   "metadata": {
    "ExecuteTime": {
     "end_time": "2019-04-24T10:10:28.059623Z",
     "start_time": "2019-04-24T10:10:27.909876Z"
    }
   },
   "outputs": [],
   "source": [
    "df_test = df_all.iloc[int(0.8*len(df_all)):, ]\n",
    "df_train = df_all.iloc[:int(0.8*len(df_all)), ]"
   ]
  },
  {
   "cell_type": "code",
   "execution_count": 27,
   "metadata": {
    "ExecuteTime": {
     "end_time": "2019-04-24T10:10:28.663637Z",
     "start_time": "2019-04-24T10:10:28.655629Z"
    }
   },
   "outputs": [
    {
     "name": "stdout",
     "output_type": "stream",
     "text": [
      "['ProductName', 'EngineVersion', 'AppVersion', 'AvSigVersion', 'RtpStateBitfield', 'IsSxsPassiveMode', 'DefaultBrowsersIdentifier', 'AVProductStatesIdentifier', 'AVProductsInstalled', 'AVProductsEnabled', 'HasTpm', 'CountryIdentifier', 'CityIdentifier', 'OrganizationIdentifier', 'GeoNameIdentifier', 'LocaleEnglishNameIdentifier', 'Platform', 'Processor', 'OsVer', 'OsBuild', 'OsSuite', 'OsPlatformSubRelease', 'OsBuildLab', 'SkuEdition', 'IsProtected', 'SMode', 'IeVerIdentifier', 'SmartScreen', 'Firewall', 'Census_MDC2FormFactor', 'Census_OEMNameIdentifier', 'Census_OEMModelIdentifier', 'Census_ProcessorCoreCount', 'Census_ProcessorManufacturerIdentifier', 'Census_ProcessorModelIdentifier', 'Census_PrimaryDiskTypeName', 'Census_HasOpticalDiskDrive', 'Census_ChassisTypeName', 'Census_InternalPrimaryDiagonalDisplaySizeInInches', 'Census_InternalPrimaryDisplayResolutionHorizontal', 'Census_InternalPrimaryDisplayResolutionVertical', 'Census_PowerPlatformRoleName', 'Census_InternalBatteryType', 'Census_OSVersion', 'Census_OSArchitecture', 'Census_OSBranch', 'Census_OSBuildNumber', 'Census_OSBuildRevision', 'Census_OSEdition', 'Census_OSSkuName', 'Census_OSInstallTypeName', 'Census_OSInstallLanguageIdentifier', 'Census_OSUILocaleIdentifier', 'Census_OSWUAutoUpdateOptionsName', 'Census_GenuineStateName', 'Census_ActivationChannel', 'Census_IsFlightingInternal', 'Census_IsFlightsDisabled', 'Census_FlightRing', 'Census_ThresholdOptIn', 'Census_FirmwareManufacturerIdentifier', 'Census_FirmwareVersionIdentifier', 'Census_IsSecureBootEnabled', 'Census_IsWIMBootEnabled', 'Census_IsTouchEnabled', 'Census_IsPenCapable', 'Census_IsAlwaysOnAlwaysConnectedCapable', 'Wdft_IsGamer', 'Wdft_RegionIdentifier']\n"
     ]
    }
   ],
   "source": [
    "categorical_columns = [\n",
    "    c for c in df_all.columns\n",
    "    if c not in (['HasDetections'] + true_numerical_columns)\n",
    "]\n",
    "\n",
    "print(categorical_columns)"
   ]
  },
  {
   "cell_type": "markdown",
   "metadata": {},
   "source": [
    "## 交叉验证 对比组"
   ]
  },
  {
   "cell_type": "code",
   "execution_count": 28,
   "metadata": {
    "ExecuteTime": {
     "end_time": "2019-04-24T10:10:29.932832Z",
     "start_time": "2019-04-24T10:10:29.926849Z"
    }
   },
   "outputs": [],
   "source": [
    "params = {\n",
    "    'boosting_type': 'gbdt',\n",
    "    'colsample_bytree': 1,\n",
    "    'learning_rate': 0.1,\n",
    "    'max_depth': 5,\n",
    "    'min_child_samples': 100,\n",
    "    'min_child_weight': 1,\n",
    "    'min_split_gain': 0.0,\n",
    "    'num_leaves': 20,\n",
    "    'objective': 'binary',\n",
    "    'random_state': 50,\n",
    "    'subsample': 1.0,\n",
    "    'subsample_freq': 0,\n",
    "    'metric': 'auc',\n",
    "    'num_threads': 8\n",
    "}"
   ]
  },
  {
   "cell_type": "code",
   "execution_count": 29,
   "metadata": {
    "ExecuteTime": {
     "end_time": "2019-04-24T10:10:52.766288Z",
     "start_time": "2019-04-24T10:10:30.542699Z"
    },
    "scrolled": true
   },
   "outputs": [
    {
     "name": "stdout",
     "output_type": "stream",
     "text": [
      "[1]\tcv_agg's auc: 0.66716 + 0.00179225\n",
      "[2]\tcv_agg's auc: 0.674429 + 0.00423191\n",
      "[3]\tcv_agg's auc: 0.682976 + 0.00388732\n",
      "[4]\tcv_agg's auc: 0.686857 + 0.00229685\n",
      "[5]\tcv_agg's auc: 0.688072 + 0.00234447\n",
      "[6]\tcv_agg's auc: 0.688948 + 0.00192203\n",
      "[7]\tcv_agg's auc: 0.69017 + 0.00263774\n",
      "[8]\tcv_agg's auc: 0.690893 + 0.00272522\n",
      "[9]\tcv_agg's auc: 0.691949 + 0.00248056\n",
      "[10]\tcv_agg's auc: 0.692518 + 0.00253189\n",
      "[11]\tcv_agg's auc: 0.693654 + 0.00265565\n",
      "[12]\tcv_agg's auc: 0.69447 + 0.00266003\n",
      "[13]\tcv_agg's auc: 0.69521 + 0.00285347\n",
      "[14]\tcv_agg's auc: 0.695984 + 0.00261841\n",
      "[15]\tcv_agg's auc: 0.696569 + 0.00279204\n",
      "[16]\tcv_agg's auc: 0.696828 + 0.00268797\n",
      "[17]\tcv_agg's auc: 0.697175 + 0.00254697\n",
      "[18]\tcv_agg's auc: 0.697493 + 0.00251981\n",
      "[19]\tcv_agg's auc: 0.698017 + 0.00253869\n",
      "[20]\tcv_agg's auc: 0.698371 + 0.00251246\n",
      "[21]\tcv_agg's auc: 0.698719 + 0.00272376\n",
      "[22]\tcv_agg's auc: 0.699083 + 0.00241366\n",
      "[23]\tcv_agg's auc: 0.699309 + 0.00238901\n",
      "[24]\tcv_agg's auc: 0.69962 + 0.00245354\n",
      "[25]\tcv_agg's auc: 0.699621 + 0.00245709\n",
      "[26]\tcv_agg's auc: 0.699754 + 0.00254832\n",
      "[27]\tcv_agg's auc: 0.6999 + 0.00260668\n",
      "[28]\tcv_agg's auc: 0.7 + 0.00253443\n",
      "[29]\tcv_agg's auc: 0.69995 + 0.00252158\n",
      "[30]\tcv_agg's auc: 0.699942 + 0.00256248\n",
      "[31]\tcv_agg's auc: 0.699993 + 0.00242353\n",
      "[32]\tcv_agg's auc: 0.700238 + 0.00247627\n",
      "[33]\tcv_agg's auc: 0.700256 + 0.00237756\n",
      "[34]\tcv_agg's auc: 0.700171 + 0.00228526\n",
      "[35]\tcv_agg's auc: 0.700182 + 0.00212999\n",
      "[36]\tcv_agg's auc: 0.700234 + 0.00209964\n",
      "[37]\tcv_agg's auc: 0.700223 + 0.00211672\n",
      "[38]\tcv_agg's auc: 0.700234 + 0.00198017\n",
      "[39]\tcv_agg's auc: 0.700271 + 0.00198788\n",
      "[40]\tcv_agg's auc: 0.700366 + 0.00184761\n",
      "[41]\tcv_agg's auc: 0.700598 + 0.0020429\n",
      "[42]\tcv_agg's auc: 0.700512 + 0.0020481\n",
      "[43]\tcv_agg's auc: 0.700477 + 0.00201024\n",
      "[44]\tcv_agg's auc: 0.700458 + 0.00193969\n",
      "[45]\tcv_agg's auc: 0.700484 + 0.00194335\n",
      "[46]\tcv_agg's auc: 0.700492 + 0.00192013\n",
      "[47]\tcv_agg's auc: 0.70049 + 0.00196031\n",
      "[48]\tcv_agg's auc: 0.700468 + 0.0019775\n",
      "[49]\tcv_agg's auc: 0.700512 + 0.00195388\n",
      "[50]\tcv_agg's auc: 0.700442 + 0.0019738\n",
      "[51]\tcv_agg's auc: 0.700399 + 0.00194662\n",
      "[52]\tcv_agg's auc: 0.700353 + 0.00199669\n",
      "[53]\tcv_agg's auc: 0.700362 + 0.00200053\n",
      "[54]\tcv_agg's auc: 0.700414 + 0.00203133\n",
      "[55]\tcv_agg's auc: 0.700359 + 0.00205471\n",
      "[56]\tcv_agg's auc: 0.700289 + 0.0020788\n",
      "[57]\tcv_agg's auc: 0.700248 + 0.00204422\n",
      "[58]\tcv_agg's auc: 0.700163 + 0.00202081\n",
      "[59]\tcv_agg's auc: 0.700069 + 0.00201151\n",
      "[60]\tcv_agg's auc: 0.700055 + 0.0019578\n",
      "[61]\tcv_agg's auc: 0.699997 + 0.00203024\n",
      "[62]\tcv_agg's auc: 0.699947 + 0.00200192\n",
      "[63]\tcv_agg's auc: 0.699957 + 0.00199414\n",
      "[64]\tcv_agg's auc: 0.699917 + 0.00200535\n",
      "[65]\tcv_agg's auc: 0.700042 + 0.00190382\n",
      "[66]\tcv_agg's auc: 0.69998 + 0.00188415\n",
      "[67]\tcv_agg's auc: 0.699918 + 0.00189016\n",
      "[68]\tcv_agg's auc: 0.699858 + 0.00187951\n",
      "[69]\tcv_agg's auc: 0.699881 + 0.00182404\n",
      "[70]\tcv_agg's auc: 0.69997 + 0.00185563\n",
      "[71]\tcv_agg's auc: 0.699947 + 0.00181607\n",
      "[72]\tcv_agg's auc: 0.699938 + 0.00183047\n",
      "[73]\tcv_agg's auc: 0.699917 + 0.00189758\n",
      "[74]\tcv_agg's auc: 0.699926 + 0.00194783\n",
      "[75]\tcv_agg's auc: 0.69987 + 0.00189572\n",
      "[76]\tcv_agg's auc: 0.699921 + 0.00192567\n",
      "[77]\tcv_agg's auc: 0.699901 + 0.0019113\n",
      "[78]\tcv_agg's auc: 0.699894 + 0.00189327\n",
      "[79]\tcv_agg's auc: 0.699867 + 0.00191059\n",
      "[80]\tcv_agg's auc: 0.69981 + 0.00190655\n",
      "[81]\tcv_agg's auc: 0.699731 + 0.00187143\n",
      "[82]\tcv_agg's auc: 0.699714 + 0.00189458\n",
      "[83]\tcv_agg's auc: 0.699802 + 0.00185323\n",
      "[84]\tcv_agg's auc: 0.699773 + 0.00189249\n",
      "[85]\tcv_agg's auc: 0.699749 + 0.00193638\n",
      "[86]\tcv_agg's auc: 0.699782 + 0.00195536\n",
      "[87]\tcv_agg's auc: 0.699699 + 0.00200114\n",
      "[88]\tcv_agg's auc: 0.699646 + 0.00202238\n",
      "[89]\tcv_agg's auc: 0.699572 + 0.00205091\n",
      "[90]\tcv_agg's auc: 0.699587 + 0.00196923\n",
      "[91]\tcv_agg's auc: 0.699571 + 0.00199371\n",
      "[92]\tcv_agg's auc: 0.699506 + 0.0020084\n",
      "[93]\tcv_agg's auc: 0.699417 + 0.00206979\n",
      "[94]\tcv_agg's auc: 0.69937 + 0.00206902\n",
      "[95]\tcv_agg's auc: 0.699325 + 0.00207244\n",
      "[96]\tcv_agg's auc: 0.699313 + 0.00211827\n",
      "[97]\tcv_agg's auc: 0.699326 + 0.0021723\n",
      "[98]\tcv_agg's auc: 0.69928 + 0.00211127\n",
      "[99]\tcv_agg's auc: 0.699369 + 0.00220659\n",
      "[100]\tcv_agg's auc: 0.6993 + 0.00223801\n",
      "[101]\tcv_agg's auc: 0.699203 + 0.0022362\n",
      "[102]\tcv_agg's auc: 0.699162 + 0.00220675\n",
      "[103]\tcv_agg's auc: 0.699099 + 0.00222018\n",
      "[104]\tcv_agg's auc: 0.699024 + 0.00225629\n",
      "[105]\tcv_agg's auc: 0.698985 + 0.0022455\n",
      "[106]\tcv_agg's auc: 0.698947 + 0.00225317\n",
      "[107]\tcv_agg's auc: 0.698886 + 0.00226199\n",
      "[108]\tcv_agg's auc: 0.698937 + 0.00225944\n",
      "[109]\tcv_agg's auc: 0.698897 + 0.00225484\n",
      "[110]\tcv_agg's auc: 0.698857 + 0.00219672\n",
      "[111]\tcv_agg's auc: 0.698782 + 0.00221382\n",
      "[112]\tcv_agg's auc: 0.69872 + 0.00223405\n",
      "[113]\tcv_agg's auc: 0.698681 + 0.00224447\n",
      "[114]\tcv_agg's auc: 0.698703 + 0.00216421\n",
      "[115]\tcv_agg's auc: 0.69865 + 0.00215577\n",
      "[116]\tcv_agg's auc: 0.698629 + 0.00212864\n",
      "[117]\tcv_agg's auc: 0.698553 + 0.00208322\n",
      "[118]\tcv_agg's auc: 0.698532 + 0.00205578\n",
      "[119]\tcv_agg's auc: 0.698465 + 0.0020935\n",
      "[120]\tcv_agg's auc: 0.698423 + 0.00211844\n",
      "[121]\tcv_agg's auc: 0.698451 + 0.00199032\n",
      "[122]\tcv_agg's auc: 0.69842 + 0.00200837\n",
      "[123]\tcv_agg's auc: 0.698403 + 0.00200979\n",
      "[124]\tcv_agg's auc: 0.698344 + 0.0020306\n",
      "[125]\tcv_agg's auc: 0.698403 + 0.0020988\n",
      "[126]\tcv_agg's auc: 0.698338 + 0.00206527\n",
      "[127]\tcv_agg's auc: 0.698304 + 0.00206925\n",
      "[128]\tcv_agg's auc: 0.698277 + 0.00211178\n",
      "[129]\tcv_agg's auc: 0.698208 + 0.00212805\n",
      "[130]\tcv_agg's auc: 0.698204 + 0.0021565\n",
      "[131]\tcv_agg's auc: 0.698239 + 0.00212274\n",
      "[132]\tcv_agg's auc: 0.698212 + 0.00211331\n",
      "[133]\tcv_agg's auc: 0.698122 + 0.00206794\n",
      "[134]\tcv_agg's auc: 0.698084 + 0.00203973\n",
      "[135]\tcv_agg's auc: 0.698064 + 0.00200364\n",
      "[136]\tcv_agg's auc: 0.698014 + 0.00201388\n",
      "[137]\tcv_agg's auc: 0.697942 + 0.00203382\n",
      "[138]\tcv_agg's auc: 0.697944 + 0.00203735\n",
      "[139]\tcv_agg's auc: 0.697927 + 0.00206591\n",
      "[140]\tcv_agg's auc: 0.697912 + 0.00200881\n",
      "[141]\tcv_agg's auc: 0.697905 + 0.00200697\n",
      "[142]\tcv_agg's auc: 0.697931 + 0.00203963\n",
      "[143]\tcv_agg's auc: 0.697883 + 0.00208039\n",
      "[144]\tcv_agg's auc: 0.697916 + 0.00208545\n",
      "[145]\tcv_agg's auc: 0.69781 + 0.00203715\n",
      "[146]\tcv_agg's auc: 0.697744 + 0.00205321\n",
      "[147]\tcv_agg's auc: 0.697705 + 0.0020204\n",
      "[148]\tcv_agg's auc: 0.697641 + 0.00201281\n",
      "[149]\tcv_agg's auc: 0.697554 + 0.00203143\n",
      "[150]\tcv_agg's auc: 0.6975 + 0.00202201\n",
      "[151]\tcv_agg's auc: 0.697448 + 0.00201389\n",
      "[152]\tcv_agg's auc: 0.69739 + 0.0020016\n",
      "[153]\tcv_agg's auc: 0.697345 + 0.00198535\n",
      "[154]\tcv_agg's auc: 0.697314 + 0.00199508\n",
      "[155]\tcv_agg's auc: 0.697285 + 0.00198108\n",
      "[156]\tcv_agg's auc: 0.697264 + 0.00197707\n",
      "[157]\tcv_agg's auc: 0.697191 + 0.00197326\n",
      "[158]\tcv_agg's auc: 0.697151 + 0.00197033\n",
      "[159]\tcv_agg's auc: 0.69713 + 0.00199623\n",
      "[160]\tcv_agg's auc: 0.697097 + 0.00198739\n",
      "[161]\tcv_agg's auc: 0.697077 + 0.00198233\n",
      "[162]\tcv_agg's auc: 0.697086 + 0.00199884\n",
      "[163]\tcv_agg's auc: 0.697056 + 0.00200647\n",
      "[164]\tcv_agg's auc: 0.69704 + 0.00195487\n",
      "[165]\tcv_agg's auc: 0.696983 + 0.00194204\n",
      "[166]\tcv_agg's auc: 0.696936 + 0.00192907\n",
      "[167]\tcv_agg's auc: 0.696879 + 0.00191464\n",
      "[168]\tcv_agg's auc: 0.696828 + 0.00191175\n",
      "[169]\tcv_agg's auc: 0.696776 + 0.00191338\n",
      "[170]\tcv_agg's auc: 0.696793 + 0.00179028\n",
      "[171]\tcv_agg's auc: 0.696759 + 0.00178084\n",
      "[172]\tcv_agg's auc: 0.696727 + 0.00178338\n",
      "[173]\tcv_agg's auc: 0.696661 + 0.00181686\n",
      "[174]\tcv_agg's auc: 0.696597 + 0.00185109\n",
      "[175]\tcv_agg's auc: 0.696503 + 0.00182324\n",
      "[176]\tcv_agg's auc: 0.696412 + 0.00177918\n",
      "[177]\tcv_agg's auc: 0.696358 + 0.00176574\n",
      "[178]\tcv_agg's auc: 0.696331 + 0.00179998\n",
      "[179]\tcv_agg's auc: 0.696248 + 0.00185626\n",
      "[180]\tcv_agg's auc: 0.696188 + 0.00185349\n",
      "[181]\tcv_agg's auc: 0.696184 + 0.00181623\n",
      "[182]\tcv_agg's auc: 0.696136 + 0.00183166\n",
      "[183]\tcv_agg's auc: 0.696111 + 0.00180801\n",
      "[184]\tcv_agg's auc: 0.696151 + 0.00185122\n",
      "[185]\tcv_agg's auc: 0.696119 + 0.00186968\n",
      "[186]\tcv_agg's auc: 0.696056 + 0.00186783\n",
      "[187]\tcv_agg's auc: 0.69598 + 0.0018991\n",
      "[188]\tcv_agg's auc: 0.69598 + 0.00193847\n",
      "[189]\tcv_agg's auc: 0.695941 + 0.00195209\n",
      "[190]\tcv_agg's auc: 0.695913 + 0.00197439\n",
      "[191]\tcv_agg's auc: 0.695866 + 0.00195991\n",
      "[192]\tcv_agg's auc: 0.695792 + 0.0019646\n",
      "[193]\tcv_agg's auc: 0.695764 + 0.00192989\n",
      "[194]\tcv_agg's auc: 0.695708 + 0.00191013\n",
      "[195]\tcv_agg's auc: 0.695679 + 0.00191782\n",
      "[196]\tcv_agg's auc: 0.695689 + 0.00193182\n",
      "[197]\tcv_agg's auc: 0.695669 + 0.00187406\n",
      "[198]\tcv_agg's auc: 0.695604 + 0.00191429\n",
      "[199]\tcv_agg's auc: 0.69557 + 0.00193143\n",
      "[200]\tcv_agg's auc: 0.695617 + 0.00197024\n",
      "[201]\tcv_agg's auc: 0.695612 + 0.00199045\n",
      "[202]\tcv_agg's auc: 0.695579 + 0.0019842\n",
      "[203]\tcv_agg's auc: 0.695517 + 0.00197603\n",
      "[204]\tcv_agg's auc: 0.695465 + 0.00198402\n",
      "[205]\tcv_agg's auc: 0.695485 + 0.00196884\n",
      "[206]\tcv_agg's auc: 0.695426 + 0.00197163\n",
      "[207]\tcv_agg's auc: 0.695396 + 0.00194402\n",
      "[208]\tcv_agg's auc: 0.695336 + 0.0019395\n",
      "[209]\tcv_agg's auc: 0.69535 + 0.00194598\n",
      "[210]\tcv_agg's auc: 0.69533 + 0.00196677\n",
      "[211]\tcv_agg's auc: 0.695324 + 0.00193978\n",
      "[212]\tcv_agg's auc: 0.695332 + 0.00183277\n",
      "[213]\tcv_agg's auc: 0.695287 + 0.00188404\n",
      "[214]\tcv_agg's auc: 0.69521 + 0.00190716\n",
      "[215]\tcv_agg's auc: 0.695153 + 0.00187848\n",
      "[216]\tcv_agg's auc: 0.695093 + 0.00182008\n",
      "[217]\tcv_agg's auc: 0.695052 + 0.00184396\n",
      "[218]\tcv_agg's auc: 0.695054 + 0.00186793\n",
      "[219]\tcv_agg's auc: 0.695016 + 0.00188158\n",
      "[220]\tcv_agg's auc: 0.694952 + 0.00188947\n",
      "[221]\tcv_agg's auc: 0.694921 + 0.00189682\n",
      "[222]\tcv_agg's auc: 0.694865 + 0.00186814\n",
      "[223]\tcv_agg's auc: 0.694805 + 0.00187907\n",
      "[224]\tcv_agg's auc: 0.694797 + 0.00186303\n",
      "[225]\tcv_agg's auc: 0.694821 + 0.00190056\n",
      "[226]\tcv_agg's auc: 0.694799 + 0.00188165\n",
      "[227]\tcv_agg's auc: 0.694768 + 0.00190273\n",
      "[228]\tcv_agg's auc: 0.694712 + 0.00190263\n",
      "[229]\tcv_agg's auc: 0.694668 + 0.00194626\n",
      "[230]\tcv_agg's auc: 0.694625 + 0.00194536\n",
      "[231]\tcv_agg's auc: 0.694559 + 0.00196723\n",
      "[232]\tcv_agg's auc: 0.694528 + 0.00201182\n",
      "[233]\tcv_agg's auc: 0.69448 + 0.00201261\n",
      "[234]\tcv_agg's auc: 0.694422 + 0.00199626\n",
      "[235]\tcv_agg's auc: 0.694369 + 0.00198898\n",
      "[236]\tcv_agg's auc: 0.694292 + 0.00198895\n",
      "[237]\tcv_agg's auc: 0.694281 + 0.00199742\n",
      "[238]\tcv_agg's auc: 0.694273 + 0.00200805\n",
      "[239]\tcv_agg's auc: 0.69423 + 0.00201031\n",
      "[240]\tcv_agg's auc: 0.694199 + 0.00200889\n",
      "[241]\tcv_agg's auc: 0.694151 + 0.00203495\n",
      "The maximium ROC AUC in cross validation was 0.70060 with std of 0.00204.\n",
      "The ideal number of iterations was 41.\n"
     ]
    }
   ],
   "source": [
    "train_set = lgb.Dataset(\n",
    "    df_train.drop('HasDetections', axis=1),\n",
    "    label=df_train.loc[:, 'HasDetections'])\n",
    "\n",
    "# Perform cross validation with early stopping\n",
    "N_FOLDS = 5\n",
    "cv_results = lgb.cv(\n",
    "    params,\n",
    "    train_set,\n",
    "    num_boost_round=10000,\n",
    "    nfold=N_FOLDS,\n",
    "    categorical_feature=categorical_columns,\n",
    "    early_stopping_rounds=200,\n",
    "    verbose_eval=True,\n",
    "    seed=42)\n",
    "\n",
    "# Highest score\n",
    "best = cv_results['auc-mean'][-1]\n",
    "\n",
    "# Standard deviation of best score\n",
    "best_std = cv_results['auc-stdv'][-1]\n",
    "\n",
    "print(\n",
    "    'The maximium ROC AUC in cross validation was {:.5f} with std of {:.5f}.'.\n",
    "    format(best, best_std))\n",
    "\n",
    "print('The ideal number of iterations was {}.'.format(\n",
    "    len(cv_results['auc-mean'])))"
   ]
  },
  {
   "cell_type": "code",
   "execution_count": 30,
   "metadata": {
    "ExecuteTime": {
     "end_time": "2019-04-24T10:10:53.354724Z",
     "start_time": "2019-04-24T10:10:53.350724Z"
    }
   },
   "outputs": [],
   "source": [
    "params['n_estimators'] = len(cv_results['auc-mean'])"
   ]
  },
  {
   "cell_type": "code",
   "execution_count": 31,
   "metadata": {
    "ExecuteTime": {
     "end_time": "2019-04-24T10:10:55.691043Z",
     "start_time": "2019-04-24T10:10:53.905289Z"
    }
   },
   "outputs": [
    {
     "name": "stdout",
     "output_type": "stream",
     "text": [
      "The baseline model scores 0.66051 ROC AUC on the oot set.\n"
     ]
    }
   ],
   "source": [
    "model = lgb.LGBMClassifier(**params)\n",
    "model.fit(df_train.drop('HasDetections', axis=1), df_train.loc[:, 'HasDetections'])\n",
    "\n",
    "# AUC\n",
    "preds_test = model.predict_proba(df_test.drop('HasDetections', axis=1))[:, 1]\n",
    "auc_test = roc_auc_score(df_test.loc[:, 'HasDetections'], preds_test)\n",
    "print('The baseline model scores {:.5f} ROC AUC on the oot set.'.format(\n",
    "    auc_test))"
   ]
  },
  {
   "cell_type": "markdown",
   "metadata": {},
   "source": [
    "* 迭代次数减少：83到41\n",
    "* Validation的AUC降低：0.70125到0.70060\n",
    "* Test的AUC降低：0.66980到0.66051"
   ]
  },
  {
   "cell_type": "markdown",
   "metadata": {},
   "source": [
    "## 人工划分验证集 对比组"
   ]
  },
  {
   "cell_type": "code",
   "execution_count": 32,
   "metadata": {
    "ExecuteTime": {
     "end_time": "2019-04-24T10:10:56.254352Z",
     "start_time": "2019-04-24T10:10:56.240272Z"
    }
   },
   "outputs": [],
   "source": [
    "df_validation = df_train.iloc[int(0.8*len(df_train)):, ]\n",
    "df_train = df_train.iloc[:int(0.8*len(df_train)), ]"
   ]
  },
  {
   "cell_type": "code",
   "execution_count": 33,
   "metadata": {
    "ExecuteTime": {
     "end_time": "2019-04-24T10:10:56.892573Z",
     "start_time": "2019-04-24T10:10:56.810624Z"
    }
   },
   "outputs": [],
   "source": [
    "dtrain = lgb.Dataset(data=df_train.drop('HasDetections', axis=1), \n",
    "                             label=df_train.loc[:, 'HasDetections'], \n",
    "                             free_raw_data=False, silent=True)\n",
    "\n",
    "dvalid = lgb.Dataset(data=df_validation.drop('HasDetections', axis=1), \n",
    "                     label=df_validation.loc[:, 'HasDetections'], \n",
    "                     free_raw_data=False, silent=True)"
   ]
  },
  {
   "cell_type": "code",
   "execution_count": 34,
   "metadata": {
    "ExecuteTime": {
     "end_time": "2019-04-24T10:10:57.396900Z",
     "start_time": "2019-04-24T10:10:57.386983Z"
    }
   },
   "outputs": [
    {
     "data": {
      "text/plain": [
       "41"
      ]
     },
     "execution_count": 34,
     "metadata": {},
     "output_type": "execute_result"
    }
   ],
   "source": [
    "params.pop('n_estimators', None)"
   ]
  },
  {
   "cell_type": "code",
   "execution_count": 35,
   "metadata": {
    "ExecuteTime": {
     "end_time": "2019-04-24T10:11:04.557960Z",
     "start_time": "2019-04-24T10:10:57.917085Z"
    },
    "scrolled": true
   },
   "outputs": [
    {
     "name": "stdout",
     "output_type": "stream",
     "text": [
      "[1]\ttraining's auc: 0.684794\tvalid_1's auc: 0.635852\n",
      "Training until validation scores don't improve for 200 rounds.\n",
      "[2]\ttraining's auc: 0.690245\tvalid_1's auc: 0.634689\n",
      "[3]\ttraining's auc: 0.700694\tvalid_1's auc: 0.65022\n",
      "[4]\ttraining's auc: 0.706851\tvalid_1's auc: 0.657809\n",
      "[5]\ttraining's auc: 0.709626\tvalid_1's auc: 0.659713\n",
      "[6]\ttraining's auc: 0.710876\tvalid_1's auc: 0.66102\n",
      "[7]\ttraining's auc: 0.712168\tvalid_1's auc: 0.661179\n",
      "[8]\ttraining's auc: 0.713381\tvalid_1's auc: 0.661427\n",
      "[9]\ttraining's auc: 0.715332\tvalid_1's auc: 0.661743\n",
      "[10]\ttraining's auc: 0.716372\tvalid_1's auc: 0.661889\n",
      "[11]\ttraining's auc: 0.717845\tvalid_1's auc: 0.662234\n",
      "[12]\ttraining's auc: 0.719415\tvalid_1's auc: 0.662036\n",
      "[13]\ttraining's auc: 0.721024\tvalid_1's auc: 0.663286\n",
      "[14]\ttraining's auc: 0.72252\tvalid_1's auc: 0.663306\n",
      "[15]\ttraining's auc: 0.724915\tvalid_1's auc: 0.664333\n",
      "[16]\ttraining's auc: 0.726774\tvalid_1's auc: 0.664861\n",
      "[17]\ttraining's auc: 0.728478\tvalid_1's auc: 0.665446\n",
      "[18]\ttraining's auc: 0.729655\tvalid_1's auc: 0.665326\n",
      "[19]\ttraining's auc: 0.731442\tvalid_1's auc: 0.66667\n",
      "[20]\ttraining's auc: 0.732622\tvalid_1's auc: 0.66693\n",
      "[21]\ttraining's auc: 0.73424\tvalid_1's auc: 0.667546\n",
      "[22]\ttraining's auc: 0.735403\tvalid_1's auc: 0.667382\n",
      "[23]\ttraining's auc: 0.737417\tvalid_1's auc: 0.66765\n",
      "[24]\ttraining's auc: 0.738458\tvalid_1's auc: 0.66784\n",
      "[25]\ttraining's auc: 0.739375\tvalid_1's auc: 0.667867\n",
      "[26]\ttraining's auc: 0.740425\tvalid_1's auc: 0.66771\n",
      "[27]\ttraining's auc: 0.742202\tvalid_1's auc: 0.668017\n",
      "[28]\ttraining's auc: 0.742835\tvalid_1's auc: 0.667991\n",
      "[29]\ttraining's auc: 0.743525\tvalid_1's auc: 0.668026\n",
      "[30]\ttraining's auc: 0.744234\tvalid_1's auc: 0.668196\n",
      "[31]\ttraining's auc: 0.745299\tvalid_1's auc: 0.668033\n",
      "[32]\ttraining's auc: 0.746327\tvalid_1's auc: 0.667575\n",
      "[33]\ttraining's auc: 0.747011\tvalid_1's auc: 0.66792\n",
      "[34]\ttraining's auc: 0.74777\tvalid_1's auc: 0.668041\n",
      "[35]\ttraining's auc: 0.748419\tvalid_1's auc: 0.667975\n",
      "[36]\ttraining's auc: 0.749495\tvalid_1's auc: 0.667921\n",
      "[37]\ttraining's auc: 0.750629\tvalid_1's auc: 0.668121\n",
      "[38]\ttraining's auc: 0.751092\tvalid_1's auc: 0.668357\n",
      "[39]\ttraining's auc: 0.751882\tvalid_1's auc: 0.668409\n",
      "[40]\ttraining's auc: 0.752585\tvalid_1's auc: 0.668274\n",
      "[41]\ttraining's auc: 0.75331\tvalid_1's auc: 0.668319\n",
      "[42]\ttraining's auc: 0.75383\tvalid_1's auc: 0.66804\n",
      "[43]\ttraining's auc: 0.754309\tvalid_1's auc: 0.667979\n",
      "[44]\ttraining's auc: 0.755268\tvalid_1's auc: 0.668221\n",
      "[45]\ttraining's auc: 0.756242\tvalid_1's auc: 0.668532\n",
      "[46]\ttraining's auc: 0.756967\tvalid_1's auc: 0.668609\n",
      "[47]\ttraining's auc: 0.757347\tvalid_1's auc: 0.668505\n",
      "[48]\ttraining's auc: 0.757951\tvalid_1's auc: 0.668383\n",
      "[49]\ttraining's auc: 0.758473\tvalid_1's auc: 0.668286\n",
      "[50]\ttraining's auc: 0.759281\tvalid_1's auc: 0.668432\n",
      "[51]\ttraining's auc: 0.759683\tvalid_1's auc: 0.668396\n",
      "[52]\ttraining's auc: 0.760345\tvalid_1's auc: 0.668334\n",
      "[53]\ttraining's auc: 0.760981\tvalid_1's auc: 0.668333\n",
      "[54]\ttraining's auc: 0.761704\tvalid_1's auc: 0.668462\n",
      "[55]\ttraining's auc: 0.762266\tvalid_1's auc: 0.668391\n",
      "[56]\ttraining's auc: 0.762976\tvalid_1's auc: 0.668429\n",
      "[57]\ttraining's auc: 0.763413\tvalid_1's auc: 0.668246\n",
      "[58]\ttraining's auc: 0.763862\tvalid_1's auc: 0.668331\n",
      "[59]\ttraining's auc: 0.764364\tvalid_1's auc: 0.668203\n",
      "[60]\ttraining's auc: 0.764704\tvalid_1's auc: 0.668118\n",
      "[61]\ttraining's auc: 0.765499\tvalid_1's auc: 0.667954\n",
      "[62]\ttraining's auc: 0.765809\tvalid_1's auc: 0.667946\n",
      "[63]\ttraining's auc: 0.766753\tvalid_1's auc: 0.667947\n",
      "[64]\ttraining's auc: 0.767551\tvalid_1's auc: 0.668197\n",
      "[65]\ttraining's auc: 0.767891\tvalid_1's auc: 0.668193\n",
      "[66]\ttraining's auc: 0.76827\tvalid_1's auc: 0.668093\n",
      "[67]\ttraining's auc: 0.768827\tvalid_1's auc: 0.668009\n",
      "[68]\ttraining's auc: 0.769512\tvalid_1's auc: 0.66794\n",
      "[69]\ttraining's auc: 0.770123\tvalid_1's auc: 0.667962\n",
      "[70]\ttraining's auc: 0.770519\tvalid_1's auc: 0.667878\n",
      "[71]\ttraining's auc: 0.770844\tvalid_1's auc: 0.667798\n",
      "[72]\ttraining's auc: 0.771321\tvalid_1's auc: 0.667713\n",
      "[73]\ttraining's auc: 0.771908\tvalid_1's auc: 0.667851\n",
      "[74]\ttraining's auc: 0.772256\tvalid_1's auc: 0.667901\n",
      "[75]\ttraining's auc: 0.772721\tvalid_1's auc: 0.667901\n",
      "[76]\ttraining's auc: 0.773133\tvalid_1's auc: 0.667885\n",
      "[77]\ttraining's auc: 0.773489\tvalid_1's auc: 0.667787\n",
      "[78]\ttraining's auc: 0.773847\tvalid_1's auc: 0.667644\n",
      "[79]\ttraining's auc: 0.774197\tvalid_1's auc: 0.667599\n",
      "[80]\ttraining's auc: 0.774482\tvalid_1's auc: 0.667441\n",
      "[81]\ttraining's auc: 0.774934\tvalid_1's auc: 0.667315\n",
      "[82]\ttraining's auc: 0.775184\tvalid_1's auc: 0.667229\n",
      "[83]\ttraining's auc: 0.775418\tvalid_1's auc: 0.667196\n",
      "[84]\ttraining's auc: 0.77585\tvalid_1's auc: 0.667561\n",
      "[85]\ttraining's auc: 0.77645\tvalid_1's auc: 0.667557\n",
      "[86]\ttraining's auc: 0.7768\tvalid_1's auc: 0.667657\n",
      "[87]\ttraining's auc: 0.777119\tvalid_1's auc: 0.667866\n",
      "[88]\ttraining's auc: 0.777383\tvalid_1's auc: 0.667745\n",
      "[89]\ttraining's auc: 0.777704\tvalid_1's auc: 0.667695\n",
      "[90]\ttraining's auc: 0.778337\tvalid_1's auc: 0.667783\n",
      "[91]\ttraining's auc: 0.778566\tvalid_1's auc: 0.667821\n",
      "[92]\ttraining's auc: 0.779347\tvalid_1's auc: 0.667685\n",
      "[93]\ttraining's auc: 0.779583\tvalid_1's auc: 0.66768\n",
      "[94]\ttraining's auc: 0.779666\tvalid_1's auc: 0.667637\n",
      "[95]\ttraining's auc: 0.779898\tvalid_1's auc: 0.667609\n",
      "[96]\ttraining's auc: 0.780097\tvalid_1's auc: 0.667587\n",
      "[97]\ttraining's auc: 0.780356\tvalid_1's auc: 0.6675\n",
      "[98]\ttraining's auc: 0.780599\tvalid_1's auc: 0.667478\n",
      "[99]\ttraining's auc: 0.780841\tvalid_1's auc: 0.66745\n",
      "[100]\ttraining's auc: 0.781379\tvalid_1's auc: 0.667452\n",
      "[101]\ttraining's auc: 0.782078\tvalid_1's auc: 0.667419\n",
      "[102]\ttraining's auc: 0.78254\tvalid_1's auc: 0.667177\n",
      "[103]\ttraining's auc: 0.782838\tvalid_1's auc: 0.667159\n",
      "[104]\ttraining's auc: 0.783504\tvalid_1's auc: 0.66707\n",
      "[105]\ttraining's auc: 0.784138\tvalid_1's auc: 0.667063\n",
      "[106]\ttraining's auc: 0.784334\tvalid_1's auc: 0.667151\n",
      "[107]\ttraining's auc: 0.784651\tvalid_1's auc: 0.667123\n",
      "[108]\ttraining's auc: 0.784854\tvalid_1's auc: 0.66715\n",
      "[109]\ttraining's auc: 0.785059\tvalid_1's auc: 0.667172\n",
      "[110]\ttraining's auc: 0.785517\tvalid_1's auc: 0.667321\n",
      "[111]\ttraining's auc: 0.786093\tvalid_1's auc: 0.667323\n",
      "[112]\ttraining's auc: 0.786636\tvalid_1's auc: 0.667131\n",
      "[113]\ttraining's auc: 0.786803\tvalid_1's auc: 0.667087\n",
      "[114]\ttraining's auc: 0.786967\tvalid_1's auc: 0.667065\n",
      "[115]\ttraining's auc: 0.787276\tvalid_1's auc: 0.666962\n",
      "[116]\ttraining's auc: 0.787648\tvalid_1's auc: 0.666882\n",
      "[117]\ttraining's auc: 0.787855\tvalid_1's auc: 0.666814\n",
      "[118]\ttraining's auc: 0.788088\tvalid_1's auc: 0.666706\n",
      "[119]\ttraining's auc: 0.788273\tvalid_1's auc: 0.666651\n",
      "[120]\ttraining's auc: 0.788468\tvalid_1's auc: 0.666625\n",
      "[121]\ttraining's auc: 0.788836\tvalid_1's auc: 0.66659\n",
      "[122]\ttraining's auc: 0.789157\tvalid_1's auc: 0.666562\n",
      "[123]\ttraining's auc: 0.789363\tvalid_1's auc: 0.666473\n",
      "[124]\ttraining's auc: 0.789548\tvalid_1's auc: 0.666462\n",
      "[125]\ttraining's auc: 0.789852\tvalid_1's auc: 0.666356\n",
      "[126]\ttraining's auc: 0.790131\tvalid_1's auc: 0.66633\n",
      "[127]\ttraining's auc: 0.79031\tvalid_1's auc: 0.66635\n",
      "[128]\ttraining's auc: 0.791028\tvalid_1's auc: 0.666342\n",
      "[129]\ttraining's auc: 0.791489\tvalid_1's auc: 0.666479\n",
      "[130]\ttraining's auc: 0.791907\tvalid_1's auc: 0.666528\n",
      "[131]\ttraining's auc: 0.79226\tvalid_1's auc: 0.666514\n",
      "[132]\ttraining's auc: 0.7927\tvalid_1's auc: 0.666506\n",
      "[133]\ttraining's auc: 0.793047\tvalid_1's auc: 0.666393\n",
      "[134]\ttraining's auc: 0.793233\tvalid_1's auc: 0.666392\n",
      "[135]\ttraining's auc: 0.793715\tvalid_1's auc: 0.666245\n",
      "[136]\ttraining's auc: 0.793823\tvalid_1's auc: 0.666193\n",
      "[137]\ttraining's auc: 0.794775\tvalid_1's auc: 0.666259\n",
      "[138]\ttraining's auc: 0.795004\tvalid_1's auc: 0.666228\n",
      "[139]\ttraining's auc: 0.795259\tvalid_1's auc: 0.66627\n",
      "[140]\ttraining's auc: 0.79555\tvalid_1's auc: 0.666259\n",
      "[141]\ttraining's auc: 0.795721\tvalid_1's auc: 0.666258\n",
      "[142]\ttraining's auc: 0.796125\tvalid_1's auc: 0.666182\n",
      "[143]\ttraining's auc: 0.796438\tvalid_1's auc: 0.666152\n",
      "[144]\ttraining's auc: 0.796681\tvalid_1's auc: 0.6661\n",
      "[145]\ttraining's auc: 0.796813\tvalid_1's auc: 0.666021\n",
      "[146]\ttraining's auc: 0.79702\tvalid_1's auc: 0.666008\n",
      "[147]\ttraining's auc: 0.79724\tvalid_1's auc: 0.665955\n",
      "[148]\ttraining's auc: 0.797755\tvalid_1's auc: 0.665943\n",
      "[149]\ttraining's auc: 0.797901\tvalid_1's auc: 0.665957\n",
      "[150]\ttraining's auc: 0.79881\tvalid_1's auc: 0.666117\n",
      "[151]\ttraining's auc: 0.79907\tvalid_1's auc: 0.66619\n",
      "[152]\ttraining's auc: 0.79921\tvalid_1's auc: 0.6661\n",
      "[153]\ttraining's auc: 0.799946\tvalid_1's auc: 0.66621\n",
      "[154]\ttraining's auc: 0.800164\tvalid_1's auc: 0.666073\n",
      "[155]\ttraining's auc: 0.800303\tvalid_1's auc: 0.666038\n",
      "[156]\ttraining's auc: 0.80051\tvalid_1's auc: 0.666044\n",
      "[157]\ttraining's auc: 0.800831\tvalid_1's auc: 0.666028\n",
      "[158]\ttraining's auc: 0.801106\tvalid_1's auc: 0.665967\n",
      "[159]\ttraining's auc: 0.801277\tvalid_1's auc: 0.665993\n",
      "[160]\ttraining's auc: 0.801635\tvalid_1's auc: 0.665932\n",
      "[161]\ttraining's auc: 0.801791\tvalid_1's auc: 0.665921\n",
      "[162]\ttraining's auc: 0.801918\tvalid_1's auc: 0.665876\n",
      "[163]\ttraining's auc: 0.802156\tvalid_1's auc: 0.665911\n",
      "[164]\ttraining's auc: 0.802397\tvalid_1's auc: 0.66592\n",
      "[165]\ttraining's auc: 0.80283\tvalid_1's auc: 0.66588\n",
      "[166]\ttraining's auc: 0.803019\tvalid_1's auc: 0.665827\n",
      "[167]\ttraining's auc: 0.803106\tvalid_1's auc: 0.665772\n",
      "[168]\ttraining's auc: 0.803498\tvalid_1's auc: 0.665803\n",
      "[169]\ttraining's auc: 0.804115\tvalid_1's auc: 0.665724\n",
      "[170]\ttraining's auc: 0.80431\tvalid_1's auc: 0.665577\n",
      "[171]\ttraining's auc: 0.80465\tvalid_1's auc: 0.665618\n",
      "[172]\ttraining's auc: 0.804842\tvalid_1's auc: 0.665527\n",
      "[173]\ttraining's auc: 0.805025\tvalid_1's auc: 0.665538\n",
      "[174]\ttraining's auc: 0.805174\tvalid_1's auc: 0.665441\n",
      "[175]\ttraining's auc: 0.805438\tvalid_1's auc: 0.665363\n",
      "[176]\ttraining's auc: 0.806249\tvalid_1's auc: 0.665461\n",
      "[177]\ttraining's auc: 0.80685\tvalid_1's auc: 0.665422\n",
      "[178]\ttraining's auc: 0.807115\tvalid_1's auc: 0.665382\n",
      "[179]\ttraining's auc: 0.807353\tvalid_1's auc: 0.665381\n",
      "[180]\ttraining's auc: 0.807485\tvalid_1's auc: 0.665345\n",
      "[181]\ttraining's auc: 0.80757\tvalid_1's auc: 0.66528\n",
      "[182]\ttraining's auc: 0.807903\tvalid_1's auc: 0.665265\n",
      "[183]\ttraining's auc: 0.808027\tvalid_1's auc: 0.665269\n",
      "[184]\ttraining's auc: 0.808158\tvalid_1's auc: 0.665261\n",
      "[185]\ttraining's auc: 0.808285\tvalid_1's auc: 0.665209\n",
      "[186]\ttraining's auc: 0.808987\tvalid_1's auc: 0.665171\n",
      "[187]\ttraining's auc: 0.809303\tvalid_1's auc: 0.665225\n",
      "[188]\ttraining's auc: 0.809512\tvalid_1's auc: 0.665295\n",
      "[189]\ttraining's auc: 0.809608\tvalid_1's auc: 0.665265\n",
      "[190]\ttraining's auc: 0.80983\tvalid_1's auc: 0.66517\n",
      "[191]\ttraining's auc: 0.809995\tvalid_1's auc: 0.665161\n",
      "[192]\ttraining's auc: 0.810091\tvalid_1's auc: 0.665106\n",
      "[193]\ttraining's auc: 0.810315\tvalid_1's auc: 0.664924\n",
      "[194]\ttraining's auc: 0.810451\tvalid_1's auc: 0.664872\n",
      "[195]\ttraining's auc: 0.810879\tvalid_1's auc: 0.664844\n",
      "[196]\ttraining's auc: 0.810986\tvalid_1's auc: 0.664806\n",
      "[197]\ttraining's auc: 0.811231\tvalid_1's auc: 0.664835\n",
      "[198]\ttraining's auc: 0.811344\tvalid_1's auc: 0.66475\n",
      "[199]\ttraining's auc: 0.811529\tvalid_1's auc: 0.664751\n",
      "[200]\ttraining's auc: 0.811669\tvalid_1's auc: 0.664684\n",
      "[201]\ttraining's auc: 0.811764\tvalid_1's auc: 0.664656\n",
      "[202]\ttraining's auc: 0.811918\tvalid_1's auc: 0.664626\n",
      "[203]\ttraining's auc: 0.812115\tvalid_1's auc: 0.664567\n",
      "[204]\ttraining's auc: 0.812551\tvalid_1's auc: 0.664503\n",
      "[205]\ttraining's auc: 0.81284\tvalid_1's auc: 0.664514\n",
      "[206]\ttraining's auc: 0.81304\tvalid_1's auc: 0.664415\n",
      "[207]\ttraining's auc: 0.813219\tvalid_1's auc: 0.664424\n",
      "[208]\ttraining's auc: 0.81363\tvalid_1's auc: 0.664396\n",
      "[209]\ttraining's auc: 0.814002\tvalid_1's auc: 0.664676\n",
      "[210]\ttraining's auc: 0.814281\tvalid_1's auc: 0.664631\n",
      "[211]\ttraining's auc: 0.81466\tvalid_1's auc: 0.664538\n",
      "[212]\ttraining's auc: 0.814956\tvalid_1's auc: 0.664709\n",
      "[213]\ttraining's auc: 0.815391\tvalid_1's auc: 0.664666\n",
      "[214]\ttraining's auc: 0.815479\tvalid_1's auc: 0.66466\n",
      "[215]\ttraining's auc: 0.815595\tvalid_1's auc: 0.664609\n",
      "[216]\ttraining's auc: 0.816214\tvalid_1's auc: 0.664556\n",
      "[217]\ttraining's auc: 0.81633\tvalid_1's auc: 0.664503\n",
      "[218]\ttraining's auc: 0.816415\tvalid_1's auc: 0.6645\n",
      "[219]\ttraining's auc: 0.816765\tvalid_1's auc: 0.664462\n",
      "[220]\ttraining's auc: 0.816961\tvalid_1's auc: 0.664441\n",
      "[221]\ttraining's auc: 0.817034\tvalid_1's auc: 0.664409\n",
      "[222]\ttraining's auc: 0.817206\tvalid_1's auc: 0.664358\n",
      "[223]\ttraining's auc: 0.817668\tvalid_1's auc: 0.664262\n",
      "[224]\ttraining's auc: 0.817888\tvalid_1's auc: 0.664163\n",
      "[225]\ttraining's auc: 0.818114\tvalid_1's auc: 0.664122\n",
      "[226]\ttraining's auc: 0.818483\tvalid_1's auc: 0.664148\n",
      "[227]\ttraining's auc: 0.818589\tvalid_1's auc: 0.664131\n",
      "[228]\ttraining's auc: 0.818892\tvalid_1's auc: 0.664042\n",
      "[229]\ttraining's auc: 0.819054\tvalid_1's auc: 0.664038\n",
      "[230]\ttraining's auc: 0.819605\tvalid_1's auc: 0.663951\n",
      "[231]\ttraining's auc: 0.819771\tvalid_1's auc: 0.663932\n",
      "[232]\ttraining's auc: 0.819907\tvalid_1's auc: 0.663876\n",
      "[233]\ttraining's auc: 0.820031\tvalid_1's auc: 0.663857\n",
      "[234]\ttraining's auc: 0.820369\tvalid_1's auc: 0.663731\n",
      "[235]\ttraining's auc: 0.820527\tvalid_1's auc: 0.663697\n",
      "[236]\ttraining's auc: 0.820686\tvalid_1's auc: 0.66367\n",
      "[237]\ttraining's auc: 0.820823\tvalid_1's auc: 0.663675\n",
      "[238]\ttraining's auc: 0.820997\tvalid_1's auc: 0.663583\n",
      "[239]\ttraining's auc: 0.821216\tvalid_1's auc: 0.663454\n",
      "[240]\ttraining's auc: 0.821521\tvalid_1's auc: 0.66354\n",
      "[241]\ttraining's auc: 0.821672\tvalid_1's auc: 0.663543\n",
      "[242]\ttraining's auc: 0.821768\tvalid_1's auc: 0.663476\n",
      "[243]\ttraining's auc: 0.821976\tvalid_1's auc: 0.663462\n",
      "[244]\ttraining's auc: 0.822279\tvalid_1's auc: 0.663414\n",
      "[245]\ttraining's auc: 0.822385\tvalid_1's auc: 0.663377\n",
      "[246]\ttraining's auc: 0.82246\tvalid_1's auc: 0.663361\n",
      "Early stopping, best iteration is:\n",
      "[46]\ttraining's auc: 0.756967\tvalid_1's auc: 0.668609\n"
     ]
    }
   ],
   "source": [
    "clf = lgb.train(\n",
    "            params=params,\n",
    "            train_set=dtrain,\n",
    "            num_boost_round=10000,\n",
    "            valid_sets=[dtrain, dvalid],\n",
    "            early_stopping_rounds=200,\n",
    "            verbose_eval=True,\n",
    "            categorical_feature = categorical_columns\n",
    "        )"
   ]
  },
  {
   "cell_type": "code",
   "execution_count": 36,
   "metadata": {
    "ExecuteTime": {
     "end_time": "2019-04-24T10:11:18.770650Z",
     "start_time": "2019-04-24T10:11:18.766662Z"
    }
   },
   "outputs": [],
   "source": [
    "params['n_estimators'] = 46"
   ]
  },
  {
   "cell_type": "code",
   "execution_count": 37,
   "metadata": {
    "ExecuteTime": {
     "end_time": "2019-04-24T10:11:20.960710Z",
     "start_time": "2019-04-24T10:11:19.396185Z"
    }
   },
   "outputs": [
    {
     "name": "stdout",
     "output_type": "stream",
     "text": [
      "The baseline model scores 0.66146 ROC AUC on the oot set.\n"
     ]
    }
   ],
   "source": [
    "model = lgb.LGBMClassifier(**params)\n",
    "model.fit(df_train.drop('HasDetections', axis=1), df_train.loc[:, 'HasDetections'])\n",
    "\n",
    "# AUC\n",
    "preds_test = model.predict_proba(df_test.drop('HasDetections', axis=1))[:, 1]\n",
    "auc_test = roc_auc_score(df_test.loc[:, 'HasDetections'], preds_test)\n",
    "print('The baseline model scores {:.5f} ROC AUC on the oot set.'.format(\n",
    "    auc_test))"
   ]
  },
  {
   "cell_type": "markdown",
   "metadata": {},
   "source": [
    "* 迭代次数减少：363到46\n",
    "* Validation的AUC降低：0.676596到0.668609\n",
    "* Test的AUC降低：0.67229到0.66146"
   ]
  },
  {
   "cell_type": "code",
   "execution_count": null,
   "metadata": {},
   "outputs": [],
   "source": []
  }
 ],
 "metadata": {
  "kernelspec": {
   "display_name": "Python 3",
   "language": "python",
   "name": "python3"
  },
  "language_info": {
   "codemirror_mode": {
    "name": "ipython",
    "version": 3
   },
   "file_extension": ".py",
   "mimetype": "text/x-python",
   "name": "python",
   "nbconvert_exporter": "python",
   "pygments_lexer": "ipython3",
   "version": "3.7.1"
  },
  "toc": {
   "base_numbering": 1,
   "nav_menu": {},
   "number_sections": true,
   "sideBar": true,
   "skip_h1_title": false,
   "title_cell": "Table of Contents",
   "title_sidebar": "Contents",
   "toc_cell": false,
   "toc_position": {
    "height": "397.92px",
    "left": "142px",
    "top": "111.12px",
    "width": "230.8px"
   },
   "toc_section_display": true,
   "toc_window_display": true
  },
  "varInspector": {
   "cols": {
    "lenName": 16,
    "lenType": 16,
    "lenVar": 40
   },
   "kernels_config": {
    "python": {
     "delete_cmd_postfix": "",
     "delete_cmd_prefix": "del ",
     "library": "var_list.py",
     "varRefreshCmd": "print(var_dic_list())"
    },
    "r": {
     "delete_cmd_postfix": ") ",
     "delete_cmd_prefix": "rm(",
     "library": "var_list.r",
     "varRefreshCmd": "cat(var_dic_list()) "
    }
   },
   "position": {
    "height": "284.12px",
    "left": "724.8px",
    "right": "20px",
    "top": "98px",
    "width": "457.72px"
   },
   "types_to_exclude": [
    "module",
    "function",
    "builtin_function_or_method",
    "instance",
    "_Feature"
   ],
   "window_display": false
  }
 },
 "nbformat": 4,
 "nbformat_minor": 2
}
