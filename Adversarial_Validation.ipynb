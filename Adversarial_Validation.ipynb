{
 "cells": [
  {
   "cell_type": "markdown",
   "metadata": {},
   "source": [
    "# 简介"
   ]
  },
  {
   "cell_type": "markdown",
   "metadata": {
    "ExecuteTime": {
     "end_time": "2019-04-25T08:41:01.220832Z",
     "start_time": "2019-04-25T08:41:01.215818Z"
    }
   },
   "source": [
    "交叉验证（Cross Validation）是常用的一种用来评估模型效果的方法。\n",
    "\n",
    "在本篇文章中，我们将通过一个实例了解到：当样本分布发生变化时，使用交叉验证，无法准确评估模型在测试集上的效果。\n",
    "\n",
    "我们将使用对抗验证（Adversarial Validation）这一方法，来辨别样本的分布是否发生了变化。\n",
    "\n",
    "如果样本分布发生了变化，除了交叉验证，我们有哪些更好的评估模型效果的方法。"
   ]
  },
  {
   "cell_type": "markdown",
   "metadata": {},
   "source": [
    "# 什么是「样本分布变化」？"
   ]
  },
  {
   "cell_type": "markdown",
   "metadata": {
    "ExecuteTime": {
     "end_time": "2019-04-24T14:20:35.857616Z",
     "start_time": "2019-04-24T14:20:35.846925Z"
    }
   },
   "source": [
    "在真实的业务场景中，我们经常会遇到「样本分布变化」的问题，主要体现在训练集和测试集的样本分布存在较大的差异。\n",
    "\n",
    "比如，在化妆品或者医美市场，男性的比例越来越多。基于过去的数据构建的模型，渐渐不适用于现在。\n",
    "\n",
    "比如，在信贷场景下，因为建模样本都是通过了信用审批的客户，所以建模样本（Sample）和整体（Population）的分布也存在偏差。"
   ]
  },
  {
   "cell_type": "markdown",
   "metadata": {},
   "source": [
    "# 为什么「样本分布变化」的时候，交叉验证不适用？"
   ]
  },
  {
   "cell_type": "markdown",
   "metadata": {},
   "source": [
    "当我们要做一个模型，来预测人们在超市的消费习惯。\n",
    "\n",
    "我们的训练样本主要是18岁-25岁的年轻人构成，而测试样本主要是70岁以上的老人组成。这时样本分布就发生了变化。"
   ]
  },
  {
   "cell_type": "markdown",
   "metadata": {
    "ExecuteTime": {
     "end_time": "2019-04-26T03:27:19.165668Z",
     "start_time": "2019-04-26T03:27:19.050902Z"
    }
   },
   "source": [
    "![样本分布变化](./images/Change_in_Distribution.png)"
   ]
  },
  {
   "cell_type": "markdown",
   "metadata": {},
   "source": [
    "这种情况下，使用交叉验证，其实无法准确评估模型的效果。原因是，交叉验证的验证集和测试集不够相似。\n",
    "\n",
    "交叉验证中，每一折的验证集都是从训练集随机抽取的。随机抽取的验证集的分布和整体的训练集是相同的，也就意味着每一折的验证集都和测试集的分布存在较大的差异。\n",
    "\n",
    "所以在样本分布变化时，通过交叉验证的方式构建的模型，在测试集上的表现相较于训练集通常会打折扣。稍后我们会通过一个实例来确认这一点。"
   ]
  },
  {
   "cell_type": "markdown",
   "metadata": {
    "ExecuteTime": {
     "end_time": "2019-04-25T09:49:50.918672Z",
     "start_time": "2019-04-25T09:49:50.915679Z"
    }
   },
   "source": [
    "# 什么是对抗验证（Adversarial Validation）？"
   ]
  },
  {
   "cell_type": "markdown",
   "metadata": {
    "ExecuteTime": {
     "end_time": "2019-04-19T09:25:34.263897Z",
     "start_time": "2019-04-19T09:25:34.257934Z"
    }
   },
   "source": [
    "[对抗验证（Adversarial Validation）](http://fastml.com/adversarial-validation-part-one/)，并不像交叉验证是一种评估模型效果的方法，而是一种用来确认训练集和测试集的分布是否变化的方法。\n",
    "\n",
    "它的本质是，构造一个分类模型，来预测样本是训练集或测试集的概率。\n",
    "\n",
    "如果这个模型的效果不错（通常来说AUC在0.7以上），那么可以说明我们的训练集和测试集存在较大的差异。\n",
    "\n",
    "如下图，仍然以「预测人们在超市的消费习惯」为例。因为训练集主要是18岁-25岁的年轻人，测试集主要是70岁以上的老人，那么通过「年龄」，我们就能够比较好的区分出训练集和测试集。\n",
    "\n",
    "<img src=\"./images/Adversarial_Validation.png\" width=\"500\" height=\"500\" />"
   ]
  },
  {
   "cell_type": "markdown",
   "metadata": {
    "ExecuteTime": {
     "end_time": "2019-04-19T09:08:25.769307Z",
     "start_time": "2019-04-19T09:08:25.763303Z"
    }
   },
   "source": [
    "具体步骤如下：\n",
    "\n",
    "* 定义新的Y（因变量）：样本是train还是test。训练集中的样本统一标记为0，测试集则标记为1。\n",
    "* 将 Train 和 Test 合成一个数据集\n",
    "* 构造一个模型，拟合新定义的Y。\n",
    "* 观察模型效果：如果模型的AUC超过0.7，说明了 Train 和 Test 的分布存在较大的差异。"
   ]
  },
  {
   "cell_type": "markdown",
   "metadata": {},
   "source": [
    "# 分布变化时，优于交叉验证的方法"
   ]
  },
  {
   "cell_type": "markdown",
   "metadata": {},
   "source": [
    "主要是三种方法：\n",
    "\n",
    "* 人工划分验证集\n",
    "* 和测试集最相似的样本作为验证集\n",
    "* 有权重的交叉验证"
   ]
  },
  {
   "cell_type": "markdown",
   "metadata": {},
   "source": [
    "## 人工划分验证集"
   ]
  },
  {
   "cell_type": "markdown",
   "metadata": {},
   "source": [
    "人工划分验证集，需要我们对数据有充分的了解。\n",
    "\n",
    "因为我知道这次比赛的数据是根据时间划分的，所以我的验证集同样可以根据时间划分。\n",
    "\n",
    "如果我们不清楚训练集和测试集如何划分，可以采用后面两种方法。"
   ]
  },
  {
   "cell_type": "markdown",
   "metadata": {},
   "source": [
    "## 用和测试集分布最相似的样本，作为验证集"
   ]
  },
  {
   "cell_type": "markdown",
   "metadata": {},
   "source": [
    "如果对数据没有充分了解，如何找到训练集中，和测试集分布最相似的样本呢？\n",
    "\n",
    "这就会用到我们做对抗验证时，模型预测样本是测试集的概率。概率越高，则说明和测试集越相似。"
   ]
  },
  {
   "cell_type": "markdown",
   "metadata": {},
   "source": [
    "## 有权重的交叉验证"
   ]
  },
  {
   "cell_type": "markdown",
   "metadata": {},
   "source": [
    "不仅可以用对抗验证中，模型预测样本是测试集的概率来划分验证集，也可以将这个概率作为样本的权重。\n",
    "\n",
    "概率越高，和测试集就越相似，权重就越高。\n",
    "\n",
    "这样，我们就可以做有权重的交叉验证。"
   ]
  },
  {
   "cell_type": "markdown",
   "metadata": {
    "ExecuteTime": {
     "end_time": "2019-04-25T00:46:22.654844Z",
     "start_time": "2019-04-25T00:46:22.644842Z"
    }
   },
   "source": [
    "# 实例"
   ]
  },
  {
   "cell_type": "markdown",
   "metadata": {},
   "source": [
    "## 数据"
   ]
  },
  {
   "cell_type": "markdown",
   "metadata": {
    "ExecuteTime": {
     "end_time": "2019-04-25T00:46:44.650549Z",
     "start_time": "2019-04-25T00:46:44.641005Z"
    }
   },
   "source": [
    "![Microsoft Malware Prediction](./images/Microsoft_Malware_Competition.png)\n",
    "\n",
    "\n",
    "这里用到的数据来自Kaggle上的[微软恶意软件比赛](https://www.kaggle.com/c/microsoft-malware-prediction/overview)。\n",
    "\n",
    "每一个样本代表着一台电脑。这次比赛的目标是：预测电脑受到恶意软件攻击的概率。\n",
    "\n",
    "因为这次比赛的 Train 和 Test 是根据时间划分的，所以Train 和 Test 的分布非常不同，很具有代表性。\n",
    "\n",
    "如果需要数据，可以从[Kaggle](https://www.kaggle.com/c/microsoft-malware-prediction/data)下载。"
   ]
  },
  {
   "cell_type": "markdown",
   "metadata": {},
   "source": [
    "## Import"
   ]
  },
  {
   "cell_type": "code",
   "execution_count": null,
   "metadata": {
    "ExecuteTime": {
     "end_time": "2019-04-29T06:02:58.670141Z",
     "start_time": "2019-04-29T06:02:54.143600Z"
    }
   },
   "outputs": [],
   "source": [
    "import pandas as pd\n",
    "from tqdm import tqdm\n",
    "import lightgbm as lgb\n",
    "from sklearn.metrics import roc_auc_score\n",
    "from sklearn.model_selection import KFold\n",
    "\n",
    "# Memory management\n",
    "import gc\n",
    "gc.enable()\n",
    "\n",
    "# Plot\n",
    "import seaborn as sns\n",
    "import matplotlib.pyplot as plt\n",
    "plt.style.use('ggplot')\n",
    "\n",
    "# Suppress warnings\n",
    "import warnings\n",
    "warnings.filterwarnings('ignore')"
   ]
  },
  {
   "cell_type": "code",
   "execution_count": null,
   "metadata": {
    "ExecuteTime": {
     "end_time": "2019-04-29T06:02:58.687743Z",
     "start_time": "2019-04-29T06:02:58.682132Z"
    }
   },
   "outputs": [],
   "source": [
    "# dtypes = {\n",
    "#     'MachineIdentifier':                                    'category',\n",
    "#     'ProductName':                                          'category',\n",
    "#     'EngineVersion':                                        'category',\n",
    "#     'AppVersion':                                           'category',\n",
    "#     'AvSigVersion':                                         'category',\n",
    "#     'IsBeta':                                               'int8',\n",
    "#     'RtpStateBitfield':                                     'float16',\n",
    "#     'IsSxsPassiveMode':                                     'int8',\n",
    "#     'DefaultBrowsersIdentifier':                            'float32',\n",
    "#     'AVProductStatesIdentifier':                            'float32',\n",
    "#     'AVProductsInstalled':                                  'float16',\n",
    "#     'AVProductsEnabled':                                    'float16',\n",
    "#     'HasTpm':                                               'int8',\n",
    "#     'CountryIdentifier':                                    'int16',\n",
    "#     'CityIdentifier':                                       'float32',\n",
    "#     'OrganizationIdentifier':                               'float16',\n",
    "#     'GeoNameIdentifier':                                    'float16',\n",
    "#     'LocaleEnglishNameIdentifier':                          'int16',\n",
    "#     'Platform':                                             'category',\n",
    "#     'Processor':                                            'category',\n",
    "#     'OsVer':                                                'category',\n",
    "#     'OsBuild':                                              'int16',\n",
    "#     'OsSuite':                                              'int16',\n",
    "#     'OsPlatformSubRelease':                                 'category',\n",
    "#     'OsBuildLab':                                           'category',\n",
    "#     'SkuEdition':                                           'category',\n",
    "#     'IsProtected':                                          'float16',\n",
    "#     'AutoSampleOptIn':                                      'int8',\n",
    "#     'PuaMode':                                              'category',\n",
    "#     'SMode':                                                'float16',\n",
    "#     'IeVerIdentifier':                                      'float16',\n",
    "#     'SmartScreen':                                          'category',\n",
    "#     'Firewall':                                             'float16',\n",
    "#     'UacLuaenable':                                         'float64',  # was 'float32'\n",
    "#     'Census_MDC2FormFactor':                                'category',\n",
    "#     'Census_DeviceFamily':                                  'category',\n",
    "#     'Census_OEMNameIdentifier':                             'float32',  # was 'float16'\n",
    "#     'Census_OEMModelIdentifier':                            'float32',\n",
    "#     'Census_ProcessorCoreCount':                            'float16',\n",
    "#     'Census_ProcessorManufacturerIdentifier':               'float16',\n",
    "#     'Census_ProcessorModelIdentifier':                      'float32',  # was 'float16'\n",
    "#     'Census_ProcessorClass':                                'category',\n",
    "#     'Census_PrimaryDiskTotalCapacity':                      'float64',  # was 'float32'\n",
    "#     'Census_PrimaryDiskTypeName':                           'category',\n",
    "#     'Census_SystemVolumeTotalCapacity':                     'float64',  # was 'float32'\n",
    "#     'Census_HasOpticalDiskDrive':                           'int8',\n",
    "#     'Census_TotalPhysicalRAM':                              'float32',\n",
    "#     'Census_ChassisTypeName':                               'category',\n",
    "#     'Census_InternalPrimaryDiagonalDisplaySizeInInches':    'float32',  # was 'float16'\n",
    "#     'Census_InternalPrimaryDisplayResolutionHorizontal':    'float32',  # was 'float16'\n",
    "#     'Census_InternalPrimaryDisplayResolutionVertical':      'float32',  # was 'float16'\n",
    "#     'Census_PowerPlatformRoleName':                         'category',\n",
    "#     'Census_InternalBatteryType':                           'category',\n",
    "#     'Census_InternalBatteryNumberOfCharges':                'float64',  # was 'float32'\n",
    "#     'Census_OSVersion':                                     'category',\n",
    "#     'Census_OSArchitecture':                                'category',\n",
    "#     'Census_OSBranch':                                      'category',\n",
    "#     'Census_OSBuildNumber':                                 'int16',\n",
    "#     'Census_OSBuildRevision':                               'int32',\n",
    "#     'Census_OSEdition':                                     'category',\n",
    "#     'Census_OSSkuName':                                     'category',\n",
    "#     'Census_OSInstallTypeName':                             'category',\n",
    "#     'Census_OSInstallLanguageIdentifier':                   'float16',\n",
    "#     'Census_OSUILocaleIdentifier':                          'int16',\n",
    "#     'Census_OSWUAutoUpdateOptionsName':                     'category',\n",
    "#     'Census_IsPortableOperatingSystem':                     'int8',\n",
    "#     'Census_GenuineStateName':                              'category',\n",
    "#     'Census_ActivationChannel':                             'category',\n",
    "#     'Census_IsFlightingInternal':                           'float16',\n",
    "#     'Census_IsFlightsDisabled':                             'float16',\n",
    "#     'Census_FlightRing':                                    'category',\n",
    "#     'Census_ThresholdOptIn':                                'float16',\n",
    "#     'Census_FirmwareManufacturerIdentifier':                'float16',\n",
    "#     'Census_FirmwareVersionIdentifier':                     'float32',\n",
    "#     'Census_IsSecureBootEnabled':                           'int8',\n",
    "#     'Census_IsWIMBootEnabled':                              'float16',\n",
    "#     'Census_IsVirtualDevice':                               'float16',\n",
    "#     'Census_IsTouchEnabled':                                'int8',\n",
    "#     'Census_IsPenCapable':                                  'int8',\n",
    "#     'Census_IsAlwaysOnAlwaysConnectedCapable':              'float16',\n",
    "#     'Wdft_IsGamer':                                         'float16',\n",
    "#     'Wdft_RegionIdentifier':                                'float16',\n",
    "#     'HasDetections':                                        'int8'\n",
    "# }\n",
    "\n",
    "# df_all = pd.read_csv('./input/train.csv.zip', dtype=dtypes) \n",
    "## 对训练集随机抽取2%的样本\n",
    "# df_all = df_all.sample(frac=0.02, random_state=123)\n",
    "# df_all.to_csv('./input/train_sample.csv', index=False)"
   ]
  },
  {
   "cell_type": "markdown",
   "metadata": {},
   "source": [
    "因为这次比赛的训练集有800万样本，测试集有700万样本。为了方便演示，这里我仅随机抽取训练集中2%的样本，而且不使用测试集的数据。我们稍后将从训练集中拆分一个数据集，作为我们的测试集。\n",
    "\n",
    "不使用这次比赛原本的测试集可以节省很多时间。因为测试集有700万的样本，每做一次预测会消耗大量时间。"
   ]
  },
  {
   "cell_type": "code",
   "execution_count": null,
   "metadata": {
    "ExecuteTime": {
     "end_time": "2019-04-29T06:03:04.153568Z",
     "start_time": "2019-04-29T06:02:58.702708Z"
    }
   },
   "outputs": [],
   "source": [
    "# 读取训练集中随机抽取的2%的样本\n",
    "df_all = pd.read_csv('./input/train_sample.csv') \n",
    "df_all.head()"
   ]
  },
  {
   "cell_type": "markdown",
   "metadata": {},
   "source": [
    "本次比赛的数据中提供了电脑的 Windows Defender（Windows系统自带的杀毒软件）版本号，所以我们可以通过该本版号发布的时间，粗略的推测采集该样本的时间。\n",
    "\n",
    "这里AvSigVersionTimestamps就是各个Windows Defender版本对应的发布时间。\n",
    "\n",
    "通过和该数据匹配，我们生成了一个新的字段 -- Date（日期）。这个字段稍后会起作用。"
   ]
  },
  {
   "cell_type": "code",
   "execution_count": null,
   "metadata": {
    "ExecuteTime": {
     "end_time": "2019-04-29T06:03:04.432095Z",
     "start_time": "2019-04-29T06:03:04.254274Z"
    },
    "scrolled": true
   },
   "outputs": [],
   "source": [
    "# 读取Windows Defender版本对应的发布时间\n",
    "datedict = np.load('./input/AvSigVersionTimestamps.npy')\n",
    "datedict = datedict[()]\n",
    "\n",
    "# 生成新的变量Date\n",
    "df_all['Date'] = df_all['AvSigVersion'].map(datedict)\n",
    "\n",
    "# MachineIdentifier是每台电脑的唯一识别号，对于模型的预测没有任何帮助，所以剔除。\n",
    "df_all.drop(['MachineIdentifier'], axis=1, inplace=True) "
   ]
  },
  {
   "cell_type": "markdown",
   "metadata": {},
   "source": [
    "## 数据清理"
   ]
  },
  {
   "cell_type": "markdown",
   "metadata": {},
   "source": [
    "### 去掉无意义变量"
   ]
  },
  {
   "cell_type": "markdown",
   "metadata": {},
   "source": [
    "这里无意义变量的定义是：变量的某个值（可以是空值）的占比大于99%。\n",
    "\n",
    "比如，如果所有样本的「系统版本」都是Win7，那么「系统版本」这个变量就没有意义。\n",
    "\n",
    "所以，如果一个变量，99%以上的样本，都是一个值，那么这个变量接近于无意义。"
   ]
  },
  {
   "cell_type": "code",
   "execution_count": null,
   "metadata": {
    "ExecuteTime": {
     "end_time": "2019-04-29T06:03:05.631066Z",
     "start_time": "2019-04-29T06:03:04.534964Z"
    }
   },
   "outputs": [],
   "source": [
    "bad_cols = []\n",
    "for col in df_all.columns:\n",
    "    rate_train = df_all[col].value_counts(normalize=True, dropna=False).values[0]\n",
    "    if rate_train > 0.99:\n",
    "        bad_cols.append(col)\n",
    "\n",
    "df_all = df_all.drop(bad_cols, axis=1)\n",
    "\n",
    "print('Data Shape: ', df_all.shape)\n",
    "print(bad_cols)"
   ]
  },
  {
   "cell_type": "markdown",
   "metadata": {},
   "source": [
    "### 定义数据类型"
   ]
  },
  {
   "cell_type": "markdown",
   "metadata": {},
   "source": [
    "这里是通过EDA(Exploratory Data Analysis)的方式，人工判断的变量类型。\n",
    "\n",
    "总共将变量分为\n",
    "* 数值变量（true_numerical_columns）\n",
    "* 一般的分类变量（categorical_columns）\n",
    "* 类别非常多的分类变量（categorical_columns_high_car）：比如中国的城市（北京、上海、深圳、重庆等等等...）\n",
    "\n",
    "如果你对这次比赛的细节感兴趣，可以再深入研究为什么这样判断。这里就不详细阐述原因了。"
   ]
  },
  {
   "cell_type": "code",
   "execution_count": null,
   "metadata": {
    "ExecuteTime": {
     "end_time": "2019-04-29T06:03:05.750713Z",
     "start_time": "2019-04-29T06:03:05.744779Z"
    }
   },
   "outputs": [],
   "source": [
    "true_numerical_columns = [\n",
    "    'Census_PrimaryDiskTotalCapacity', 'Census_SystemVolumeTotalCapacity',\n",
    "    'Census_TotalPhysicalRAM', 'Census_InternalBatteryNumberOfCharges'\n",
    "]\n",
    "\n",
    "categorical_columns_high_car = [\n",
    "    'Census_FirmwareVersionIdentifier', 'Census_OEMModelIdentifier',\n",
    "    'AVProductStatesIdentifier', 'Census_FirmwareManufacturerIdentifier',\n",
    "    'Census_InternalPrimaryDiagonalDisplaySizeInInches',\n",
    "    'Census_InternalPrimaryDisplayResolutionHorizontal',\n",
    "    'Census_InternalPrimaryDisplayResolutionVertical',\n",
    "    'Census_OEMNameIdentifier', 'Census_ProcessorModelIdentifier',\n",
    "    'CityIdentifier', 'DefaultBrowsersIdentifier', 'OsBuildLab'\n",
    "]\n",
    "\n",
    "categorical_columns = [\n",
    "    c for c in df_all.columns\n",
    "    if c not in (['HasDetections', 'Date'] + true_numerical_columns +\n",
    "                 categorical_columns_high_car)\n",
    "]\n",
    "print(categorical_columns)"
   ]
  },
  {
   "cell_type": "markdown",
   "metadata": {},
   "source": [
    "### 编码 -- Label Encoding "
   ]
  },
  {
   "cell_type": "markdown",
   "metadata": {},
   "source": [
    "因为将使用的模型是[LightGBM](https://lightgbm.readthedocs.io/en/latest/)，所以我们需要对分类变量做编码。\n",
    "\n",
    "这里用的方法是[Label Encoding](http://pandas.pydata.org/pandas-docs/stable/reference/api/pandas.factorize.html)。"
   ]
  },
  {
   "cell_type": "code",
   "execution_count": null,
   "metadata": {
    "ExecuteTime": {
     "end_time": "2019-04-29T06:03:07.677836Z",
     "start_time": "2019-04-29T06:03:05.856434Z"
    }
   },
   "outputs": [],
   "source": [
    "def factor_data(df, col):\n",
    "    df_labeled, _ = df[col].factorize(sort=True)\n",
    "    # MAKE SMALLEST LABEL 1, RESERVE 0\n",
    "    df_labeled += 1\n",
    "    # MAKE NAN LARGEST LABEL\n",
    "    df_labeled = np.where(df_labeled==0, df_labeled.max()+1, df_labeled)\n",
    "    df[col] = df_labeled\n",
    "\n",
    "for col in tqdm(categorical_columns + categorical_columns_high_car):\n",
    "    factor_data(df_all, col) "
   ]
  },
  {
   "cell_type": "markdown",
   "metadata": {},
   "source": [
    "## 构造测试集"
   ]
  },
  {
   "cell_type": "markdown",
   "metadata": {},
   "source": [
    "像刚才提到的，因为没有使用测试集的数据，所以我们需要从训练集中拆分出一个数据集，作为我们的测试集，用于评价我们评估模型的方式是否有效。\n",
    "\n",
    "因为训练集和测试集是根据时间划分的，所以我们从训练集拆分的测试集，同样也根据时间划分。\n",
    "\n",
    "这是为了尽量模拟真实的测试集。"
   ]
  },
  {
   "cell_type": "code",
   "execution_count": null,
   "metadata": {
    "ExecuteTime": {
     "end_time": "2019-04-29T06:03:08.228983Z",
     "start_time": "2019-04-29T06:03:07.804532Z"
    },
    "scrolled": true
   },
   "outputs": [],
   "source": [
    "# 将样本根据时间排序\n",
    "df_all = df_all.sort_values('Date').reset_index(drop=True) \n",
    "df_all.drop(['Date'], axis=1, inplace=True)"
   ]
  },
  {
   "cell_type": "code",
   "execution_count": null,
   "metadata": {
    "ExecuteTime": {
     "end_time": "2019-04-29T06:03:08.316737Z",
     "start_time": "2019-04-29T06:03:08.311786Z"
    }
   },
   "outputs": [],
   "source": [
    "# 将前80%的样本作为训练集，后20%的样本作为测试集\n",
    "df_test = df_all.iloc[int(0.8*len(df_all)):, ]\n",
    "df_train = df_all.iloc[:int(0.8*len(df_all)), ]"
   ]
  },
  {
   "cell_type": "markdown",
   "metadata": {},
   "source": [
    "## 对抗验证（Adversarial Validatiion）"
   ]
  },
  {
   "cell_type": "code",
   "execution_count": null,
   "metadata": {
    "ExecuteTime": {
     "end_time": "2019-04-29T06:03:36.156883Z",
     "start_time": "2019-04-29T06:03:08.477280Z"
    },
    "scrolled": true
   },
   "outputs": [],
   "source": [
    "# 定义新的Y\n",
    "df_train['Is_Test'] = 0\n",
    "df_test['Is_Test'] = 1\n",
    "\n",
    "# 将 Train 和 Test 合成一个数据集。HasDetections是数据本来的Y，所以剔除。\n",
    "df_adv = pd.concat([df_train, df_test])\n",
    "\n",
    "adv_data = lgb.Dataset(\n",
    "    data=df_adv.drop('Is_Test', axis=1), label=df_adv.loc[:, 'Is_Test'])\n",
    "\n",
    "# 定义模型参数\n",
    "params = {\n",
    "    'boosting_type': 'gbdt',\n",
    "    'colsample_bytree': 1,\n",
    "    'learning_rate': 0.1,\n",
    "    'max_depth': 5,\n",
    "    'min_child_samples': 100,\n",
    "    'min_child_weight': 1,\n",
    "    'min_split_gain': 0.0,\n",
    "    'num_leaves': 20,\n",
    "    'objective': 'binary',\n",
    "    'random_state': 50,\n",
    "    'subsample': 1.0,\n",
    "    'subsample_freq': 0,\n",
    "    'metric': 'auc',\n",
    "    'num_threads': 8\n",
    "}\n",
    "\n",
    "# 交叉验证\n",
    "adv_cv_results = lgb.cv(\n",
    "    params,\n",
    "    adv_data,\n",
    "    num_boost_round=10000,\n",
    "    nfold=5,\n",
    "    categorical_feature=categorical_columns,\n",
    "    early_stopping_rounds=200,\n",
    "    verbose_eval=True,\n",
    "    seed=42)\n",
    "\n",
    "print('交叉验证中最优的AUC为 {:.5f}，对应的标准差为{:.5f}.'.format(\n",
    "    adv_cv_results['auc-mean'][-1], adv_cv_results['auc-stdv'][-1]))\n",
    "\n",
    "print('模型最优的迭代次数为{}.'.format(len(adv_cv_results['auc-mean'])))"
   ]
  },
  {
   "cell_type": "markdown",
   "metadata": {},
   "source": [
    "通过对抗验证，我们发现模型的AUC达到了0.99。说明本次比赛的训练集和测试集的样本分布存在较大的差异。\n",
    "\n",
    "然后，我们使用训练好的模型，对所有的样本进行预测，得到各个样本属于测试集的概率。这个之后会用到。"
   ]
  },
  {
   "cell_type": "code",
   "execution_count": null,
   "metadata": {
    "ExecuteTime": {
     "end_time": "2019-04-29T06:03:39.831018Z",
     "start_time": "2019-04-29T06:03:36.415071Z"
    }
   },
   "outputs": [],
   "source": [
    "params['n_estimators'] = len(adv_cv_results['auc-mean'])\n",
    "\n",
    "model_adv = lgb.LGBMClassifier(**params)\n",
    "model_adv.fit(df_adv.drop('Is_Test', axis=1), df_adv.loc[:, 'Is_Test'])\n",
    "\n",
    "preds_adv = model_adv.predict_proba(df_adv.drop('Is_Test', axis=1))[:, 1]"
   ]
  },
  {
   "cell_type": "markdown",
   "metadata": {
    "ExecuteTime": {
     "end_time": "2019-04-25T08:46:01.150039Z",
     "start_time": "2019-04-25T08:46:01.146049Z"
    }
   },
   "source": [
    "## 交叉验证（Cross Validation）"
   ]
  },
  {
   "cell_type": "markdown",
   "metadata": {},
   "source": [
    "现在我们知道了训练集和测试集的分布存在很大的差异。那么接下来，我们采用交叉验证的方法，来评估模型的效果。"
   ]
  },
  {
   "cell_type": "code",
   "execution_count": null,
   "metadata": {
    "ExecuteTime": {
     "end_time": "2019-04-29T06:03:40.103273Z",
     "start_time": "2019-04-29T06:03:40.090341Z"
    }
   },
   "outputs": [],
   "source": [
    "def run_cv(df_train, sample_weight=None):\n",
    "    if sample_weight is not None:\n",
    "        train_set = lgb.Dataset(\n",
    "            df_train.drop('HasDetections', axis=1),\n",
    "            label=df_train.loc[:, 'HasDetections'], weight=sample_weight)\n",
    "\n",
    "    else:\n",
    "        train_set = lgb.Dataset(\n",
    "            df_train.drop('HasDetections', axis=1),\n",
    "            label=df_train.loc[:, 'HasDetections'])\n",
    "\n",
    "    # Perform cross validation with early stopping\n",
    "    params.pop('n_estimators', None)\n",
    "    \n",
    "    N_FOLDS = 5\n",
    "    cv_results = lgb.cv(\n",
    "        params,\n",
    "        train_set,\n",
    "        num_boost_round=10000,\n",
    "        nfold=N_FOLDS,\n",
    "        categorical_feature=categorical_columns,\n",
    "        early_stopping_rounds=200,\n",
    "        verbose_eval=True,\n",
    "        seed=42)\n",
    "\n",
    "    print('交叉验证中最优的AUC为 {:.5f}，对应的标准差为{:.5f}.'.format(\n",
    "        cv_results['auc-mean'][-1], cv_results['auc-stdv'][-1]))\n",
    "\n",
    "    print('模型最优的迭代次数为{}.'.format(len(cv_results['auc-mean'])))\n",
    "\n",
    "    params['n_estimators'] = len(cv_results['auc-mean'])\n",
    "\n",
    "    model_cv = lgb.LGBMClassifier(**params)\n",
    "    model_cv.fit(df_train.drop('HasDetections', axis=1),\n",
    "                 df_train.loc[:, 'HasDetections'])\n",
    "\n",
    "    # AUC\n",
    "    preds_test_cv = model_cv.predict_proba(\n",
    "        df_test.drop('HasDetections', axis=1))[:, 1]\n",
    "    auc_test_cv = roc_auc_score(df_test.loc[:, 'HasDetections'], preds_test_cv)\n",
    "    print('模型在测试集上的效果是{:.5f}。'.format(\n",
    "        auc_test_cv))\n",
    "\n",
    "    return model_cv"
   ]
  },
  {
   "cell_type": "code",
   "execution_count": null,
   "metadata": {
    "ExecuteTime": {
     "end_time": "2019-04-29T06:04:07.571713Z",
     "start_time": "2019-04-29T06:03:40.337644Z"
    },
    "scrolled": true
   },
   "outputs": [],
   "source": [
    "model_cv = run_cv(df_train)"
   ]
  },
  {
   "cell_type": "markdown",
   "metadata": {},
   "source": [
    "使用交叉验证的方式来评估模型效果：\n",
    "\n",
    "* 交叉验证AUC：0.70144\n",
    "* 测试集上AUC：0.66980\n",
    "* 差值：0.03\n",
    "\n",
    "交叉验证和测试集上的AUC差值较大，说明交叉验证的方式不太能准确评估模型在测试集上的效果。 \n",
    "\n",
    "我们再来来试一下其他方法，对比看看。"
   ]
  },
  {
   "cell_type": "markdown",
   "metadata": {},
   "source": [
    "## 在变量分布变化的情况下，除了交叉验证，还有哪些更优的方法？"
   ]
  },
  {
   "cell_type": "markdown",
   "metadata": {},
   "source": [
    "### 人工划分验证集"
   ]
  },
  {
   "cell_type": "code",
   "execution_count": null,
   "metadata": {
    "ExecuteTime": {
     "end_time": "2019-04-29T06:04:07.817105Z",
     "start_time": "2019-04-29T06:04:07.808055Z"
    }
   },
   "outputs": [],
   "source": [
    "def run_lgb(df_train, df_validation):\n",
    "    dtrain = lgb.Dataset(\n",
    "        data=df_train.drop('HasDetections', axis=1),\n",
    "        label=df_train.loc[:, 'HasDetections'],\n",
    "        free_raw_data=False,\n",
    "        silent=True)\n",
    "\n",
    "    dvalid = lgb.Dataset(\n",
    "        data=df_validation.drop('HasDetections', axis=1),\n",
    "        label=df_validation.loc[:, 'HasDetections'],\n",
    "        free_raw_data=False,\n",
    "        silent=True)\n",
    "\n",
    "    params.pop('n_estimators', None)\n",
    "\n",
    "    clf = lgb.train(\n",
    "        params=params,\n",
    "        train_set=dtrain,\n",
    "        num_boost_round=10000,\n",
    "        valid_sets=[dtrain, dvalid],\n",
    "        early_stopping_rounds=200,\n",
    "        verbose_eval=True,\n",
    "        categorical_feature=categorical_columns)\n",
    "\n",
    "    params['n_estimators'] = clf.num_trees()\n",
    "\n",
    "    model = lgb.LGBMClassifier(**params)\n",
    "    model.fit(\n",
    "        df_train.drop('HasDetections', axis=1),\n",
    "        df_train.loc[:, 'HasDetections'])\n",
    "\n",
    "    # AUC\n",
    "    preds_test = model.predict_proba(\n",
    "        df_test.drop('HasDetections', axis=1))[:, 1]\n",
    "    auc_test = roc_auc_score(df_test.loc[:, 'HasDetections'], preds_test)\n",
    "    print('模型在测试集上的效果是{:.5f}。'.format(\n",
    "        roc_auc_score(df_test.loc[:, 'HasDetections'], preds_test)))\n",
    "    return model"
   ]
  },
  {
   "cell_type": "code",
   "execution_count": null,
   "metadata": {
    "ExecuteTime": {
     "end_time": "2019-04-29T06:04:08.033489Z",
     "start_time": "2019-04-29T06:04:08.027499Z"
    }
   },
   "outputs": [],
   "source": [
    "# 之前已经用Date进行了排序，所以提取出后20%的样本作为验证集。\n",
    "df_validation_1 = df_train.iloc[int(0.8 * len(df_train)):, ]\n",
    "df_train_1 = df_train.iloc[:int(0.8 * len(df_train)), ]"
   ]
  },
  {
   "cell_type": "code",
   "execution_count": null,
   "metadata": {
    "ExecuteTime": {
     "end_time": "2019-04-29T06:04:29.849132Z",
     "start_time": "2019-04-29T06:04:08.334693Z"
    },
    "scrolled": true
   },
   "outputs": [],
   "source": [
    "model_1 = run_lgb(df_train_1, df_validation_1)"
   ]
  },
  {
   "cell_type": "markdown",
   "metadata": {},
   "source": [
    "使用人工划分验证集的方式来评估模型效果：\n",
    "\n",
    "* 验证集AUC：0.676554\n",
    "* 测试集上AUC：0.67228\n",
    "* 差值：0.004\n",
    "\n",
    "验证集和测试集上的AUC非常接近，说明人工划分的验证集，更能够评估模型在测试集上的效果。\n",
    "\n",
    "这是因为人工划分的验证集，比起交叉验证的方式，和测试集更相似。"
   ]
  },
  {
   "cell_type": "markdown",
   "metadata": {
    "ExecuteTime": {
     "end_time": "2019-04-26T03:41:10.240488Z",
     "start_time": "2019-04-26T03:41:10.232680Z"
    }
   },
   "source": [
    "### 和测试集最相似的样本作为验证集"
   ]
  },
  {
   "cell_type": "code",
   "execution_count": null,
   "metadata": {
    "ExecuteTime": {
     "end_time": "2019-04-29T06:04:30.502212Z",
     "start_time": "2019-04-29T06:04:30.151455Z"
    }
   },
   "outputs": [],
   "source": [
    "# 提取出训练集上，样本是测试集的概率\n",
    "df_train_copy = df_train.copy()\n",
    "df_train_copy['is_test_prob'] = preds_adv[:len(df_train)]\n",
    "\n",
    "# 根据概率排序\n",
    "df_train_copy = df_train_copy.sort_values('is_test_prob').reset_index(drop=True)\n",
    "\n",
    "# 将概率最大的20%作为验证集\n",
    "df_validation_2 = df_train_copy.iloc[int(0.8 * len(df_train)):, ]\n",
    "df_train_2 = df_train_copy.iloc[:int(0.8 * len(df_train)), ]\n",
    "\n",
    "df_validation_2.drop('is_test_prob', axis=1, inplace=True)\n",
    "df_train_2.drop('is_test_prob', axis=1, inplace=True)"
   ]
  },
  {
   "cell_type": "code",
   "execution_count": null,
   "metadata": {
    "ExecuteTime": {
     "end_time": "2019-04-29T06:04:39.705331Z",
     "start_time": "2019-04-29T06:04:30.929888Z"
    },
    "scrolled": true
   },
   "outputs": [],
   "source": [
    "model_2 = run_lgb(df_train_2, df_validation_2)"
   ]
  },
  {
   "cell_type": "markdown",
   "metadata": {},
   "source": [
    "使用这种方式来评估模型效果：\n",
    "\n",
    "* 验证集AUC：0.665711\n",
    "* 测试集上AUC：0.66196\n",
    "* 差值：0.003\n",
    "\n",
    "差值同样远小于交叉验证的方式。"
   ]
  },
  {
   "cell_type": "markdown",
   "metadata": {},
   "source": [
    "### 有权重的交叉验证 "
   ]
  },
  {
   "cell_type": "code",
   "execution_count": null,
   "metadata": {
    "ExecuteTime": {
     "end_time": "2019-04-29T06:05:18.303086Z",
     "start_time": "2019-04-29T06:04:49.814920Z"
    },
    "scrolled": true
   },
   "outputs": [],
   "source": [
    "model_cv_wight = run_cv(df_train, sample_weight=preds_adv[:len(df_train)])"
   ]
  },
  {
   "cell_type": "markdown",
   "metadata": {},
   "source": [
    "使用有权重的交叉验证来评估模型效果：\n",
    "\n",
    "* 有权重的交叉验证AUC：0.66511\n",
    "* 测试集上AUC：0.66295\n",
    "* 差值：0.002\n",
    "\n",
    "差值同样小于交叉验证的方式。"
   ]
  },
  {
   "cell_type": "markdown",
   "metadata": {},
   "source": [
    "## 对比各种方法效果"
   ]
  },
  {
   "cell_type": "markdown",
   "metadata": {},
   "source": [
    "分别使用上述提到的总共4种方法，我们来对比一下四种方法的效果，如下表："
   ]
  },
  {
   "cell_type": "markdown",
   "metadata": {
    "ExecuteTime": {
     "end_time": "2019-04-26T14:33:04.671619Z",
     "start_time": "2019-04-26T14:33:04.667834Z"
    }
   },
   "source": [
    "![对比表格](./images/Validation_Chart.png)"
   ]
  },
  {
   "cell_type": "markdown",
   "metadata": {},
   "source": [
    "使用交叉验证时，验证集AUC和测试集AUC的差值是最大的，远高于其他方式。说明在样本分布发生变化时，交叉验证不能够准确评估模型在测试集上的效果。"
   ]
  },
  {
   "cell_type": "markdown",
   "metadata": {},
   "source": [
    "## 为什么评价方式是差值，而不是测试集AUC？"
   ]
  },
  {
   "cell_type": "markdown",
   "metadata": {
    "ExecuteTime": {
     "end_time": "2019-04-27T16:19:16.386378Z",
     "start_time": "2019-04-27T16:19:16.377511Z"
    }
   },
   "source": [
    "有人可能会提到，哪种方法在测试集上的AUC最高，哪种方法就更好，不是吗？\n",
    "\n",
    "需要注意的是，本文讨论的不是“提升”模型效果的方法，而是“评估”模型效果的方法。\n",
    "\n",
    "具体来说，虽然目前看来，比如交叉验证在测试集上的AUC，略高于有权重的交叉验证。\n",
    "\n",
    "但是，当前的模型只是一个很基础的模型（Baseline Model），没有做任何的变量筛选，特征工程，以及模型调参。\n",
    "\n",
    "由于所有的优化模型的决定，都将基于验证集，而在变量分布变化的情况下，交叉验证无法准确评估模型在测试集上的效果，所以这将导致，很多优化模型的决定是错误的。\n",
    "\n",
    "只有在有一个可靠的验证集的情况下，任何提升模型在测试集上效果的方法，我们才有信心认为，它也可以提升在测试集上的表现。\n",
    "\n",
    "另外，其实从本次比赛的结果，我们也可以发现，最终排名很好的参赛者，都没有使用交叉验证。"
   ]
  },
  {
   "cell_type": "markdown",
   "metadata": {
    "ExecuteTime": {
     "end_time": "2019-04-28T06:22:24.992359Z",
     "start_time": "2019-04-28T06:22:24.985119Z"
    }
   },
   "source": [
    "# 结论"
   ]
  },
  {
   "cell_type": "markdown",
   "metadata": {
    "ExecuteTime": {
     "end_time": "2019-04-29T06:05:46.790225Z",
     "start_time": "2019-04-29T06:05:46.785341Z"
    }
   },
   "source": [
    "在样本分布发生变化时，交叉验证不能够准确评估模型在测试集上的效果。\n",
    "\n",
    "这里建议采用其他方式：\n",
    "\n",
    "* 人工划分验证集\n",
    "* 和测试集最相似的样本作为验证集\n",
    "* 有权重的交叉验证\n",
    "\n",
    "如果你有任何疑问或者建议，欢迎通过“机器学习小站”公众号留言，或者qiuyan.liu918@gmail.com联系我。"
   ]
  }
 ],
 "metadata": {
  "kernelspec": {
   "display_name": "Python 3",
   "language": "python",
   "name": "python3"
  },
  "language_info": {
   "codemirror_mode": {
    "name": "ipython",
    "version": 3
   },
   "file_extension": ".py",
   "mimetype": "text/x-python",
   "name": "python",
   "nbconvert_exporter": "python",
   "pygments_lexer": "ipython3",
   "version": "3.7.1"
  },
  "toc": {
   "base_numbering": 1,
   "nav_menu": {},
   "number_sections": true,
   "sideBar": true,
   "skip_h1_title": false,
   "title_cell": "Table of Contents",
   "title_sidebar": "Contents",
   "toc_cell": false,
   "toc_position": {
    "height": "397.92px",
    "left": "142px",
    "top": "111.12px",
    "width": "165px"
   },
   "toc_section_display": true,
   "toc_window_display": true
  },
  "varInspector": {
   "cols": {
    "lenName": 16,
    "lenType": 16,
    "lenVar": 40
   },
   "kernels_config": {
    "python": {
     "delete_cmd_postfix": "",
     "delete_cmd_prefix": "del ",
     "library": "var_list.py",
     "varRefreshCmd": "print(var_dic_list())"
    },
    "r": {
     "delete_cmd_postfix": ") ",
     "delete_cmd_prefix": "rm(",
     "library": "var_list.r",
     "varRefreshCmd": "cat(var_dic_list()) "
    }
   },
   "position": {
    "height": "284.12px",
    "left": "724.8px",
    "right": "20px",
    "top": "98px",
    "width": "457.72px"
   },
   "types_to_exclude": [
    "module",
    "function",
    "builtin_function_or_method",
    "instance",
    "_Feature"
   ],
   "window_display": false
  }
 },
 "nbformat": 4,
 "nbformat_minor": 2
}
